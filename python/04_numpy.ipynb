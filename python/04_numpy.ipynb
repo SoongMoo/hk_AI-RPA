{
 "cells": [
  {
   "cell_type": "code",
   "execution_count": 3,
   "id": "8a83da32",
   "metadata": {},
   "outputs": [
    {
     "name": "stdout",
     "output_type": "stream",
     "text": [
      "3\n"
     ]
    }
   ],
   "source": [
    "### python 기본자료형 : 정수, 실수, 문자열, 부울, 리스트, 튜플, 딕셔너리(map), 집합\n",
    "###### numpy ##### 숫자 배열\n",
    "import numpy\n",
    "num = numpy.random.randint(10)\n",
    "print(num)"
   ]
  },
  {
   "cell_type": "code",
   "execution_count": 4,
   "id": "97ae2ef8",
   "metadata": {},
   "outputs": [
    {
     "name": "stdout",
     "output_type": "stream",
     "text": [
      "1\n"
     ]
    }
   ],
   "source": [
    "import numpy as np\n",
    "num = np.random.randint(10)\n",
    "print(num)"
   ]
  },
  {
   "cell_type": "code",
   "execution_count": null,
   "id": "12eae9d4",
   "metadata": {},
   "outputs": [],
   "source": [
    "# 1차원 배열 (0 ~ 9사이의 값을 가지는 )\n",
    "num1 = np.random.randint(10, size=6) #크기 6인 1차원 배열\n",
    "print(num1)"
   ]
  },
  {
   "cell_type": "code",
   "execution_count": null,
   "id": "5a3e962b",
   "metadata": {},
   "outputs": [],
   "source": [
    "l = [0,0,0,5,9,2]\n",
    "print(l) # [0, 0, 0, 5, 9, 2]\n",
    "#           0  1  2  3  4  5\n",
    "print(num1) # [0 0 0 5 9 2] \n",
    "#              0 1 2 3 4 5\n",
    "print(l[0])\n",
    "print(num1[0])\n",
    "print(l[1:3])\n",
    "print(num1[1:3])"
   ]
  },
  {
   "cell_type": "code",
   "execution_count": null,
   "id": "0fab5ae5",
   "metadata": {},
   "outputs": [],
   "source": [
    "# 2차원\n",
    "num2 = np.random.randint(10, size=(3,4))\n",
    "print(num2) #[[9 7 4 2][9 2 2 3][9 4 0 8]]\n",
    "#                 0         1        2\n",
    "#              0 1 2 3  0 1 2 3  0 1 2 3\n",
    "l2 = [[9, 7, 4, 2],[9, 2, 2, 3],[9, 4, 0, 8]]\n",
    "#          0            1            2\n",
    "#         -3            2            1\n",
    "#      0  1   2  3  0  1  2  3   0  1  2  3\n",
    "#     -4  3   2  1  4  3  2  1   4  3  2  1\n",
    "print(l2)\n",
    "print(l2[2][2])\n",
    "print(num2[2][2])\n",
    "print(l2[-1][-3])\n",
    "print(num2[-1][-3])"
   ]
  },
  {
   "cell_type": "code",
   "execution_count": null,
   "id": "a24c498c",
   "metadata": {},
   "outputs": [],
   "source": [
    "# [0 0 0 5 9 2]\n",
    "#  0 1 2 3 4 5\n",
    "# -6 5 4 3 2 1\n",
    "print(num1)\n",
    "print(l)\n",
    "print(num1[3])\n",
    "print(num1[-3])\n",
    "print(l[3])\n",
    "print(l[-3])\n",
    "## slicing\n",
    "print(l[1:1+4])\n",
    "print(num1[1:1+4])\n",
    "print(l[0:6])\n",
    "print(num1[0:6])\n",
    "print(l[0:6:2])\n",
    "print(num1[0:6:2])\n",
    "print(l[::2])\n",
    "print(num1[::2])\n",
    "print(l[::-1])\n",
    "print(num1[::-1])\n",
    "l[3] = 10\n",
    "num1[3] = 10\n",
    "print(l)\n",
    "print(num1)"
   ]
  },
  {
   "cell_type": "code",
   "execution_count": null,
   "id": "21a026d6",
   "metadata": {},
   "outputs": [],
   "source": [
    "print(l2)\n",
    "# [[9, 7, 4, 2], [9, 2, 2, 3], [9, 4, 0, 8]]\n",
    "#       0              1             2             :index\n",
    "#    -  3              2             1\n",
    "#   0  1  2  3    0  1  2  3    0  1  2  3         :index\n",
    "#  -4  3  2  1    4  3  2  1    4  3  2  1\n",
    "print(num2)\n",
    "# [[4 3 4 5][3 1 9 9][2 0 5 6]]\n",
    "#      0        1        2       : 행\n",
    "#   0 1 2 3  0 1 2 3  0 1 2 3    : 열\n",
    "#[[4 3 4 5]     0행\n",
    "# [3 1 9 9]     1행\n",
    "# [2 0 5 6]]    2행\n",
    "#  1 2 3 4열\n",
    "print(l2[1][2])\n",
    "print(num2[1][2]) \n",
    "print(num2[1 , 2]) # [행,열]\n",
    "#print(l2[1, 2])\n",
    "print(l2[-2][-2])\n",
    "print(num2[-2][-2])\n",
    "print(num2[-2, -2])"
   ]
  },
  {
   "cell_type": "code",
   "execution_count": null,
   "id": "2242e665",
   "metadata": {},
   "outputs": [],
   "source": [
    "n1 = np.random.randint(10, size=4) # 1차원배열\n",
    "n2 = np.random.randint(10, size=(1,4)) # 2차원배열\n",
    "n3 = np.random.randint(10, size=(1,1,4)) # 3차원배열\n",
    "print(n1) # [6 6 4 2]\n",
    "print(n2) # [[7 2 4 6]]\n",
    "print(n3) # [[[6 0 4 9]]]\n",
    "print(n1[1])\n",
    "print(n2[0,1])\n",
    "print(n3[0,0,1])"
   ]
  },
  {
   "cell_type": "code",
   "execution_count": null,
   "id": "40b86b50",
   "metadata": {},
   "outputs": [],
   "source": [
    "print(l2)\n",
    "# [[9, 7, 4, 2], \n",
    "#  [9, 2, 2, 3], \n",
    "#  [9, 4, 0, 8]]\n",
    "print(num2)\n",
    "# [[4 3 4 5]\n",
    "# [3 1 9 9]\n",
    "# [2 0 5 6]]\n",
    "print(l2[1]) # [9, 2, 2, 3]\n",
    "print(num2[1]) # [3 1 9 9]\n",
    "print(l2[1][1:3])\n",
    "print(num2[1][1:3])\n",
    "print(num2[1, 1:3])\n",
    "print(l2[0:2])\n",
    "print(num2[0:2])"
   ]
  },
  {
   "cell_type": "code",
   "execution_count": null,
   "id": "b07b0c18",
   "metadata": {},
   "outputs": [],
   "source": [
    "''' l2, num2\n",
    "[[9, 7, 4, 2], \n",
    " [9, 2, 2, 3], \n",
    " [9, 4, 0, 8]]\n",
    "'''\n",
    "print(l2[1][0:2])\n",
    "print(num2[1][0:2])\n",
    "print(l2[0:2])\n",
    "print(num2[0:2])\n",
    "print(num2[0:2, 1:3]) # [[3 4][1 9]]\n",
    "print(num2[0:2][1:3]) # [[3 1 9 9]]\n",
    "print(l2[0:2][1:3]) # [[3 1 9 9]]\n",
    "print(l2[0][::2])\n",
    "print(num2[0][::2])\n",
    "print(num2[0, ::2])\n",
    "print(l2[::2][::2]) #[[9, 7, 4, 2]]\n",
    "print(num2[::2][::2]) #[[4 3 4 5]]\n",
    "print(num2[::2, ::2]) # [[4 4][2 5]]\n",
    "### 모든 행에서 열을 한칸씩 건너 띄우기\n",
    "print(num2[: , ::2])\n",
    "### 행을 한칸씩 건너 띄우고 열은 모두 출력\n",
    "print(num2[::2, :])\n",
    "\n",
    "\n",
    "print(l2[::-1])\n",
    "print(num2[::-1])\n",
    "\n",
    "print(l2)\n",
    "print(l2[:][::-1])\n",
    "print(num2[:][::-1])\n",
    "print(num2[: , ::-1])\n",
    "\n",
    "print(num2)\n",
    "print(num2[::-1, ::-1])\n",
    "\n",
    "print(l2[:][0])\n",
    "print(num2[:][0])\n",
    "print(num2[: , 0])\n",
    "print(num2[: , 2])\n",
    "l2[0][1] = 10\n",
    "num2[0][1] = 10\n",
    "num2[0, 1] = 10"
   ]
  },
  {
   "cell_type": "code",
   "execution_count": null,
   "id": "a2a4b789",
   "metadata": {},
   "outputs": [],
   "source": [
    "### 배열을 만드는 3가지 방법\n",
    "##1. random함수를 이용하는 방법\n",
    "i = np.random.randint(10, size=(2,3))\n",
    "##2. arange함수를 이용하는 방법\n",
    "i2 = np.arange(9).reshape(3, 3)\n",
    "print(i2)\n",
    "#i2 = np.arange(9).reshape(2,3)\n",
    "\n",
    "i3 = np.arange(12).reshape(3,4)\n",
    "print(i3)\n",
    "i3 = np.arange(12).reshape(4,3)\n",
    "print(i3)\n",
    "\n",
    "i4 = np.arange(11,20).reshape(3,3)\n",
    "print(i4)\n",
    "\n",
    "# 1~3까지의 수를 가지는 1행짜리 2차원배열\n",
    "i5 = np.arange(1, 4).reshape(1,3)\n",
    "print(i5)\n",
    "# 1~3까지의 수를 가지는 3행짜리 2차원배열\n",
    "i5 = np.arange(1, 4).reshape(3,1)\n",
    "print(i5)"
   ]
  },
  {
   "cell_type": "code",
   "execution_count": null,
   "id": "ed873704",
   "metadata": {},
   "outputs": [],
   "source": [
    "#3. array함수를 이용하는 방법\n",
    "i6 = np.array([2,4,5])\n",
    "print(i6)\n",
    "i6 = np.array((2,4,5))\n",
    "print(i6)\n",
    "i7 = np.array([[1,2,3],[4,5,6],[7,8,9]])\n",
    "print(i7)\n",
    "i8 = np.array(\n",
    "    [[[1,2,3],[4,5,6],[7,8,9]],\n",
    "     [[1,2,3],[4,5,6],[7,8,9]],\n",
    "     [[1,2,3],[4,5,6],[7,8,9]]   \n",
    "    ])\n",
    "print(i8)\n",
    "print(i6[2]) # [열]\n",
    "print(i7[1,2]) # [행, 열]\n",
    "print(i8[0,1,2]) # [면, 행, 열]"
   ]
  },
  {
   "cell_type": "code",
   "execution_count": null,
   "id": "25ae8853",
   "metadata": {},
   "outputs": [],
   "source": [
    "ll1 = [1,2,3]\n",
    "ll2 = [4,5,6]\n",
    "ll3 = ll1 + ll2\n",
    "print(ll3)"
   ]
  },
  {
   "cell_type": "code",
   "execution_count": null,
   "id": "d1b0f308",
   "metadata": {},
   "outputs": [],
   "source": [
    "array1 = np.array([1,2,3])\n",
    "array2 = np.array([4,5,6])\n",
    "array3 = array1 + array2\n",
    "print(array3) # 배열에서는 열끼리 덧셈 연산\n",
    "array3 = np.concatenate((array1 , array2))\n",
    "print(array3)\n",
    "print(array1)\n",
    "print(array2)\n",
    "z = [7,8,9]\n",
    "array3 = np.concatenate((array1 , array2, z))\n",
    "print(array3)\n",
    "array3 = np.concatenate(([1,2,3] , [4,5,6], [7,8,9]))\n",
    "print(array3)\n",
    "array3 = np.concatenate(([1,2,3] , [4], [8,9]))\n",
    "print(array3)"
   ]
  },
  {
   "cell_type": "code",
   "execution_count": 5,
   "id": "c1802454",
   "metadata": {},
   "outputs": [
    {
     "name": "stdout",
     "output_type": "stream",
     "text": [
      "[[9 8 7]\n",
      " [6 5 4]\n",
      " [9 8 7]\n",
      " [6 5 4]]\n",
      "[[9 8 7]\n",
      " [6 5 4]\n",
      " [9 8 7]\n",
      " [6 5 4]]\n",
      "[[9 8 7 9 8 7]\n",
      " [6 5 4 6 5 4]]\n",
      "[[9 8 7]\n",
      " [6 5 4]\n",
      " [1 2 3]]\n",
      "[[ 9  8  7 10]\n",
      " [ 6  5  4 20]]\n"
     ]
    }
   ],
   "source": [
    "x2 = np.array([1, 2, 3])\n",
    "grid = np.array([[9, 8, 7], \n",
    "                 [6, 5, 4]])\n",
    "grid1 = np.array([[9, 8, 7], \n",
    "                 [6, 5, 4]])\n",
    "\n",
    "# z = np.concatenate((x2,grid1), axis=0)\n",
    "# 차원의 크기가 같아야 한다.]\n",
    "z = np.concatenate((grid,grid1)) # axis=0은 기본값\n",
    "print(z)\n",
    "z = np.concatenate((grid,grid1), axis=0)\n",
    "print(z)\n",
    "z = np.concatenate((grid,grid1), axis=1)\n",
    "print(z)\n",
    "# 차원이 서로 다른 경우\n",
    "z = np.vstack([grid,x2])\n",
    "print(z)\n",
    "x3 = [[10],[20]]\n",
    "z = np.hstack([grid,x3])\n",
    "print(z)"
   ]
  },
  {
   "cell_type": "code",
   "execution_count": null,
   "id": "abfba22d",
   "metadata": {},
   "outputs": [],
   "source": []
  },
  {
   "cell_type": "code",
   "execution_count": null,
   "id": "2ee319dc",
   "metadata": {},
   "outputs": [],
   "source": []
  }
 ],
 "metadata": {
  "kernelspec": {
   "display_name": "Python 3 (ipykernel)",
   "language": "python",
   "name": "python3"
  },
  "language_info": {
   "codemirror_mode": {
    "name": "ipython",
    "version": 3
   },
   "file_extension": ".py",
   "mimetype": "text/x-python",
   "name": "python",
   "nbconvert_exporter": "python",
   "pygments_lexer": "ipython3",
   "version": "3.8.10"
  }
 },
 "nbformat": 4,
 "nbformat_minor": 5
}
