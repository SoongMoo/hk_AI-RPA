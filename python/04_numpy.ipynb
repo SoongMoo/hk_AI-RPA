{
 "cells": [
  {
   "cell_type": "code",
   "execution_count": 1,
   "id": "8a83da32",
   "metadata": {},
   "outputs": [
    {
     "name": "stderr",
     "output_type": "stream",
     "text": [
      "C:\\Users\\HKEDU\\AppData\\Local\\Temp\\ipykernel_20904\\2103804404.py:1: DeprecationWarning: Importing display from IPython.core.display is deprecated since IPython 7.14, please import from IPython display\n",
      "  from IPython.core.display import display, HTML\n"
     ]
    },
    {
     "data": {
      "text/html": [
       "<style>\n",
       "div.container { width:100% !important; }\n",
       "div.CodeMirror {font-family: Consolas; font-size: 25pt;}\n",
       "div.output { font-size: 16pt; font-weight: bold;}\n",
       "div.input { font-family: Consolas; font-size: 25pt;}\n",
       "div.prompt { min-width: 100px;}\n",
       "</style>\n"
      ],
      "text/plain": [
       "<IPython.core.display.HTML object>"
      ]
     },
     "metadata": {},
     "output_type": "display_data"
    }
   ],
   "source": [
    "from IPython.core.display import display, HTML\n",
    "display(HTML(\n",
    "\"\"\"<style>\n",
    "div.container { width:100% !important; }\n",
    "div.CodeMirror {font-family: Consolas; font-size: 25pt;}\n",
    "div.output { font-size: 16pt; font-weight: bold;}\n",
    "div.input { font-family: Consolas; font-size: 25pt;}\n",
    "div.prompt { min-width: 100px;}\n",
    "</style>\n",
    "\"\"\"))"
   ]
  },
  {
   "cell_type": "code",
   "execution_count": null,
   "id": "3581455b",
   "metadata": {},
   "outputs": [],
   "source": [
    "### python 기본자료형 : 정수, 실수, 문자열, 부울, 리스트, 튜플, 딕셔너리(map), 집합\n",
    "###### numpy ##### 숫자 배열\n",
    "import numpy\n",
    "num = numpy.random.randint(10)\n",
    "print(num)"
   ]
  },
  {
   "cell_type": "code",
   "execution_count": 4,
   "id": "97ae2ef8",
   "metadata": {},
   "outputs": [
    {
     "name": "stdout",
     "output_type": "stream",
     "text": [
      "1\n"
     ]
    }
   ],
   "source": [
    "import numpy as np\n",
    "num = np.random.randint(10)\n",
    "print(num)"
   ]
  },
  {
   "cell_type": "code",
   "execution_count": null,
   "id": "12eae9d4",
   "metadata": {},
   "outputs": [],
   "source": [
    "# 1차원 배열 (0 ~ 9사이의 값을 가지는 )\n",
    "num1 = np.random.randint(10, size=6) #크기 6인 1차원 배열\n",
    "print(num1)"
   ]
  },
  {
   "cell_type": "code",
   "execution_count": null,
   "id": "5a3e962b",
   "metadata": {},
   "outputs": [],
   "source": [
    "l = [0,0,0,5,9,2]\n",
    "print(l) # [0, 0, 0, 5, 9, 2]\n",
    "#           0  1  2  3  4  5\n",
    "print(num1) # [0 0 0 5 9 2] \n",
    "#              0 1 2 3 4 5\n",
    "print(l[0])\n",
    "print(num1[0])\n",
    "print(l[1:3])\n",
    "print(num1[1:3])"
   ]
  },
  {
   "cell_type": "code",
   "execution_count": null,
   "id": "0fab5ae5",
   "metadata": {},
   "outputs": [],
   "source": [
    "# 2차원\n",
    "num2 = np.random.randint(10, size=(3,4))\n",
    "print(num2) #[[9 7 4 2][9 2 2 3][9 4 0 8]]\n",
    "#                 0         1        2\n",
    "#              0 1 2 3  0 1 2 3  0 1 2 3\n",
    "l2 = [[9, 7, 4, 2],[9, 2, 2, 3],[9, 4, 0, 8]]\n",
    "#          0            1            2\n",
    "#         -3            2            1\n",
    "#      0  1   2  3  0  1  2  3   0  1  2  3\n",
    "#     -4  3   2  1  4  3  2  1   4  3  2  1\n",
    "print(l2)\n",
    "print(l2[2][2])\n",
    "print(num2[2][2])\n",
    "print(l2[-1][-3])\n",
    "print(num2[-1][-3])"
   ]
  },
  {
   "cell_type": "code",
   "execution_count": null,
   "id": "a24c498c",
   "metadata": {},
   "outputs": [],
   "source": [
    "# [0 0 0 5 9 2]\n",
    "#  0 1 2 3 4 5\n",
    "# -6 5 4 3 2 1\n",
    "print(num1)\n",
    "print(l)\n",
    "print(num1[3])\n",
    "print(num1[-3])\n",
    "print(l[3])\n",
    "print(l[-3])\n",
    "## slicing\n",
    "print(l[1:1+4])\n",
    "print(num1[1:1+4])\n",
    "print(l[0:6])\n",
    "print(num1[0:6])\n",
    "print(l[0:6:2])\n",
    "print(num1[0:6:2])\n",
    "print(l[::2])\n",
    "print(num1[::2])\n",
    "print(l[::-1])\n",
    "print(num1[::-1])\n",
    "l[3] = 10\n",
    "num1[3] = 10\n",
    "print(l)\n",
    "print(num1)"
   ]
  },
  {
   "cell_type": "code",
   "execution_count": null,
   "id": "21a026d6",
   "metadata": {},
   "outputs": [],
   "source": [
    "print(l2)\n",
    "# [[9, 7, 4, 2], [9, 2, 2, 3], [9, 4, 0, 8]]\n",
    "#       0              1             2             :index\n",
    "#    -  3              2             1\n",
    "#   0  1  2  3    0  1  2  3    0  1  2  3         :index\n",
    "#  -4  3  2  1    4  3  2  1    4  3  2  1\n",
    "print(num2)\n",
    "# [[4 3 4 5][3 1 9 9][2 0 5 6]]\n",
    "#      0        1        2       : 행\n",
    "#   0 1 2 3  0 1 2 3  0 1 2 3    : 열\n",
    "#[[4 3 4 5]     0행\n",
    "# [3 1 9 9]     1행\n",
    "# [2 0 5 6]]    2행\n",
    "#  1 2 3 4열\n",
    "print(l2[1][2])\n",
    "print(num2[1][2]) \n",
    "print(num2[1 , 2]) # [행,열]\n",
    "#print(l2[1, 2])\n",
    "print(l2[-2][-2])\n",
    "print(num2[-2][-2])\n",
    "print(num2[-2, -2])"
   ]
  },
  {
   "cell_type": "code",
   "execution_count": null,
   "id": "2242e665",
   "metadata": {},
   "outputs": [],
   "source": [
    "n1 = np.random.randint(10, size=4) # 1차원배열\n",
    "n2 = np.random.randint(10, size=(1,4)) # 2차원배열\n",
    "n3 = np.random.randint(10, size=(1,1,4)) # 3차원배열\n",
    "print(n1) # [6 6 4 2]\n",
    "print(n2) # [[7 2 4 6]]\n",
    "print(n3) # [[[6 0 4 9]]]\n",
    "print(n1[1])\n",
    "print(n2[0,1])\n",
    "print(n3[0,0,1])"
   ]
  },
  {
   "cell_type": "code",
   "execution_count": null,
   "id": "40b86b50",
   "metadata": {},
   "outputs": [],
   "source": [
    "print(l2)\n",
    "# [[9, 7, 4, 2], \n",
    "#  [9, 2, 2, 3], \n",
    "#  [9, 4, 0, 8]]\n",
    "print(num2)\n",
    "# [[4 3 4 5]\n",
    "# [3 1 9 9]\n",
    "# [2 0 5 6]]\n",
    "print(l2[1]) # [9, 2, 2, 3]\n",
    "print(num2[1]) # [3 1 9 9]\n",
    "print(l2[1][1:3])\n",
    "print(num2[1][1:3])\n",
    "print(num2[1, 1:3])\n",
    "print(l2[0:2])\n",
    "print(num2[0:2])"
   ]
  },
  {
   "cell_type": "code",
   "execution_count": null,
   "id": "b07b0c18",
   "metadata": {},
   "outputs": [],
   "source": [
    "''' l2, num2\n",
    "[[9, 7, 4, 2], \n",
    " [9, 2, 2, 3], \n",
    " [9, 4, 0, 8]]\n",
    "'''\n",
    "print(l2[1][0:2])\n",
    "print(num2[1][0:2])\n",
    "print(l2[0:2])\n",
    "print(num2[0:2])\n",
    "print(num2[0:2, 1:3]) # [[3 4][1 9]]\n",
    "print(num2[0:2][1:3]) # [[3 1 9 9]]\n",
    "print(l2[0:2][1:3]) # [[3 1 9 9]]\n",
    "print(l2[0][::2])\n",
    "print(num2[0][::2])\n",
    "print(num2[0, ::2])\n",
    "print(l2[::2][::2]) #[[9, 7, 4, 2]]\n",
    "print(num2[::2][::2]) #[[4 3 4 5]]\n",
    "print(num2[::2, ::2]) # [[4 4][2 5]]\n",
    "### 모든 행에서 열을 한칸씩 건너 띄우기\n",
    "print(num2[: , ::2])\n",
    "### 행을 한칸씩 건너 띄우고 열은 모두 출력\n",
    "print(num2[::2, :])\n",
    "\n",
    "\n",
    "print(l2[::-1])\n",
    "print(num2[::-1])\n",
    "\n",
    "print(l2)\n",
    "print(l2[:][::-1])\n",
    "print(num2[:][::-1])\n",
    "print(num2[: , ::-1])\n",
    "\n",
    "print(num2)\n",
    "print(num2[::-1, ::-1])\n",
    "\n",
    "print(l2[:][0])\n",
    "print(num2[:][0])\n",
    "print(num2[: , 0])\n",
    "print(num2[: , 2])\n",
    "l2[0][1] = 10\n",
    "num2[0][1] = 10\n",
    "num2[0, 1] = 10"
   ]
  },
  {
   "cell_type": "code",
   "execution_count": null,
   "id": "a2a4b789",
   "metadata": {},
   "outputs": [],
   "source": [
    "### 배열을 만드는 3가지 방법\n",
    "##1. random함수를 이용하는 방법\n",
    "i = np.random.randint(10, size=(2,3))\n",
    "##2. arange함수를 이용하는 방법\n",
    "i2 = np.arange(9).reshape(3, 3)\n",
    "print(i2)\n",
    "#i2 = np.arange(9).reshape(2,3)\n",
    "\n",
    "i3 = np.arange(12).reshape(3,4)\n",
    "print(i3)\n",
    "i3 = np.arange(12).reshape(4,3)\n",
    "print(i3)\n",
    "\n",
    "i4 = np.arange(11,20).reshape(3,3)\n",
    "print(i4)\n",
    "\n",
    "# 1~3까지의 수를 가지는 1행짜리 2차원배열\n",
    "i5 = np.arange(1, 4).reshape(1,3)\n",
    "print(i5)\n",
    "# 1~3까지의 수를 가지는 3행짜리 2차원배열\n",
    "i5 = np.arange(1, 4).reshape(3,1)\n",
    "print(i5)"
   ]
  },
  {
   "cell_type": "code",
   "execution_count": null,
   "id": "ed873704",
   "metadata": {},
   "outputs": [],
   "source": [
    "#3. array함수를 이용하는 방법\n",
    "i6 = np.array([2,4,5])\n",
    "print(i6)\n",
    "i6 = np.array((2,4,5))\n",
    "print(i6)\n",
    "i7 = np.array([[1,2,3],[4,5,6],[7,8,9]])\n",
    "print(i7)\n",
    "i8 = np.array(\n",
    "    [[[1,2,3],[4,5,6],[7,8,9]],\n",
    "     [[1,2,3],[4,5,6],[7,8,9]],\n",
    "     [[1,2,3],[4,5,6],[7,8,9]]   \n",
    "    ])\n",
    "print(i8)\n",
    "print(i6[2]) # [열]\n",
    "print(i7[1,2]) # [행, 열]\n",
    "print(i8[0,1,2]) # [면, 행, 열]"
   ]
  },
  {
   "cell_type": "code",
   "execution_count": null,
   "id": "25ae8853",
   "metadata": {},
   "outputs": [],
   "source": [
    "ll1 = [1,2,3]\n",
    "ll2 = [4,5,6]\n",
    "ll3 = ll1 + ll2\n",
    "print(ll3)"
   ]
  },
  {
   "cell_type": "code",
   "execution_count": null,
   "id": "d1b0f308",
   "metadata": {},
   "outputs": [],
   "source": [
    "array1 = np.array([1,2,3])\n",
    "array2 = np.array([4,5,6])\n",
    "array3 = array1 + array2\n",
    "print(array3) # 배열에서는 열끼리 덧셈 연산\n",
    "array3 = np.concatenate((array1 , array2))\n",
    "print(array3)\n",
    "print(array1)\n",
    "print(array2)\n",
    "z = [7,8,9]\n",
    "array3 = np.concatenate((array1 , array2, z))\n",
    "print(array3)\n",
    "array3 = np.concatenate(([1,2,3] , [4,5,6], [7,8,9]))\n",
    "print(array3)\n",
    "array3 = np.concatenate(([1,2,3] , [4], [8,9]))\n",
    "print(array3)"
   ]
  },
  {
   "cell_type": "code",
   "execution_count": 5,
   "id": "c1802454",
   "metadata": {},
   "outputs": [
    {
     "name": "stdout",
     "output_type": "stream",
     "text": [
      "[[9 8 7]\n",
      " [6 5 4]\n",
      " [9 8 7]\n",
      " [6 5 4]]\n",
      "[[9 8 7]\n",
      " [6 5 4]\n",
      " [9 8 7]\n",
      " [6 5 4]]\n",
      "[[9 8 7 9 8 7]\n",
      " [6 5 4 6 5 4]]\n",
      "[[9 8 7]\n",
      " [6 5 4]\n",
      " [1 2 3]]\n",
      "[[ 9  8  7 10]\n",
      " [ 6  5  4 20]]\n"
     ]
    }
   ],
   "source": [
    "x2 = np.array([1, 2, 3])\n",
    "grid = np.array([[9, 8, 7], \n",
    "                 [6, 5, 4]])\n",
    "grid1 = np.array([[9, 8, 7], \n",
    "                 [6, 5, 4]])\n",
    "\n",
    "# z = np.concatenate((x2,grid1), axis=0)\n",
    "# 차원의 크기가 같아야 한다.]\n",
    "z = np.concatenate((grid,grid1)) # axis=0은 기본값\n",
    "print(z)\n",
    "z = np.concatenate((grid,grid1), axis=0)\n",
    "print(z)\n",
    "z = np.concatenate((grid,grid1), axis=1)\n",
    "print(z)\n",
    "# 차원이 서로 다른 경우\n",
    "z = np.vstack([grid,x2])\n",
    "print(z)\n",
    "x3 = [[10],[20]]\n",
    "z = np.hstack([grid,x3])\n",
    "print(z)"
   ]
  },
  {
   "cell_type": "code",
   "execution_count": 9,
   "id": "abfba22d",
   "metadata": {},
   "outputs": [
    {
     "name": "stdout",
     "output_type": "stream",
     "text": [
      "[0 1 2 3]\n",
      "[5 5 5 5]\n",
      "[5 6 7 8]\n",
      "[5 6 7 8]\n",
      "[5 6 7 8]\n",
      "[-5 -4 -3 -2]\n",
      "[-5 -4 -3 -2]\n",
      "[ 0  5 10 15]\n"
     ]
    }
   ],
   "source": [
    "import numpy as np\n",
    "# 유니버설 함수(UFuncs)\n",
    "#  [1,2,3,4] \n",
    "#+ [5,5,5,5]\n",
    "x = np.arange(4) # [0 1 2 3]\n",
    "print(x)\n",
    "y = np.array([5,5,5,5])\n",
    "print(y)\n",
    "z = x + y\n",
    "print(z)\n",
    "\n",
    "z = x + 5 # [5,5,5,5] # [0 1 2 3] + [5,5,5,5]\n",
    "print(z)\n",
    "z = np.add(x , 5)\n",
    "print(z)\n",
    "\n",
    "z = x - 5\n",
    "print(z)\n",
    "z = np.subtract(x , 5)\n",
    "print(z)\n",
    "\n",
    "y = x * 5\n",
    "y = np.multiply(x, 5)\n",
    "print(y)"
   ]
  },
  {
   "cell_type": "code",
   "execution_count": 15,
   "id": "3c95c588",
   "metadata": {},
   "outputs": [
    {
     "name": "stdout",
     "output_type": "stream",
     "text": [
      "[0 1 2]\n",
      "[[0]\n",
      " [1]\n",
      " [2]]\n",
      "[[0 1 2]\n",
      " [1 2 3]\n",
      " [2 3 4]]\n",
      "[[1. 1. 1.]\n",
      " [1. 1. 1.]\n",
      " [1. 1. 1.]]\n",
      "[[0. 0. 0.]\n",
      " [0. 0. 0.]\n",
      " [0. 0. 0.]]\n"
     ]
    }
   ],
   "source": [
    "# 브로드케스트 : 서로 다른 타원이 연산을 할 때 같은 차원으로 만들어주는 것\n",
    "a = np.arange(3)\n",
    "print(a)\n",
    "b = np.arange(3)[:, np.newaxis] # 1열짜리 2차원배열\n",
    "print(b)\n",
    "z = a + b  # [0 1 2]   [0][0][0]\n",
    "           # [0 1 2] + [1][1][1]\n",
    "           # [0 1 2]   [2][2][2]\n",
    "print(z)\n",
    "\n",
    "M = np.ones((3,3))\n",
    "print(M)\n",
    "o = np.zeros((3,3))\n",
    "print(o)"
   ]
  },
  {
   "cell_type": "code",
   "execution_count": 19,
   "id": "7ed8702a",
   "metadata": {},
   "outputs": [
    {
     "name": "stdout",
     "output_type": "stream",
     "text": [
      "[1 2 3] [99 99  3] [2 1 3]\n",
      "[1 2 3] [99 99] [3 2] [1 3]\n"
     ]
    }
   ],
   "source": [
    "# 배열 분할하기\n",
    "x = np.array([1, 2, 3, 99, 99, 3, 2, 1, 3])\n",
    "x1,x2,x3 = np.split(x, 3) # 균등하게 분할되지 않으면 오류발생\n",
    "print(x1, x2,x3)\n",
    "\n",
    "x1, x2, x3, x4 = np.split(x, [3,5,7])\n",
    "print(x1, x2, x3, x4)"
   ]
  },
  {
   "cell_type": "code",
   "execution_count": 25,
   "id": "3833ac55",
   "metadata": {},
   "outputs": [
    {
     "name": "stdout",
     "output_type": "stream",
     "text": [
      "[[ 0  1  2  3]\n",
      " [ 4  5  6  7]\n",
      " [ 8  9 10 11]\n",
      " [12 13 14 15]]\n",
      "[[0 1 2 3]\n",
      " [4 5 6 7]]\n",
      "[[ 8  9 10 11]\n",
      " [12 13 14 15]]\n",
      "[[ 0  1]\n",
      " [ 4  5]\n",
      " [ 8  9]\n",
      " [12 13]]\n",
      "[[ 2  3]\n",
      " [ 6  7]\n",
      " [10 11]\n",
      " [14 15]]\n"
     ]
    }
   ],
   "source": [
    "grid = np.arange(16).reshape((4,4))\n",
    "print(grid)\n",
    "y1 , y2 = np.vsplit(grid, [2])\n",
    "print(y1 )\n",
    "print(y2)\n",
    "y1 , y2 = np.hsplit(grid, [2])\n",
    "print(y1)\n",
    "print(y2)"
   ]
  },
  {
   "cell_type": "code",
   "execution_count": 28,
   "id": "f33aac7b",
   "metadata": {},
   "outputs": [
    {
     "name": "stdout",
     "output_type": "stream",
     "text": [
      "[0.33745285 0.87413193 0.86037973 ... 0.87348614 0.77268455 0.78983574]\n",
      "45.3 ms ± 549 µs per loop (mean ± std. dev. of 7 runs, 10 loops each)\n",
      "375 µs ± 11.7 µs per loop (mean ± std. dev. of 7 runs, 1,000 loops each)\n"
     ]
    }
   ],
   "source": [
    "x = np.random.rand(1000000)\n",
    "print(x)\n",
    "\n",
    "%timeit sum(x)\n",
    "%timeit np.sum(x)"
   ]
  },
  {
   "cell_type": "code",
   "execution_count": 34,
   "id": "f8ee92cf",
   "metadata": {},
   "outputs": [
    {
     "name": "stdout",
     "output_type": "stream",
     "text": [
      "[[0.36565269 0.41290299 0.9560848  0.97574346]\n",
      " [0.33679861 0.31792123 0.95195041 0.77754387]\n",
      " [0.60480956 0.87320833 0.58129292 0.81748383]]\n",
      "7.971392705836062\n",
      "7.971392705836062\n",
      "0.317921231017378\n",
      "[0.33679861 0.31792123 0.58129292 0.77754387]\n",
      "[0.36565269 0.31792123 0.58129292]\n"
     ]
    }
   ],
   "source": [
    "M = np.random.random((3, 4))\n",
    "print(M)\n",
    "print(np.sum(M))\n",
    "print(M.sum())\n",
    "print(M.min()) # 전체 최소값\n",
    "print(M.min(axis = 0))  # 열의 최소값\n",
    "print(M.min(axis = 1)) # 행의 최소값"
   ]
  },
  {
   "cell_type": "code",
   "execution_count": 45,
   "id": "8df317dd",
   "metadata": {},
   "outputs": [
    {
     "name": "stdout",
     "output_type": "stream",
     "text": [
      "[189 170 189 163 183 171 185 168 173 183 173 173 175 178 183 193 178 173\n",
      " 174 183 183 168 170 178 182 180 183 178 182 188 175 179 183 193 182 183\n",
      " 177 185 188 188 182 185]\n",
      "179.73809523809524\n",
      "163\n",
      "193\n",
      "182.0\n",
      "174.25\n",
      "183.0\n",
      "6.931843442745892\n"
     ]
    }
   ],
   "source": [
    "import pandas as pd\n",
    "data = pd.read_csv(\"https://raw.githubusercontent.com/SoongMoo/hk_AI-RPA/main/python/NumPy/data/president_heights.csv\")\n",
    "#print(data)\n",
    "#print(data['height(cm)'])\n",
    "heights = np.array(data['height(cm)'])\n",
    "print(heights)\n",
    "print(heights.mean())\n",
    "print(heights.min())      #       0사분위\n",
    "print(heights.max())      #       4사분위\n",
    "print(np.median(heights))  # 50%  2사분위\n",
    "print(np.percentile(heights, 25))#1사분위  25%\n",
    "print(np.percentile(heights, 75))#3사분위  75%\n",
    "# 각 데이터가 평균으로부터 얼마나 떨어져 있는지 : 표준편차\n",
    "print(heights.std())"
   ]
  },
  {
   "cell_type": "code",
   "execution_count": 47,
   "id": "5d4a838e",
   "metadata": {},
   "outputs": [
    {
     "data": {
      "text/plain": [
       "Text(0, 0.5, 'number')"
      ]
     },
     "execution_count": 47,
     "metadata": {},
     "output_type": "execute_result"
    },
    {
     "data": {
      "image/png": "[encoded data removed]",
      "text/plain": [
       "<Figure size 640x480 with 1 Axes>"
      ]
     },
     "metadata": {},
     "output_type": "display_data"
    }
   ],
   "source": [
    "import matplotlib.pyplot as plt\n",
    "import seaborn\n",
    "seaborn.set()\n",
    "plt.hist(heights)\n",
    "plt.title(\"Height Presidents\")\n",
    "plt.xlabel('height(cm)')\n",
    "plt.ylabel('number')"
   ]
  },
  {
   "cell_type": "code",
   "execution_count": 94,
   "id": "2ee319dc",
   "metadata": {},
   "outputs": [
    {
     "name": "stdout",
     "output_type": "stream",
     "text": [
      "[1 2 3 4 5]\n",
      "[False False False  True  True]\n",
      "[False False False  True  True]\n",
      "[ True  True False False False]\n",
      "[ True  True False False False]\n",
      "[ True  True  True False False]\n",
      "[ True  True  True False False]\n",
      "[False False  True  True  True]\n",
      "[False False  True  True  True]\n",
      "[False False  True False False]\n",
      "[False False  True False False]\n",
      "[ True  True False  True  True]\n",
      "[ True  True False  True  True]\n"
     ]
    }
   ],
   "source": [
    "# 비교 연산자 \n",
    "x = np.array([1,2,3,4,5])\n",
    "print(x)\n",
    "print( x > 3) # [False False False  True  True] :팬시인덱스\n",
    "print( np.greater(x, 3))\n",
    "print( x < 3)\n",
    "print( np.less(x , 3))\n",
    "print( x <= 3)\n",
    "print( np.less_equal(x, 3))\n",
    "print( x >= 3)\n",
    "print( np.greater_equal(x, 3))\n",
    "print( x == 3)\n",
    "print( np.equal(x, 3))\n",
    "print( x != 3)\n",
    "print( np.not_equal(x, 3))"
   ]
  },
  {
   "cell_type": "code",
   "execution_count": 97,
   "id": "8b60c672",
   "metadata": {},
   "outputs": [
    {
     "name": "stdout",
     "output_type": "stream",
     "text": [
      "2\n",
      "2\n",
      "2\n",
      "2\n",
      "2\n",
      "0\n"
     ]
    }
   ],
   "source": [
    "###팬시인덱스\n",
    "### x에서 3보다 큰수는 몇개입니까?\n",
    "print(np.sum([False, False, False,  True,  True]))\n",
    "print(np.sum(x > 3))\n",
    "print(np.sum([ True,  True, False, False, False]))\n",
    "print(np.sum(x < 3))\n",
    "print(np.sum(True + True))\n",
    "print(np.sum(False + False))"
   ]
  },
  {
   "cell_type": "code",
   "execution_count": 72,
   "id": "ba995ef3",
   "metadata": {},
   "outputs": [
    {
     "name": "stdout",
     "output_type": "stream",
     "text": [
      "[1 2 3 4 5]\n",
      "[3 1 4 5 2]\n",
      "[1 2 3 4 5]\n",
      "[1 2 3 4 5]\n",
      "None\n"
     ]
    }
   ],
   "source": [
    "# 정렬\n",
    "x = np.array([3,1,4,5,2])\n",
    "print(np.sort(x))\n",
    "print(x)\n",
    "y = np.sort(x)\n",
    "print(y)\n",
    "x.sort()\n",
    "print(x)\n",
    "# print(x.sort())"
   ]
  },
  {
   "cell_type": "code",
   "execution_count": 76,
   "id": "b31159d1",
   "metadata": {},
   "outputs": [
    {
     "name": "stdout",
     "output_type": "stream",
     "text": [
      "[[9 1 0 4 7 2]\n",
      " [1 2 0 2 7 4]\n",
      " [6 0 8 8 7 1]\n",
      " [6 3 3 7 4 2]]\n",
      "[[0 1 2 4 7 9]\n",
      " [0 1 2 2 4 7]\n",
      " [0 1 6 7 8 8]\n",
      " [2 3 3 4 6 7]]\n",
      "[[0 1 2 4 7 9]\n",
      " [0 1 2 2 4 7]\n",
      " [0 1 6 7 8 8]\n",
      " [2 3 3 4 6 7]]\n",
      "[[1 0 0 2 4 1]\n",
      " [6 1 0 4 7 2]\n",
      " [6 2 3 7 7 2]\n",
      " [9 3 8 8 7 4]]\n"
     ]
    }
   ],
   "source": [
    "x = np.random.randint(0,10,(4,6))\n",
    "print(x)\n",
    "print(np.sort(x))\n",
    "print(np.sort(x, axis=1))\n",
    "print(np.sort(x, axis=0))"
   ]
  },
  {
   "cell_type": "code",
   "execution_count": 80,
   "id": "bf526add",
   "metadata": {},
   "outputs": [
    {
     "name": "stdout",
     "output_type": "stream",
     "text": [
      "[[9 1 0 4 7 2]\n",
      " [1 2 0 2 7 4]\n",
      " [6 0 8 8 7 1]\n",
      " [6 3 3 7 4 2]]\n",
      "[[1 0 2 4 7 9]\n",
      " [0 1 2 2 7 4]\n",
      " [0 1 6 7 8 8]\n",
      " [2 3 3 4 6 7]]\n",
      "[[1 0 0 2 4 1]\n",
      " [6 1 0 4 7 2]\n",
      " [6 2 3 7 7 2]\n",
      " [9 3 8 8 7 4]]\n"
     ]
    }
   ],
   "source": [
    "# 파티션 나누기\n",
    "print(x)\n",
    "# 작은 수 3개를 앞으로 나머지는 뒤로, 정렬이되는 것은 아니다\n",
    "print(np.partition(x, 3, axis=1))\n",
    "print(np.partition(x, 3, axis=0))"
   ]
  },
  {
   "cell_type": "code",
   "execution_count": 107,
   "id": "a00819cb",
   "metadata": {},
   "outputs": [
    {
     "name": "stdout",
     "output_type": "stream",
     "text": [
      "37\n",
      "24\n",
      "341\n",
      "341\n",
      "215\n",
      "150\n"
     ]
    }
   ],
   "source": [
    "rainfall=pd.read_csv(\"https://raw.githubusercontent.com/SoongMoo/hk_AI-RPA/main/python/NumPy/data/Seattle2014.csv\")\n",
    "#print(rainfall)\n",
    "#print(rainfall['PRCP']/254)\n",
    "inches = np.array(rainfall['PRCP']/254)\n",
    "# print(inches)\n",
    "# 강수량이 0.5이상인 날은 몇일이나 되나요?\n",
    "#print(inches > 0.5)\n",
    "print(np.sum(inches > 0.5))\n",
    "# 강수량이 0.5에서 0.8 사이인 날은 몇일이나 되나요?\n",
    "print(np.sum((inches > 0.5) & (inches <0.8)))\n",
    "# 강수량이 0.5보다 적게 오고 0.8보다 많이 온날은?\n",
    "print(np.sum(~((inches > 0.5) & (inches <0.8))))\n",
    "print(np.sum((inches <= 0.5) | (inches >= 0.8)))\n",
    "# 비가 안온 날은 몇일 일까요?\n",
    "print(np.sum(inches == 0))\n",
    "# 비가 온날은 몇일 입니까?\n",
    "print(np.sum(inches != 0))"
   ]
  },
  {
   "cell_type": "code",
   "execution_count": 114,
   "id": "2bf54535",
   "metadata": {},
   "outputs": [
    {
     "data": {
      "text/plain": [
       "(array([245.,  14.,  13.,  17.,   8.,   6.,   5.,   6.,   4.,   3.,   7.,\n",
       "          6.,   3.,   3.,   3.,   4.,   4.,   2.,   4.,   0.,   0.,   1.,\n",
       "          1.,   1.,   0.,   0.,   0.,   2.,   1.,   1.,   0.,   0.,   0.,\n",
       "          0.,   0.,   0.,   0.,   0.,   0.,   1.]),\n",
       " array([0.        , 0.04596457, 0.09192913, 0.1378937 , 0.18385827,\n",
       "        0.22982283, 0.2757874 , 0.32175197, 0.36771654, 0.4136811 ,\n",
       "        0.45964567, 0.50561024, 0.5515748 , 0.59753937, 0.64350394,\n",
       "        0.6894685 , 0.73543307, 0.78139764, 0.8273622 , 0.87332677,\n",
       "        0.91929134, 0.96525591, 1.01122047, 1.05718504, 1.10314961,\n",
       "        1.14911417, 1.19507874, 1.24104331, 1.28700787, 1.33297244,\n",
       "        1.37893701, 1.42490157, 1.47086614, 1.51683071, 1.56279528,\n",
       "        1.60875984, 1.65472441, 1.70068898, 1.74665354, 1.79261811,\n",
       "        1.83858268]),\n",
       " <BarContainer object of 40 artists>)"
      ]
     },
     "execution_count": 114,
     "metadata": {},
     "output_type": "execute_result"
    },
    {
     "data": {
      "image/png": "[encoded data removed]",
      "text/plain": [
       "<Figure size 640x480 with 1 Axes>"
      ]
     },
     "metadata": {},
     "output_type": "display_data"
    }
   ],
   "source": [
    "%matplotlib inline\n",
    "plt.hist(inches, 40)"
   ]
  },
  {
   "cell_type": "code",
   "execution_count": null,
   "id": "ef738bea",
   "metadata": {},
   "outputs": [],
   "source": []
  },
  {
   "cell_type": "code",
   "execution_count": null,
   "id": "8dd4c6a6",
   "metadata": {},
   "outputs": [],
   "source": []
  },
  {
   "cell_type": "code",
   "execution_count": null,
   "id": "84a86ad3",
   "metadata": {},
   "outputs": [],
   "source": []
  },
  {
   "cell_type": "code",
   "execution_count": null,
   "id": "bbd3804e",
   "metadata": {},
   "outputs": [],
   "source": []
  }
 ],
 "metadata": {
  "kernelspec": {
   "display_name": "Python 3 (ipykernel)",
   "language": "python",
   "name": "python3"
  },
  "language_info": {
   "codemirror_mode": {
    "name": "ipython",
    "version": 3
   },
   "file_extension": ".py",
   "mimetype": "text/x-python",
   "name": "python",
   "nbconvert_exporter": "python",
   "pygments_lexer": "ipython3",
   "version": "3.8.10"
  }
 },
 "nbformat": 4,
 "nbformat_minor": 5
}
