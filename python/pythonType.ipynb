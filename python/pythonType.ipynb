{
 "cells": [
  {
   "cell_type": "code",
   "execution_count": 1,
   "id": "86777ec9",
   "metadata": {},
   "outputs": [
    {
     "name": "stderr",
     "output_type": "stream",
     "text": [
      "C:\\Users\\HKEDU\\AppData\\Local\\Temp\\ipykernel_14112\\1014303460.py:1: DeprecationWarning: Importing display from IPython.core.display is deprecated since IPython 7.14, please import from IPython display\n",
      "  from IPython.core.display import display, HTML\n"
     ]
    },
    {
     "data": {
      "text/html": [
       "<style>\n",
       "div.container { width:100% !important; }\n",
       "div.CodeMirror {font-family: Consolas; font-size: 30pt;}\n",
       "div.output { font-size: 20pt; font-weight: bold;}\n",
       "div.input { font-family: Consolas; font-size: 30pt;}\n",
       "div.prompt { min-width: 100px;}\n",
       "</style>\n"
      ],
      "text/plain": [
       "<IPython.core.display.HTML object>"
      ]
     },
     "metadata": {},
     "output_type": "display_data"
    }
   ],
   "source": [
    "from IPython.core.display import display, HTML\n",
    "display(HTML(\n",
    "\"\"\"<style>\n",
    "div.container { width:100% !important; }\n",
    "div.CodeMirror {font-family: Consolas; font-size: 30pt;}\n",
    "div.output { font-size: 20pt; font-weight: bold;}\n",
    "div.input { font-family: Consolas; font-size: 30pt;}\n",
    "div.prompt { min-width: 100px;}\n",
    "</style>\n",
    "\"\"\"))"
   ]
  },
  {
   "cell_type": "code",
   "execution_count": 14,
   "id": "34eae496",
   "metadata": {},
   "outputs": [
    {
     "name": "stdout",
     "output_type": "stream",
     "text": [
      "6\n"
     ]
    }
   ],
   "source": [
    "print(1 + 5)"
   ]
  },
  {
   "cell_type": "code",
   "execution_count": 16,
   "id": "5b26a76c",
   "metadata": {},
   "outputs": [
    {
     "name": "stdout",
     "output_type": "stream",
     "text": [
      "12\n",
      "8\n"
     ]
    }
   ],
   "source": [
    "print(2 * 6); print(3 + 5)"
   ]
  },
  {
   "cell_type": "code",
   "execution_count": 17,
   "id": "395a1301",
   "metadata": {},
   "outputs": [
    {
     "name": "stdout",
     "output_type": "stream",
     "text": [
      "9\n"
     ]
    }
   ],
   "source": [
    "print(5 + 4);"
   ]
  },
  {
   "cell_type": "code",
   "execution_count": 18,
   "id": "8a5a5a46",
   "metadata": {},
   "outputs": [
    {
     "name": "stdout",
     "output_type": "stream",
     "text": [
      "1\n",
      "2\n",
      "3\n",
      "4\n"
     ]
    }
   ],
   "source": [
    "for i in [1,2,3,4]:\n",
    "    print(i)"
   ]
  },
  {
   "cell_type": "code",
   "execution_count": 29,
   "id": "0801c6dc",
   "metadata": {},
   "outputs": [
    {
     "name": "stdout",
     "output_type": "stream",
     "text": [
      "10\n",
      "10.4\n",
      "10\n",
      "10.5\n",
      "이숭무\n",
      "010-7146-1970\n",
      "highland0@nate.com\n"
     ]
    }
   ],
   "source": [
    "# 자료형 : 리터널 : 자연어 (정수, 실수, 문자열)\n",
    "#              정수 리터널 : 1, 12\n",
    "#              실수 리터널 : 1.5, 4.5\n",
    "#              문자열 리터널\n",
    "print(10) # 숫자를 표현할 때는 아무런 표시를 하지 않는다.\n",
    "print(10.4) \n",
    "\n",
    "#변수 = 리터널\n",
    "a = 10 # 정수형 변수\n",
    "print(a) \n",
    "a = 10.5\n",
    "print(a)\n",
    "a =\"이숭무\"\n",
    "print(a)\n",
    "a = \"010-7146-1970\"\n",
    "print(a)\n",
    "a = \"highland0@nate.com\"\n",
    "print(a)"
   ]
  },
  {
   "cell_type": "code",
   "execution_count": 33,
   "id": "5816179f",
   "metadata": {},
   "outputs": [
    {
     "name": "stdout",
     "output_type": "stream",
     "text": [
      "20\n",
      "1\n",
      "3\n",
      "1000\n"
     ]
    }
   ],
   "source": [
    "# 숫자 연산자 : +, - , *, /\n",
    "a = 30\n",
    "b = 10\n",
    "print(a - b)\n",
    "# 나머지 연산자 : %\n",
    "print( 10 % 3)\n",
    "# 몫 연산자 \n",
    "print(10 // 3 )\n",
    "# 제곱승 \n",
    "print(10 ** 3)\n",
    "## + , - , * , / , % , // , **"
   ]
  },
  {
   "cell_type": "code",
   "execution_count": 42,
   "id": "9635dcf0",
   "metadata": {},
   "outputs": [
    {
     "name": "stdout",
     "output_type": "stream",
     "text": [
      "곽여송\n",
      "한경닷컴\n",
      "a\n",
      "a\n",
      "20\n",
      "1010\n"
     ]
    }
   ],
   "source": [
    "# 문자열 리터널 : 영어, 한국어, 중국어, ...\n",
    "#                \"a\",'a' , a:변수\n",
    "이숭무 = \"곽여송\" # 문자열 리터널\n",
    "print(이숭무)\n",
    "이숭무 = '한경닷컴'\n",
    "print(이숭무)\n",
    "이숭무 = 'a'\n",
    "print(이숭무)\n",
    "이숭무 = \"a\"\n",
    "print(이숭무)\n",
    "이숭무 = \"10\"\n",
    "print(10 + 10)\n",
    "# print(10 + \"10\")\n",
    "print(\"10\" + \"10\")"
   ]
  },
  {
   "cell_type": "code",
   "execution_count": null,
   "id": "f76695a0",
   "metadata": {},
   "outputs": [],
   "source": []
  }
 ],
 "metadata": {
  "kernelspec": {
   "display_name": "Python 3 (ipykernel)",
   "language": "python",
   "name": "python3"
  },
  "language_info": {
   "codemirror_mode": {
    "name": "ipython",
    "version": 3
   },
   "file_extension": ".py",
   "mimetype": "text/x-python",
   "name": "python",
   "nbconvert_exporter": "python",
   "pygments_lexer": "ipython3",
   "version": "3.8.10"
  }
 },
 "nbformat": 4,
 "nbformat_minor": 5
}
