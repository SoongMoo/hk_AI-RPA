{
 "cells": [
  {
   "cell_type": "code",
   "execution_count": 1,
   "id": "86777ec9",
   "metadata": {},
   "outputs": [
    {
     "name": "stderr",
     "output_type": "stream",
     "text": [
      "C:\\Users\\HKEDU\\AppData\\Local\\Temp\\ipykernel_6184\\1014303460.py:1: DeprecationWarning: Importing display from IPython.core.display is deprecated since IPython 7.14, please import from IPython display\n",
      "  from IPython.core.display import display, HTML\n"
     ]
    },
    {
     "data": {
      "text/html": [
       "<style>\n",
       "div.container { width:100% !important; }\n",
       "div.CodeMirror {font-family: Consolas; font-size: 30pt;}\n",
       "div.output { font-size: 20pt; font-weight: bold;}\n",
       "div.input { font-family: Consolas; font-size: 30pt;}\n",
       "div.prompt { min-width: 100px;}\n",
       "</style>\n"
      ],
      "text/plain": [
       "<IPython.core.display.HTML object>"
      ]
     },
     "metadata": {},
     "output_type": "display_data"
    }
   ],
   "source": [
    "from IPython.core.display import display, HTML\n",
    "display(HTML(\n",
    "\"\"\"<style>\n",
    "div.container { width:100% !important; }\n",
    "div.CodeMirror {font-family: Consolas; font-size: 30pt;}\n",
    "div.output { font-size: 20pt; font-weight: bold;}\n",
    "div.input { font-family: Consolas; font-size: 30pt;}\n",
    "div.prompt { min-width: 100px;}\n",
    "</style>\n",
    "\"\"\"))"
   ]
  },
  {
   "cell_type": "code",
   "execution_count": 14,
   "id": "34eae496",
   "metadata": {},
   "outputs": [
    {
     "name": "stdout",
     "output_type": "stream",
     "text": [
      "6\n"
     ]
    }
   ],
   "source": [
    "print(1 + 5)"
   ]
  },
  {
   "cell_type": "code",
   "execution_count": 16,
   "id": "5b26a76c",
   "metadata": {},
   "outputs": [
    {
     "name": "stdout",
     "output_type": "stream",
     "text": [
      "12\n",
      "8\n"
     ]
    }
   ],
   "source": [
    "print(2 * 6); print(3 + 5)"
   ]
  },
  {
   "cell_type": "code",
   "execution_count": 17,
   "id": "395a1301",
   "metadata": {},
   "outputs": [
    {
     "name": "stdout",
     "output_type": "stream",
     "text": [
      "9\n"
     ]
    }
   ],
   "source": [
    "print(5 + 4);"
   ]
  },
  {
   "cell_type": "code",
   "execution_count": 18,
   "id": "8a5a5a46",
   "metadata": {},
   "outputs": [
    {
     "name": "stdout",
     "output_type": "stream",
     "text": [
      "1\n",
      "2\n",
      "3\n",
      "4\n"
     ]
    }
   ],
   "source": [
    "for i in [1,2,3,4]:\n",
    "    print(i)"
   ]
  },
  {
   "cell_type": "code",
   "execution_count": 29,
   "id": "0801c6dc",
   "metadata": {},
   "outputs": [
    {
     "name": "stdout",
     "output_type": "stream",
     "text": [
      "10\n",
      "10.4\n",
      "10\n",
      "10.5\n",
      "이숭무\n",
      "010-7146-1970\n",
      "highland0@nate.com\n"
     ]
    }
   ],
   "source": [
    "# 자료형 : 리터널 : 자연어 (정수, 실수, 문자열)\n",
    "#              정수 리터널 : 1, 12\n",
    "#              실수 리터널 : 1.5, 4.5\n",
    "#              문자열 리터널\n",
    "print(10) # 숫자를 표현할 때는 아무런 표시를 하지 않는다.\n",
    "print(10.4) \n",
    "\n",
    "#변수 = 리터널\n",
    "a = 10 # 정수형 변수\n",
    "print(a) \n",
    "a = 10.5\n",
    "print(a)\n",
    "a =\"이숭무\"\n",
    "print(a)\n",
    "a = \"010-7146-1970\"\n",
    "print(a)\n",
    "a = \"highland0@nate.com\"\n",
    "print(a)"
   ]
  },
  {
   "cell_type": "code",
   "execution_count": 33,
   "id": "5816179f",
   "metadata": {},
   "outputs": [
    {
     "name": "stdout",
     "output_type": "stream",
     "text": [
      "20\n",
      "1\n",
      "3\n",
      "1000\n"
     ]
    }
   ],
   "source": [
    "# 숫자 연산자 : +, - , *, /\n",
    "a = 30\n",
    "b = 10\n",
    "print(a - b)\n",
    "# 나머지 연산자 : %\n",
    "print( 10 % 3)\n",
    "# 몫 연산자 \n",
    "print(10 // 3 )\n",
    "# 제곱승 \n",
    "print(10 ** 3)\n",
    "## + , - , * , / , % , // , **"
   ]
  },
  {
   "cell_type": "code",
   "execution_count": 42,
   "id": "9635dcf0",
   "metadata": {},
   "outputs": [
    {
     "name": "stdout",
     "output_type": "stream",
     "text": [
      "곽여송\n",
      "한경닷컴\n",
      "a\n",
      "a\n",
      "20\n",
      "1010\n"
     ]
    }
   ],
   "source": [
    "# 문자열 리터널 : 영어, 한국어, 중국어, ...\n",
    "#                \"a\",'a' , a:변수\n",
    "이숭무 = \"곽여송\" # 문자열 리터널\n",
    "print(이숭무)\n",
    "이숭무 = '한경닷컴'\n",
    "print(이숭무)\n",
    "이숭무 = 'a'\n",
    "print(이숭무)\n",
    "이숭무 = \"a\"\n",
    "print(이숭무)\n",
    "이숭무 = \"10\"\n",
    "print(10 + 10)\n",
    "# print(10 + \"10\")\n",
    "print(\"10\" + \"10\")"
   ]
  },
  {
   "cell_type": "code",
   "execution_count": 14,
   "id": "f76695a0",
   "metadata": {},
   "outputs": [
    {
     "name": "stdout",
     "output_type": "stream",
     "text": [
      "10\n",
      "10.54\n",
      "10\n",
      "10.4\n",
      "1010\n",
      "pythonisfun\n",
      "python is fun\n",
      "python is fun\n",
      "python \n",
      "is fun\n"
     ]
    }
   ],
   "source": [
    "print(10) # 정수\n",
    "print(10.54) # 실수\n",
    "print(\"10\") # 문자열\n",
    "print(\"10.4\") # 문자열\n",
    "# print(10 + \"10\") # TypeError: unsupported operand type(s) for +: 'int' and 'str'\n",
    "print(\"10\" + \"10\")\n",
    "print(\"python\" + \"is\" + \"fun\")\n",
    "print(\"python\"+ \" \" + \"is\"+ \" \" + \"fun\")\n",
    "print('python '+ 'is'+ ' fun')\n",
    "# 문자열에서는 +연산자는 붙이기 연산자이다.\n",
    "print('python \\n' + 'is'+ ' fun')"
   ]
  },
  {
   "cell_type": "code",
   "execution_count": 21,
   "id": "d82cdc62",
   "metadata": {},
   "outputs": [
    {
     "name": "stdout",
     "output_type": "stream",
     "text": [
      "python \n",
      "is \n",
      "fun\n",
      "python\n",
      "is\n",
      "fun\n",
      "Life is too short, You need python\n",
      "Life is too short, \n",
      "You need python\n",
      "Life is too short, \n",
      "You need python\n"
     ]
    }
   ],
   "source": [
    "# \"\" , '', \"\"\"\"\"\", ''''''\n",
    "a = '''python \n",
    "is \n",
    "fun'''\n",
    "print(a)\n",
    "a = \"\"\"python\n",
    "is\n",
    "fun\"\"\"\n",
    "print(a)\n",
    "print(\"Life is too short, You need python\")\n",
    "print(\"\"\"Life is too short, \n",
    "You need python\"\"\")\n",
    "print('''Life is too short, \n",
    "You need python''') # 행바꿈을 할 때 주로 사용"
   ]
  },
  {
   "cell_type": "code",
   "execution_count": 30,
   "id": "1a14f073",
   "metadata": {},
   "outputs": [
    {
     "name": "stdout",
     "output_type": "stream",
     "text": [
      "Life's too short, You need python\n",
      "Life is too short, \"You need python\"\n",
      "Life is too short, \"You need python\"\n",
      "Life's too short, You need python\n",
      "\tLife's too short, You need python\n"
     ]
    }
   ],
   "source": [
    "print(\"Life's too short, You need python\")\n",
    "print('Life is too short, \"You need python\"')\n",
    "print(\"Life is too short, \\\"You need python\\\"\")\n",
    "print('Life\\'s too short, You need python')\n",
    "print('\\tLife\\'s too short, You need python')"
   ]
  },
  {
   "cell_type": "code",
   "execution_count": 32,
   "id": "9e16e4a0",
   "metadata": {},
   "outputs": [
    {
     "name": "stdout",
     "output_type": "stream",
     "text": [
      "\tLife's too short\n",
      ", You need python\n"
     ]
    }
   ],
   "source": [
    "print('\\tLife\\'s too short\\n, You need python')"
   ]
  },
  {
   "cell_type": "code",
   "execution_count": 40,
   "id": "c04719f7",
   "metadata": {},
   "outputs": [
    {
     "name": "stdout",
     "output_type": "stream",
     "text": [
      "Pythonis fun\n",
      "Python is fun\n",
      "============================================================\n",
      "제목\n",
      "============================================================\n",
      "PythonPythonPythonPythonPythonPythonPythonPythonPythonPythonPythonPythonPythonPythonPythonPythonPythonPythonPythonPythonPythonPythonPythonPythonPythonPythonPythonPythonPythonPython\n"
     ]
    }
   ],
   "source": [
    "head = \"Python\"\n",
    "tail = \"is fun\"\n",
    "print(head + tail)\n",
    "print(head+\" \" + tail)\n",
    "print(\"==\" * 30) # *연산자 : 문자열 반복\n",
    "print(\"제목\")\n",
    "print(\"==\" * 30)\n",
    "print(head * 30)"
   ]
  },
  {
   "cell_type": "code",
   "execution_count": 48,
   "id": "5d51488a",
   "metadata": {},
   "outputs": [
    {
     "name": "stdout",
     "output_type": "stream",
     "text": [
      "1020\n",
      "1020\n"
     ]
    }
   ],
   "source": [
    "print(str(10) + \"20\")\n",
    "str = \"이숭무\"\n",
    "# print(str(10) + \"20\")\n",
    "# 같은 이름의 함수와 변수를 둘 수 없다. str(), str\n",
    "del str\n",
    "print(str(10) + \"20\")\n",
    "a = 10"
   ]
  },
  {
   "cell_type": "code",
   "execution_count": 53,
   "id": "fd72d04d",
   "metadata": {},
   "outputs": [
    {
     "name": "stdout",
     "output_type": "stream",
     "text": [
      "Life is too short\n",
      "17\n",
      "L\n",
      "i\n",
      "t\n",
      "t\n"
     ]
    }
   ],
   "source": [
    "# indexing : index를 이용해서 원하는 문자를 가지고 오는 것\n",
    "# index는 문자열에서 문자가 가지고 있는 고유의 번호\n",
    "str1 = \"Life is too short\"\n",
    "#       01234567890123456\n",
    "#                 1\n",
    "print(str1)\n",
    "print(len(str1))\n",
    "print(str1[0])\n",
    "print(str1[5])\n",
    "print(str1[16])\n",
    "print(str1[len(str1) - 1])"
   ]
  },
  {
   "cell_type": "code",
   "execution_count": 58,
   "id": "a6910d1d",
   "metadata": {},
   "outputs": [
    {
     "name": "stdout",
     "output_type": "stream",
     "text": [
      "L\n",
      "L\n",
      "L\n",
      "============================================================\n",
      "t\n",
      "t\n",
      "t\n",
      "============================================================\n",
      "r\n",
      "r\n",
      "Life\n"
     ]
    }
   ],
   "source": [
    "str1 = \"Life is too short\"\n",
    "#       01234567890123456\n",
    "#                 1\n",
    "#       76543210987654321 -\n",
    "#              1\n",
    "print(str1[0])\n",
    "print(str1[-17])\n",
    "print(str1[-len(str1)])\n",
    "print(\"==\" * 30)\n",
    "print(str1[16])\n",
    "print(str1[-1])\n",
    "print(str1[len(str1) -1 ])\n",
    "print(\"==\" *30)\n",
    "print(str1[15]); print(str1[-2])\n",
    "# Life\n",
    "print(str1[0]+str1[1]+str1[2]+str1[3])"
   ]
  },
  {
   "cell_type": "code",
   "execution_count": 61,
   "id": "2670f81e",
   "metadata": {},
   "outputs": [
    {
     "name": "stdout",
     "output_type": "stream",
     "text": [
      "Life\n",
      "Life\n",
      "too\n",
      "too\n",
      "too\n",
      "too\n"
     ]
    }
   ],
   "source": [
    "# slicing : 문자열 자르기\n",
    "print(str1[0:4])\n",
    "print(str1[0:0+4])\n",
    "# too\n",
    "print(str1[8 : 8 + 3])\n",
    "print(str1[-9: -6])\n",
    "print(str1[-9: -9 + 3])\n",
    "print(str1[8 : -6])"
   ]
  },
  {
   "cell_type": "code",
   "execution_count": 65,
   "id": "4513b678",
   "metadata": {},
   "outputs": [
    {
     "name": "stdout",
     "output_type": "stream",
     "text": [
      "Life\n",
      "Life\n",
      "Life\n",
      "short\n",
      "short\n",
      "short\n"
     ]
    }
   ],
   "source": [
    "str1 = \"Life is too short\"\n",
    "#       01234567890123456\n",
    "#                 1\n",
    "#       76543210987654321 -\n",
    "#              1\n",
    "# Life\n",
    "print(str1[0:4])\n",
    "print(str1[:4])\n",
    "print(str1[:-13])\n",
    "#short\n",
    "print(str1[12:17])\n",
    "print(str1[12:len(str1)])\n",
    "print(str1[12:])"
   ]
  },
  {
   "cell_type": "code",
   "execution_count": 69,
   "id": "f593083a",
   "metadata": {},
   "outputs": [
    {
     "name": "stdout",
     "output_type": "stream",
     "text": [
      "20010331\n",
      "Rainy\n",
      "i\n"
     ]
    }
   ],
   "source": [
    "# 날짜와 이름을 분리하여 출력\n",
    "a = \"20010331Rainy\"\n",
    "print(a[:8])\n",
    "print(a[8:])\n",
    "a = \"pithon\"\n",
    "print(a[1])\n",
    "#a[1] = \"y\" : 문자열은 index를 이용해서 값을 변경할 수 없다."
   ]
  },
  {
   "cell_type": "code",
   "execution_count": 70,
   "id": "17b225c0",
   "metadata": {},
   "outputs": [
    {
     "name": "stdout",
     "output_type": "stream",
     "text": [
      "현재 온도는 30도입니다.\n",
      "현재 온도는 40도입니다.\n"
     ]
    }
   ],
   "source": [
    "# \"\",'',\"\"\"\"\"\",''''''\n",
    "# +, *\n",
    "# indexing, slicing \n",
    "# 문자열 포매팅\n",
    "print(\"현재 온도는 30도입니다.\")\n",
    "print(\"현재 온도는 40도입니다.\")"
   ]
  },
  {
   "cell_type": "code",
   "execution_count": 81,
   "id": "ff57e6aa",
   "metadata": {},
   "outputs": [
    {
     "name": "stdout",
     "output_type": "stream",
     "text": [
      "이숭무의 계좌번호는 1111번이고 잔액은 100원입니다.\n",
      "이숭무의 계좌번호는 1111번이고 잔액은 100원입니다.\n",
      "이숭무의 계좌번호는 1111번이고 잔액은 1000원입니다.\n",
      "============================================================\n",
      "이숭무의 나이는 25살이고 키는 175.300000입니다\n",
      "이숭무의 나이는 25살이고 키는 175.3입니다\n",
      "이숭무의 나이는 25살이고 키는 175.3입니다\n",
      "이숭무의 나이는 25살이고 키는 175.3입니다\n",
      "이숭무의 나이는 25살이고 키는 175.30입니다\n",
      "이숭무의 나이는 25살이고 키는 175.3입니다\n"
     ]
    }
   ],
   "source": [
    "account = '1111'\n",
    "name = '이숭무'\n",
    "money = 100\n",
    "### 이숭무의 계좌번호는 1111번이고 잔액은 100원입니다.\n",
    "print(name+\"의 계좌번호는 \"+ account +\"번이고 잔액은 \"+str(money)+\"원입니다.\")\n",
    "print(\"%s의 계좌번호는 %s번이고 잔액은 %d원입니다.\" % (name,account,money))\n",
    "# %s:문자열, %d:숫자, %f : 실수, %c : 문자 =>\n",
    "print(\"%s의 계좌번호는 %s번이고 잔액은 %d원입니다.\" % (name,account,1000))\n",
    "print(\"==\" * 30)\n",
    "\"이숭무의 나이는 25살이고 키는 175.3입니다\"\n",
    "age =  25\n",
    "height = 175.3\n",
    "a  = \"%s의 나이는 %d살이고 키는 %f입니다\" % (name, age, height)\n",
    "print(a)\n",
    "a  = \"%s의 나이는 %d살이고 키는 %5.1f입니다\" % (name, age, height)\n",
    "print(a)\n",
    "a  = \"%s의 나이는 %d살이고 키는 %3.1f입니다\" % (name, age, height)\n",
    "print(a)\n",
    "a  = \"%s의 나이는 %d살이고 키는 %.1f입니다\" % (name, age, height)\n",
    "print(a)\n",
    "a  = \"%s의 나이는 %d살이고 키는 %.2f입니다\" % (name, age, height)\n",
    "print(a)\n",
    "a  = \"%s의 나이는 %s살이고 키는 %s입니다\" % (name, age, height)\n",
    "print(a)"
   ]
  },
  {
   "cell_type": "code",
   "execution_count": 84,
   "id": "d6bb1dae",
   "metadata": {},
   "outputs": [
    {
     "name": "stdout",
     "output_type": "stream",
     "text": [
      "이숭무의 나이는 25살이고 키는 175.30입니다\n",
      "이숭무의 나이는         25살이고 키는     175.30입니다\n",
      "이숭무의 나이는 25        살이고 키는 175.30    입니다\n"
     ]
    }
   ],
   "source": [
    "#-는 왼쪽정렬, +는 오른쪽 정렬\n",
    "a  = \"%s의 나이는 %d살이고 키는 %.2f입니다\" % (name, age, height)\n",
    "print(a)\n",
    "a  = \"%s의 나이는 %10d살이고 키는 %10.2f입니다\" % (name, age, height)\n",
    "print(a)\n",
    "a  = \"%s의 나이는 %-10d살이고 키는 %-10.2f입니다\" % (name, age, height)\n",
    "print(a)\n"
   ]
  },
  {
   "cell_type": "code",
   "execution_count": 90,
   "id": "17fe4bfd",
   "metadata": {},
   "outputs": [
    {
     "name": "stdout",
     "output_type": "stream",
     "text": [
      "이숭무의 나이는 25살이고 키는 175.3입니다\n",
      "이숭무의 나이는 25살이고 키는 175.3입니다\n",
      "이숭무님의 나이는 25살이고요 이숭무의 키는 175.3입니다\n"
     ]
    }
   ],
   "source": [
    "# format 함수를 사용한 포매팅\n",
    "# 문자열 : \"abc\",'abc'\n",
    "# 변수 : abc\n",
    "# 함수 : abc(), ### print() , str(), int(), format()\n",
    "a  = \"{0}의 나이는 {1}살이고 키는 {2}입니다\".format(name, age, height)\n",
    "#                                                 0     1     2\n",
    "print(a)\n",
    "a  = \"{1}의 나이는 {0}살이고 키는 {2}입니다\"\\\n",
    "                    .format(age, name, height)\n",
    "print(a)\n",
    "# 이숭무님의 나이는 25살이고요 이숭무의 키는 175.3입니다\n",
    "a  = \"{0}님의 나이는 {1}살이고요 {0}의 키는 {2}입니다\"\\\n",
    "                    .format(name,age,height)\n",
    "print(a)"
   ]
  },
  {
   "cell_type": "code",
   "execution_count": 95,
   "id": "2bf6502e",
   "metadata": {},
   "outputs": [
    {
     "name": "stdout",
     "output_type": "stream",
     "text": [
      "이숭무님의 나이는 25살이고요 이숭무의 키는 175.3입니다\n",
      "이숭무님의 나이는 25살이고요 이숭무의 키는 130입니다\n",
      "이숭무님의 나이는 25살이고요 이숭무의 키는 130입니다\n"
     ]
    }
   ],
   "source": [
    "a  = \"{0}님의 나이는 {1}살이고요 {0}의 키는 {bbb}입니다\"\\\n",
    "                    .format(name,age,bbb=height)\n",
    "print(a)\n",
    "a  = \"{0}님의 나이는 {1}살이고요 {0}의 키는 {bbb}입니다\"\\\n",
    "                    .format(name,age,bbb=130)\n",
    "print(a)\n",
    "'''\n",
    "a  = \"{0}님의 나이는 {1}살이고요 {0}의 키는 {2}입니다\"\\\n",
    "                    .format(name,age,bbb=130)\n",
    "print(a)\n",
    "a  = \"{0}님의 나이는 {2}살이고요 {0}의 키는 {bbb}입니다\"\\\n",
    "                    .format(name,bbb=130,age)\n",
    "print(a)\n",
    "'''\n",
    "# 이름을 사용하는 경우에는 이름을 맨뒤 부터 붙여주면 된다.\n",
    "a  = \"{0}님의 나이는 {age}살이고요 {0}의 키는 {bbb}입니다\"\\\n",
    "                    .format(name,bbb=130,age=25)\n",
    "print(a)"
   ]
  },
  {
   "cell_type": "code",
   "execution_count": 97,
   "id": "a367a787",
   "metadata": {},
   "outputs": [
    {
     "name": "stdout",
     "output_type": "stream",
     "text": [
      "이숭무님의 나이는 25살이고요 이숭무의 키는 175.3입니다\n"
     ]
    }
   ],
   "source": [
    "### f 문자열 포매팅\n",
    "name = '이숭무'\n",
    "age = 25\n",
    "height = 175.3\n",
    "\"이숭무님의 나이는 25살이고요 이숭무의 키는 175.3입니다\"\n",
    "print(f\"{name}님의 나이는 {age}살이고요 {name}의 키는 {height}입니다\")"
   ]
  },
  {
   "cell_type": "code",
   "execution_count": null,
   "id": "334eacb2",
   "metadata": {},
   "outputs": [],
   "source": [
    "# 포매팅\n",
    "# 1. 포맷문자를 이용한 포맷팅\n",
    "# 2. format함수를 이용한 포맷팅\n",
    "# 3. f문자를 이용한 포맷팅\n",
    "\n",
    "# indexing, slicing (자바:substring)\n",
    "# 문자열 연산자 : +, *"
   ]
  },
  {
   "cell_type": "code",
   "execution_count": 100,
   "id": "99cf7696",
   "metadata": {},
   "outputs": [
    {
     "name": "stdout",
     "output_type": "stream",
     "text": [
      "5\n",
      "5\n",
      "2\n",
      "2\n",
      "obb\n"
     ]
    }
   ],
   "source": [
    "### 문자열 가공하기 :  문자열 함수\n",
    "a = \"hobby\"\n",
    "#    01234\n",
    "# 문자열의 크기\n",
    "print(len(a))\n",
    "print(len(\"hobby\"))\n",
    "# 문자의 갯수\n",
    "print(a.count('b'))\n",
    "print(\"hobby\".count('b'))\n",
    "print(a[1:1+3])"
   ]
  },
  {
   "cell_type": "code",
   "execution_count": 112,
   "id": "3fd7f8c1",
   "metadata": {},
   "outputs": [
    {
     "name": "stdout",
     "output_type": "stream",
     "text": [
      "8\n",
      "too\n",
      "1\n",
      "if\n",
      "5\n",
      "is\n",
      "5\n",
      "5\n",
      "is\n"
     ]
    }
   ],
   "source": [
    "a = \"Life is too short\"\n",
    "#    012345678\n",
    "print(a.index(\"too\"))\n",
    "print(a[a.index(\"too\"):a.index(\"too\") + 3])\n",
    "print(a.index('i'))\n",
    "print(a[a.index('i') : a.index('i') + 2])\n",
    "print(a.rindex('i'))\n",
    "print(a[a.rindex('i') : a.rindex('i') + 2])\n",
    "print(a.index('i',2))\n",
    "print(a.index('i', a.index('i') + 1))\n",
    "i = a.index('i', a.index('i') + 1)\n",
    "print(a[i : i + 2 ])"
   ]
  },
  {
   "cell_type": "code",
   "execution_count": 120,
   "id": "35e65bdd",
   "metadata": {},
   "outputs": [
    {
     "name": "stdout",
     "output_type": "stream",
     "text": [
      "8\n",
      "8\n",
      "too\n",
      "too\n",
      "1\n",
      "if\n",
      "5\n",
      "5\n",
      "5\n"
     ]
    }
   ],
   "source": [
    "a = \"Life is too short\"\n",
    "#    012345678\n",
    "print(a.index(\"too\"))\n",
    "print(a.find(\"too\"))\n",
    "print(a[a.find(\"too\"):a.find(\"too\") + 3])\n",
    "print(a[a.find(\"t\"):a.find(\"t\") + 3])\n",
    "print(a.find('i'))\n",
    "print(a[a.find('i') : a.find('i') + 2])\n",
    "print(a.find('i',2))\n",
    "print(a.find('i',a.find('i') + 1))\n",
    "print(a.rfind('i'))"
   ]
  },
  {
   "cell_type": "code",
   "execution_count": 122,
   "id": "a0fb97f1",
   "metadata": {},
   "outputs": [
    {
     "name": "stdout",
     "output_type": "stream",
     "text": [
      "-1\n"
     ]
    }
   ],
   "source": [
    "# print(a.index('k')) # 없는 문지를 찾을 때 오류\n",
    "print(a.find('k'))"
   ]
  },
  {
   "cell_type": "code",
   "execution_count": 127,
   "id": "80b24f31",
   "metadata": {},
   "outputs": [
    {
     "name": "stdout",
     "output_type": "stream",
     "text": [
      "life is too short\n",
      "Life is too short\n",
      "life is too short\n",
      "LIFE IS TOO SHORT\n"
     ]
    }
   ],
   "source": [
    "a = \"Life is too short\"\n",
    "# 모두 소문자로 가져오기\n",
    "print(a.lower())\n",
    "print(a)\n",
    "result = a.lower()\n",
    "print(result)\n",
    "# 모두 대문자로 가져오기\n",
    "result = a.upper()\n",
    "print(result)"
   ]
  },
  {
   "cell_type": "code",
   "execution_count": 135,
   "id": "61cadb24",
   "metadata": {},
   "outputs": [
    {
     "name": "stdout",
     "output_type": "stream",
     "text": [
      " abcd \n",
      "abcd\n",
      " 이 숭무 \n",
      "이 숭무\n",
      " 이 숭무\n",
      "이 숭무 \n",
      "zbvabczj\n"
     ]
    }
   ],
   "source": [
    "c = ' abcd '\n",
    "print(c)\n",
    "print(c.strip())\n",
    "d = \" 이 숭무 \"\n",
    "print(d)\n",
    "print(d.strip())\n",
    "print(d.rstrip())\n",
    "print(d.lstrip())\n",
    "e = \"abzbvabczjab\"\n",
    "print(e.strip('ab'))"
   ]
  },
  {
   "cell_type": "code",
   "execution_count": 138,
   "id": "9c39210e",
   "metadata": {},
   "outputs": [
    {
     "name": "stdout",
     "output_type": "stream",
     "text": [
      "Your leg is too short\n",
      "Life is too short\n",
      "Your leg is too short\n"
     ]
    }
   ],
   "source": [
    "# 문자열 대체\n",
    "b = \"Life is too short\"\n",
    "# \"Life\"를 \"Your leg\"로 변경\n",
    "print(b.replace('Life','Your leg'))\n",
    "print(b)\n",
    "result = b.replace('Life','Your leg')\n",
    "print(result)"
   ]
  },
  {
   "cell_type": "code",
   "execution_count": 140,
   "id": "d40c0d10",
   "metadata": {},
   "outputs": [
    {
     "name": "stdout",
     "output_type": "stream",
     "text": [
      "['Life', 'is', 'too', 'short']\n",
      "['Life', 'is', 'too', 'short']\n"
     ]
    }
   ],
   "source": [
    "# 쪼개기\n",
    "b = \"Life is too short\"\n",
    "result = b.split() # 리스트\n",
    "print(result)\n",
    "b = \"Life:is:too:short\"\n",
    "result = b.split(':') # 리스트\n",
    "print(result)"
   ]
  },
  {
   "cell_type": "code",
   "execution_count": null,
   "id": "91f1f4e1",
   "metadata": {},
   "outputs": [],
   "source": [
    "# 문자열 함수\n",
    "'''\n",
    "split()\n",
    "replace()\n",
    "strip()\n",
    "rstrip()\n",
    "lstrip()\n",
    "upper()\n",
    "lower()\n",
    "index()\n",
    "find()\n",
    "rindex()\n",
    "rfind()\n",
    "len()\n",
    "count()\n",
    "'''"
   ]
  },
  {
   "cell_type": "code",
   "execution_count": 12,
   "id": "ea237037",
   "metadata": {},
   "outputs": [
    {
     "name": "stdout",
     "output_type": "stream",
     "text": [
      "1\n",
      "1\n",
      "[1]\n",
      "python is fun\n",
      "[1, 2, 1, 'a']\n",
      "[[1, 2], [3, 4]]\n",
      "[]\n",
      "[1]\n",
      "['Life', 'is', 'too', 'short']\n"
     ]
    }
   ],
   "source": [
    "### 리터널 자료형 :자연수 : \n",
    "##                  정수: 10 ,    \"10\"(x)\n",
    "##                  실수 : 10.5    \"10.5\"(x)\n",
    "###          자연어 : 한국어, 일본, 영어,...\n",
    "###                  문자열 : \"a\" , 'a' , \"1\" ,\"10.5\" ,\"\"\"a\"\"\",'''a'''\n",
    "###                           a, 이숭무 : 변수\n",
    "### 리스트 : [] : 크기가 정해져 있지 않다. 유형이 정해져 있지 않다.\n",
    "### 자바에서의 배열 : [] : 크기가 정해져 있다 , 유형정해져 있다.\n",
    "### [1] : 정수형 리스트 , ['a'] :문자열 리스트, [1 , 'a'] : 혼합형리스트\n",
    "print(1)\n",
    "print('1')\n",
    "print([1]) # [1]:리스트\n",
    "print('python ' + 'is fun')\n",
    "print([1, 2] + [1, 'a'] )\n",
    "print([[1,2],[3,4]]) # 리스트를 포함한 리스트\n",
    "\n",
    "l = [] #  빈리스트\n",
    "print(l)\n",
    "l.append(1)\n",
    "print(l)\n",
    "l1 = []\n",
    "# l1[0] = 1 # index out of range\n",
    "a = \"Life:is:too:short\"\n",
    "l2 = a.split(':') # 리스트, 자바에서는 배열\n",
    "print(l2) # ['Life', 'is', 'too', 'short']"
   ]
  },
  {
   "cell_type": "code",
   "execution_count": 22,
   "id": "3e3df4b4",
   "metadata": {},
   "outputs": [
    {
     "name": "stdout",
     "output_type": "stream",
     "text": [
      "i\n",
      "too\n",
      "i\n",
      "h\n",
      "ih\n",
      "2\n",
      "5\n",
      "7\n",
      "Life\n",
      "too\n",
      "Lifetoo\n"
     ]
    }
   ],
   "source": [
    "a = \"Life is too short\"\n",
    "#    01234567890123456\n",
    "#              1\n",
    "print(a[5])  # indexing\n",
    "print(a[8:8+3]) # slicing\n",
    "print(a[1]) # 'i'\n",
    "print(a[13]) # 'h'\n",
    "print(a[1] + a[13]) # ih\n",
    "\n",
    "l = [1,2,3,4,5]\n",
    "#    0 1 2 3 4\n",
    "print(l[1]) # 2\n",
    "print(l[4]) # 5\n",
    "print(l[1] + l[4]) # 7 # 요소가 정수 일때 indexing을하면 정수를 가져온다.\n",
    "l1 = ['Life', 'is', 'too', 'short']\n",
    "#        0     1       2      3\n",
    "print(l1[0]) # 'Life'\n",
    "print(l1[2]) #  'too'\n",
    "print(l1[0] + l1[2]) #'Lifetoo'"
   ]
  },
  {
   "cell_type": "code",
   "execution_count": 29,
   "id": "d572d8af",
   "metadata": {},
   "outputs": [
    {
     "name": "stdout",
     "output_type": "stream",
     "text": [
      "['a', 'b', 'c']\n",
      "b\n",
      "['a', 'b', 'c']\n",
      "b\n",
      "['a', 'b', 'c']\n",
      "b\n",
      "e\n",
      "e\n",
      "is\n",
      "is\n"
     ]
    }
   ],
   "source": [
    "a = [1,2,3,['a','b','c']]\n",
    "#    0 1 2       3\n",
    "#            0   1   2\n",
    "#    4 3 2       1   -\n",
    "#            3   2   1 -\n",
    "print(a[3]) # ['a','b','c']\n",
    "#               0   1   2\n",
    "print(a[3][1])\n",
    "print(['a','b','c'])\n",
    "print(['a','b','c'][1])\n",
    "\n",
    "print(a[-1])\n",
    "print(a[-1][-2])\n",
    "print(a[3][-2])\n",
    "a = \"Life is too short\"\n",
    "#    01234567890123456\n",
    "#              1\n",
    "#    76543210987654321 -\n",
    "#           1\n",
    "print(a[3])\n",
    "print(a[-14])\n",
    "print(a[5:7])\n",
    "print(a[-12:-10])"
   ]
  },
  {
   "cell_type": "code",
   "execution_count": 30,
   "id": "00ec29b4",
   "metadata": {},
   "outputs": [
    {
     "name": "stdout",
     "output_type": "stream",
     "text": [
      "is\n",
      "s\n"
     ]
    }
   ],
   "source": [
    "a = [1,2,3,['a','b',['life','is']]]\n",
    "#    0 1 2          3\n",
    "#            0   1         2\n",
    "#                       0     1\n",
    "# is를 출력\n",
    "print(a[3][2][1]) # is\n",
    "# 's'를 출력\n",
    "print(a[3][2][1][1])"
   ]
  },
  {
   "cell_type": "code",
   "execution_count": 38,
   "id": "9ac9544f",
   "metadata": {},
   "outputs": [
    {
     "name": "stdout",
     "output_type": "stream",
     "text": [
      "too\n",
      "[2, 3, 4]\n",
      "1\n",
      "3\n",
      "4\n",
      "[1]\n",
      "[3]\n",
      "[1, 3]\n"
     ]
    }
   ],
   "source": [
    "a ='Life is too short'\n",
    "#   01234567890123456\n",
    "#             1\n",
    "print(a[8: 8 + 3]) # slicing\n",
    "l = [1,2,3,4,5]\n",
    "#    0 1 2 3 4\n",
    "print(l[1: 1 + 3])\n",
    "print(l[0]) # 1 # indexing\n",
    "print(l[2]) # 3\n",
    "print(l[0] + l[2])\n",
    "print(l[0:0+1]) # [1]\n",
    "print(l[2:2+1]) # [3]\n",
    "print(l[0:0+1] + l[2:2+1]) # 리스크 붙이기"
   ]
  },
  {
   "cell_type": "code",
   "execution_count": 41,
   "id": "76834e87",
   "metadata": {},
   "outputs": [
    {
     "name": "stdout",
     "output_type": "stream",
     "text": [
      "['a', 'b', 'c']\n",
      "['b', 'c']\n",
      "[1, 2, 10, ['a', 'b', 'c'], 4, 5]\n"
     ]
    }
   ],
   "source": [
    "a = [1, 2, 3, ['a', 'b', 'c'], 4, 5]\n",
    "#    0  1  2         3         4  5\n",
    "#               0    1    2\n",
    "# [b, c]를 출력\n",
    "print(a[3])\n",
    "print(a[3][1:1+2])\n",
    "a[2] = 10 # 리스트는 index를 이용해서 요소의 값을 변경할 수 있다.\n",
    "print(a)"
   ]
  },
  {
   "cell_type": "code",
   "execution_count": 57,
   "id": "310dab35",
   "metadata": {},
   "outputs": [
    {
     "name": "stdout",
     "output_type": "stream",
     "text": [
      "[1, 2, 3, 4, 5, 6]\n",
      "[1, 2, 3, 1, 2, 3, 1, 2, 3]\n",
      "17\n",
      "4\n",
      "['Life']\n",
      "['Life', 'short']\n",
      "['Life', 'is', 'short']\n",
      "['Life', 'is', 'too', 'short']\n",
      "['Life', 'is', 'too', 'short', 'You', 'need', 'python']\n",
      "['Life', 'is', 'too', 'short']\n",
      "['Life', 'is', 'too', 'short', 'You', 'need', 'python']\n"
     ]
    }
   ],
   "source": [
    "# 리스트 연산자\n",
    "a = [1,2,3]\n",
    "b = [4,5,6]\n",
    "print(a + b) # 연결 연산자\n",
    "print(a * 3) # 반복 연산자\n",
    "\n",
    "# 리스트 함수\n",
    "str1 = 'Life is too short'\n",
    "print(len(str1))\n",
    "l = ['Life', 'is', 'too', 'short']\n",
    "print(len(l)) #요소의 갯수 , 리스트의 크기\n",
    "\n",
    "# 리스트에 요소 추가\n",
    "# append : 마지막 요소 뒤에 추가\n",
    "l = []\n",
    "l.append('Life') \n",
    "print(l)\n",
    "l.append('short')\n",
    "print(l)  # ['Life', 'short']\n",
    "#              0       1   \n",
    "# 원하는 위치에 요소 삽입하기\n",
    "l.insert(1, 'is')\n",
    "print(l)  # ['Life', 'is', 'short']\n",
    "#              0       1       2\n",
    "l.insert(2, 'too')\n",
    "print(l)  # ['Life', 'is', 'too', 'short']\n",
    "l1 = ['You', 'need', 'python']\n",
    "print( l + l1)\n",
    "print(l)\n",
    "# 리스트 요소 확장\n",
    "l.extend(l1)\n",
    "print(l)"
   ]
  },
  {
   "cell_type": "code",
   "execution_count": 76,
   "id": "322a5c05",
   "metadata": {},
   "outputs": [
    {
     "name": "stdout",
     "output_type": "stream",
     "text": [
      "['Life', 'is', 'too', 'short', 'You', 'need', 'python']\n",
      "['Life', 'is', 'too', 'short', 'need', 'python']\n",
      "['Life', 'is', 'too', 'short']\n",
      "['Life']\n",
      "['Life', 'is', 'too', 'short', 2, [1], 4, '1']\n",
      "['Life', 'is', 'too', 'short', 2, [1], 4]\n",
      "['Life', 'is', 'too', 'short', 2, 4]\n",
      "['Life', 'too', 'short', 2, 4]\n",
      "['Life', 'too', 'short', 2]\n",
      "['Life', 'too', 'short']\n",
      "short\n",
      "['Life', 'too']\n",
      "1\n",
      "short\n",
      "['Life', 'is', 'too', 1, 2, [1], 4]\n"
     ]
    }
   ],
   "source": [
    "# 요소 삭제\n",
    "l = ['Life', 'is', 'too', 'short', 'You', 'need', 'python']\n",
    "print(l)\n",
    "del l[4] # index를 이용해서 삭제\n",
    "print(l)\n",
    "del l[4: 4+ 2] # slicing을 이용해서 삭제\n",
    "print(l)\n",
    "del l[1:]\n",
    "print(l)\n",
    "l = ['Life', 'is', 'too', 'short',1,2,[1],4,'1']\n",
    "# 요소의 값을 이용해서 요소 삭제\n",
    "l.remove(1) # 정수\n",
    "print(l)\n",
    "l.remove('1')\n",
    "print(l)\n",
    "l.remove([1])\n",
    "print(l)\n",
    "l.remove('is')\n",
    "print(l)\n",
    "# pop함수를 이용해서 삭제\n",
    "l.pop()\n",
    "print(l)\n",
    "l.pop()\n",
    "print(l)\n",
    "result = l.pop() # 요소를 추출해 올고 싶을 때\n",
    "print(result) # 비복원 추출\n",
    "print(l)\n",
    "l = ['Life', 'is', 'too', 'short',1,2,[1],4,'1']\n",
    "#      0       1      2      3    4 5  6  7  8\n",
    "result = l.pop() # index를 사용하지 않으면 마지막 값을 추출\n",
    "print(result)\n",
    "result = l.pop(3) # index를 사용해서 index에 해당하는 요소 추출\n",
    "print(result)\n",
    "print(l)\n",
    "result = l.pop(0)\n",
    "print(result)\n",
    "print(l)"
   ]
  },
  {
   "cell_type": "code",
   "execution_count": 81,
   "id": "06c64e9e",
   "metadata": {},
   "outputs": [
    {
     "name": "stdout",
     "output_type": "stream",
     "text": [
      "[4, 2, 6, 1, 9]\n",
      "[1, 2, 4, 6, 9]\n",
      "[9, 6, 4, 2, 1]\n",
      "[9, 1, 6, 2, 4]\n"
     ]
    }
   ],
   "source": [
    "# 정렬\n",
    "a = [4, 2, 6, 1, 9]\n",
    "print(a)\n",
    "# 오름차순\n",
    "a.sort()\n",
    "print(a)\n",
    "a = [4, 2, 6, 1, 9]\n",
    "# 내림차순\n",
    "a.sort(reverse=True)\n",
    "print(a)\n",
    "# 뒤에서부터 출력\n",
    "a = [4, 2, 6, 1, 9]\n",
    "a.reverse()\n",
    "print(a)"
   ]
  },
  {
   "cell_type": "code",
   "execution_count": 91,
   "id": "117003be",
   "metadata": {},
   "outputs": [
    {
     "name": "stdout",
     "output_type": "stream",
     "text": [
      "2\n",
      "2\n",
      "2\n",
      "2\n",
      "3\n",
      "3\n",
      "2\n"
     ]
    }
   ],
   "source": [
    "str3= \"hobby\"\n",
    "print(str3.count('b'))\n",
    "l = ['h','o','b','b','y']\n",
    "print(l.count('b'))\n",
    "result = str3.index('b')\n",
    "print(result)\n",
    "result = l.index('b')\n",
    "print(result)\n",
    "result = str3.index('b',3)\n",
    "print(result)\n",
    "result = l.index('b',3)\n",
    "print(result)\n",
    "result = str3.find('b')\n",
    "print(result)\n",
    "# result = l.find('b') # 리스트에는 find함수는 없다."
   ]
  },
  {
   "cell_type": "code",
   "execution_count": 96,
   "id": "b1367b70",
   "metadata": {},
   "outputs": [
    {
     "name": "stdout",
     "output_type": "stream",
     "text": [
      "1\n",
      "1\n",
      "[1]\n",
      "4\n",
      "(4,)\n",
      "(1, 2)\n"
     ]
    }
   ],
   "source": [
    "# 자료형\n",
    "# 정수 자료형: 10\n",
    "# 실수 자료형: 10.5\n",
    "# 문자열 자료형: \"10\"\n",
    "# 리스트 자료형: [10]\n",
    "# 튜플 자료형: (), (1,), (1,2)\n",
    "print(1)\n",
    "print('1')\n",
    "print([1])\n",
    "print((1 + 3))\n",
    "print((1 + 3,))\n",
    "print((1,2))\n",
    "l = [] # 빈리스트\n",
    "t = () # 빈 튜플\n",
    "l = [1]\n",
    "t = (1,)\n",
    "l = ['abv']\n",
    "t = ('abc', )\n",
    "l = [1,2,3,'a'] \n",
    "t = (1,2,3,'a') \n",
    "l = [1,2,3,[4,5,6],'abc',(1,2,3)]\n",
    "t = (1,2,3,[4,5,6],'abc',(1,2,3))"
   ]
  },
  {
   "cell_type": "code",
   "execution_count": 104,
   "id": "89a1a14d",
   "metadata": {},
   "outputs": [
    {
     "name": "stdout",
     "output_type": "stream",
     "text": [
      "3\n",
      "(2, 3)\n",
      "1\n",
      "[1, 2]\n",
      "[1, 10]\n"
     ]
    }
   ],
   "source": [
    "t2 = (1,2,3)\n",
    "#     0 1 2\n",
    "# indexing, slicing을 할 수 있다.\n",
    "print(t2[2])\n",
    "print(t2[1:3])\n",
    "print(t2.index(2))\n",
    "\n",
    "# 리스트와 튜플의 차이점\n",
    "l = [1,2,3]\n",
    "del l[2]\n",
    "print(l)\n",
    "t = (1,2,3) # 튜플은 수정할 수 없다.  상수처럼 사용할 때 \n",
    "# del t[2]\n",
    "l[1] = 10\n",
    "print(l)\n",
    "# t[1] = 10 "
   ]
  },
  {
   "cell_type": "code",
   "execution_count": 113,
   "id": "6b79d39a",
   "metadata": {},
   "outputs": [
    {
     "name": "stdout",
     "output_type": "stream",
     "text": [
      "[1, 2, 3]\n",
      "2\n",
      "(1, 2, 3)\n",
      "2\n",
      "4\n",
      "('a', 'b', [1, 2, 3])\n",
      "[1, 2, 3]\n",
      "[1, 2, 3]\n",
      "(1, 2, 3, 'a', 'b', [1, 2, 3], (1, 2, 3), 3)\n",
      "2\n",
      "2\n"
     ]
    }
   ],
   "source": [
    "t7 = (1, 2, 3, \"a\", \"b\", [1,2,3], (1,2,3))\n",
    "#     0  1  2   3    4      5        6\n",
    "#                         0 1 2    0 1 2 \n",
    "print(t7[5])\n",
    "# 리스트안에 있는 2\n",
    "print(t7[5][1]) # 정수 2\n",
    "print(t7[6]) # 튜플\n",
    "# 튜플안에 있는 2\n",
    "print(t7[6][1]) # 정수 2\n",
    "\n",
    "print(t7[5][1] + t7[6][1])\n",
    "\n",
    "# \"a\", \"b\", [1,2,3]\n",
    "print(t7[3: 3+ 3])\n",
    "print(t7[5])\n",
    "print(t7[5][:])\n",
    "\n",
    "\n",
    "t8 = 1, 2, 3, \"a\", \"b\", [1,2,3], (1,2,3), 3\n",
    "print(t8)\n",
    "print(t8.index(3))\n",
    "print(t8.count(3))"
   ]
  },
  {
   "cell_type": "code",
   "execution_count": 126,
   "id": "e01577a5",
   "metadata": {},
   "outputs": [
    {
     "name": "stdout",
     "output_type": "stream",
     "text": [
      "{'name': 'pey', 'phone': '0107141970', 'birth': '1118'}\n",
      "[1, 2, 3]\n",
      "['your', 'need', 'python']\n",
      "1\n",
      "pey\n",
      "0107141970\n",
      "1118\n",
      "이상범\n",
      "2\n",
      "[1, 10, 3]\n",
      "{2: '김찬중', 0: '이상범', 1: '이장범'}\n",
      "{2: '김찬중', 0: '이상범', 1: '이장범', 3: '이숭무'}\n",
      "{1: 'b'}\n",
      "{1: 'b', 3: [1, 2, 3]}\n"
     ]
    }
   ],
   "source": [
    "# 자료형 : 정수, 실수, 문자열, \n",
    "# 리스트 = [], \n",
    "# 튜플 = ()\n",
    "# 딕셔너리(사전) 자료형 : {},  자바의 map, 자바스크립트 json\n",
    "#          d = {키:값,...}\n",
    "#                        중복키를 허용하지 않는다.\n",
    "l = [] # 빈 리스트\n",
    "t = () # 빈 튜플\n",
    "d = {} # 빈 딕셔너리\n",
    "# dic = {key1:value1, key2:value3, ... , ket_n:value_n}\n",
    "dic = {'name': 'pey', 'phone':'0107141970','birth':'1118'}\n",
    "print(dic)\n",
    "l =[1,2,3]\n",
    "#   0 1 2\n",
    "print(l)\n",
    "print(\"your need python\".split())\n",
    "print(l[0]) # index\n",
    "print(dic['name']) # key를 이용해서 \n",
    "print(dic['phone'])\n",
    "print(dic['birth'])\n",
    "d2 = { 2 : '이숭무', 0 : '이상범' , 1 : '이장범'}\n",
    "#         0              1            2\n",
    "print(d2[0]) # index와 key가 혼용될 수 있어서 key를 사용하게 되었다.\n",
    "print(l[1])\n",
    "l[1] = 10\n",
    "print(l)\n",
    "d2[2] = '김찬중'\n",
    "print(d2)\n",
    "# l[3] = 3 # list assignment index out of range\n",
    "d2[3] ='이숭무' # 키가 있으면 요소값이 수정이 되고 (중복키를 허용하지 않는다.)\n",
    "print(d2)       # 키가 없으면 추가가 된다. \n",
    "d3 = {1:'a', 1: 'b'}\n",
    "print(d3)# 중복키를 허용하지 않으므로 마지막 값을 가지게 된다.\n",
    "d3[3] = [1,2,3]\n",
    "print(d3)"
   ]
  },
  {
   "cell_type": "code",
   "execution_count": 130,
   "id": "7e9871ff",
   "metadata": {},
   "outputs": [
    {
     "name": "stdout",
     "output_type": "stream",
     "text": [
      "{'phone': '0107141970', 'birth': '1118'}\n",
      "{'phone': '0107141970', 'birth': '1118', 3: '이숭무'}\n",
      "{'phone': '0107141970', 'birth': '1118'}\n"
     ]
    }
   ],
   "source": [
    "dic = {'name': 'pey', 'phone':'0107141970','birth':'1118'}\n",
    "# 요소삭제\n",
    "del dic['name']\n",
    "print(dic)\n",
    "dic[3] = '이숭무'\n",
    "print(dic)\n",
    "del dic[3]\n",
    "print(dic)"
   ]
  },
  {
   "cell_type": "code",
   "execution_count": 135,
   "id": "38e27f00",
   "metadata": {},
   "outputs": [
    {
     "name": "stdout",
     "output_type": "stream",
     "text": [
      "{'name': 'pey', 'phone': '0107141970', 'birth': '19991118'}\n",
      "19991118\n",
      "1999\n",
      "11\n",
      "18\n",
      "1118\n",
      "1118\n"
     ]
    }
   ],
   "source": [
    "dic = {'name': 'pey', 'phone':'0107141970','birth':'19991118'}\n",
    "print(dic)\n",
    "print(dic['birth']) # 19991118\n",
    "#                     01234567\n",
    "#                    -87654321\n",
    "# 1. 년, 월 , 일을 따로 출력하세요\n",
    "print(dic['birth'][:4])\n",
    "print(dic['birth'][4:4+2])\n",
    "print(dic['birth'][6:])\n",
    "# 2. 월일만 같이 출력\n",
    "print(dic['birth'][4:])\n",
    "print(dic['birth'][-4:])"
   ]
  },
  {
   "cell_type": "code",
   "execution_count": 142,
   "id": "bc1aa012",
   "metadata": {},
   "outputs": [
    {
     "name": "stdout",
     "output_type": "stream",
     "text": [
      "dict_values(['pey', '0107141970', '19991118'])\n",
      "dict_keys(['name', 'phone', 'birth'])\n",
      "dict_items([('name', 'pey'), ('phone', '0107141970'), ('birth', '19991118')])\n",
      "{}\n",
      "[1, 2, 3, 4]\n",
      "[]\n"
     ]
    }
   ],
   "source": [
    "#### 딕셔너리 관련 함수\n",
    "dic = {'name': 'pey', 'phone':'0107141970','birth':'19991118'}\n",
    "### 딕셔너리에 있는 값만 가져오기\n",
    "print(dic.values())\n",
    "### 딕셔너리에 있는 키만 가져오기\n",
    "print(dic.keys())\n",
    "### 키와 값을 쌍으로 묶어서 가져오기\n",
    "print(dic.items())\n",
    "### 딕셔너리 지우기\n",
    "dic.clear()\n",
    "print(dic)\n",
    "l = [1,2,3,4]\n",
    "print(l)\n",
    "l.clear()\n",
    "print(l)"
   ]
  },
  {
   "cell_type": "code",
   "execution_count": 154,
   "id": "5d332395",
   "metadata": {},
   "outputs": [
    {
     "name": "stdout",
     "output_type": "stream",
     "text": [
      "pey\n",
      "pey\n",
      "None\n",
      "0\n",
      "500\n",
      "500\n",
      "1000\n",
      "1200\n",
      "700\n"
     ]
    }
   ],
   "source": [
    "dic = {'name': 'pey', 'phone':'0107141970','birth':'19991118'}\n",
    "print(dic['name'])\n",
    "print(dic.get('name'))\n",
    "#print(dic['money'])\n",
    "print(dic.get('money'))\n",
    "print(dic.get('money',0))\n",
    "\n",
    "dic1 = {'classic': 500 , \"pop\" : 600}\n",
    "dic2 = {'classic': 500 , \"pop\" : 600 ,\"roc\":700}\n",
    "print(dic1['classic'])\n",
    "print(dic2['classic'])\n",
    "print(dic1['classic'] + dic2['classic'])\n",
    "print(dic1['pop'] + dic2['pop'])\n",
    "# print(dic1['roc'] + dic2['roc'])\n",
    "print(dic1.get('roc', 0) + dic2.get('roc', 0))"
   ]
  },
  {
   "cell_type": "code",
   "execution_count": 165,
   "id": "c58f1f3b",
   "metadata": {},
   "outputs": [
    {
     "name": "stdout",
     "output_type": "stream",
     "text": [
      "{1, 2, 3, 4, 5}\n",
      "{4, 5, 6, 7, 8}\n",
      "{1, 2, 3, 4, 5}\n",
      "{1, 2, 3, 4, 5}\n",
      "{'h', 'e', 'l', 'o'}\n",
      "['h', 'e', 'l', 'l', 'o']\n",
      "('h', 'e', 'l', 'l', 'o')\n",
      "['h', 'e', 'l', 'o']\n",
      "('h', 'e', 'l', 'o')\n",
      "h\n",
      "h\n"
     ]
    }
   ],
   "source": [
    "# 정수, 실수, 문자열, 리스트, 튜플, 딕셔너리\n",
    "# 집합 : 교집합, 합집합, 차집합\n",
    "s1 = {1,2,3,4,5}\n",
    "s2 = {4,5,6,7,8}\n",
    "print(s1)\n",
    "print(s2)\n",
    "s1 = set([1,2,3,4,5])\n",
    "print(s1)\n",
    "s1 = set((1,2,3,4,5))\n",
    "print(s1)\n",
    "s1 = set(\"hello\") # 중복 데이터를 허용하지 않는다.\n",
    "print(s1)\n",
    "\n",
    "l = list(\"hello\")\n",
    "print(l)\n",
    "t = tuple(\"hello\")\n",
    "print(t)\n",
    "l1 = list(s1)\n",
    "print(l1)\n",
    "t1 = tuple(s1)\n",
    "print(t1)\n",
    "### str(), int()\n",
    "print(l1[0])\n",
    "print(t1[0])\n",
    "# print(s1[0]) # 집합자료형은 index를 사용할 수 없다."
   ]
  },
  {
   "cell_type": "code",
   "execution_count": 174,
   "id": "0a94b827",
   "metadata": {},
   "outputs": [
    {
     "name": "stdout",
     "output_type": "stream",
     "text": [
      "{1, 2, 3, 4, 5}\n",
      "{4, 5, 6, 7, 8}\n",
      "{4, 5}\n",
      "{4, 5}\n",
      "{1, 2, 3, 4, 5, 6, 7, 8}\n",
      "{1, 2, 3, 4, 5, 6, 7, 8}\n",
      "{1, 2, 3}\n",
      "{8, 6, 7}\n",
      "{1, 2, 3}\n",
      "{8, 6, 7}\n"
     ]
    }
   ],
   "source": [
    "#### 교집합, 합집합, 차집합\n",
    "s1 = {1,2,3,4,5}\n",
    "s2 = {4,5,6,7,8}\n",
    "print(s1)\n",
    "print(s2)\n",
    "## 교집합\n",
    "print(s1 & s2)\n",
    "print(s1.intersection(s2))\n",
    "## 합집합\n",
    "print(s1 | s2)\n",
    "print(s1.union(s2))\n",
    "## 차집합\n",
    "print(s1 - s2)\n",
    "print(s2 - s1)\n",
    "print(s1.difference(s2))\n",
    "print(s2.difference(s1))"
   ]
  },
  {
   "cell_type": "code",
   "execution_count": 188,
   "id": "791c5db6",
   "metadata": {},
   "outputs": [
    {
     "name": "stdout",
     "output_type": "stream",
     "text": [
      "{1, 2, 3, 4, 5, 6, 7}\n",
      "{1, 2, 3, 4, 5, 6, 7}\n",
      "{1, 2, 3, 4, 5, 6, 7, 8}\n",
      "{1, 2, 3, 4, 5, 6, 7, 8, (8, 9, 10)}\n",
      "{1, 2, 3, 4, 5, 6, 7, 8, 9, 10}\n",
      "{1, 2, 3, 4, 5, 6, 7, 8, 9, 10}\n",
      "{1, 2, 3, 4, 5, 6, 7, 8, 9}\n",
      "{1, 2, 3, 4, 5, 6, 7, 8}\n"
     ]
    }
   ],
   "source": [
    "s1 = {1,2,3,4,5,6,7}\n",
    "print(s1)\n",
    "s1.add(7) # 중복데이터는 허용하지 않는다.\n",
    "print(s1)\n",
    "s1.add(8)\n",
    "print(s1)\n",
    "\n",
    "# 8,9,10을 추가\n",
    "#s1.add(8,9,10)\n",
    "s1.add((8,9,10))\n",
    "print(s1)\n",
    "s1 = {1,2,3,4,5,6,7}\n",
    "s1.update((8,9,10))\n",
    "print(s1)\n",
    "s1 = {1,2,3,4,5,6,7}\n",
    "s1.update([8,9,10])\n",
    "print(s1)\n",
    "\n",
    "#### 요소 삭제\n",
    "s1.remove(10)\n",
    "print(s1)\n",
    "# s1.remove((3,5,7)) ### 한번에 하나씩만 가능\n",
    "# print(s1)\n",
    "s1 = {1, 2, 3, 4, 5, 6, 7, 8, (8, 9, 10)}\n",
    "s1.remove((8, 9, 10))\n",
    "print(s1)"
   ]
  },
  {
   "cell_type": "code",
   "execution_count": 202,
   "id": "9c691edb",
   "metadata": {},
   "outputs": [
    {
     "name": "stdout",
     "output_type": "stream",
     "text": [
      "1\n",
      "True\n",
      "False\n",
      "2\n",
      "a\n",
      "True\n",
      "False\n",
      "True\n",
      "False\n",
      "True\n",
      "False\n",
      "True\n",
      "False\n"
     ]
    }
   ],
   "source": [
    "# 정수:1, 실수:1.2, 문자열:\"a\",리스트:[], 튜플:(), 닥셔너리:{}, 집합:{1,2,3}\n",
    "# 부울:True/False\n",
    "a = 1\n",
    "print(a)\n",
    "a = True\n",
    "print(a)\n",
    "# a = true # 부울타입이 아니다.\n",
    "a = False\n",
    "print(a)\n",
    "#a = false # 부울타입이 아니다.\n",
    "print(1 + 1)\n",
    "print(\"ancb\"[0])\n",
    "print(True and True) # 논리연산:부울타입과 부울타입의 연산이고 결과는 부울\n",
    "\n",
    "# 연산 결과가 부울 타입인 연산은 관계(비교)연산\n",
    "x  =  10; y = 20; z = 30\n",
    "print(x > y) # 부울타입\n",
    "print(x < y)\n",
    "print(x >= y)\n",
    "print(x <= y)\n",
    "print(x == y)\n",
    "print(x != y)\n",
    "print( x > y and x < y)\n",
    "\n",
    "### 논리연산은 관계(비교 연산자를 같이 사용하게 된다.)\n",
    "## and\n",
    "print(True and True)\n",
    "print(True and False)\n",
    "print(False and True)\n",
    "print(False and False)\n",
    "### or \n",
    "print(True or True)\n",
    "print(True or False)\n",
    "print(False or True)\n",
    "print(False or False)"
   ]
  },
  {
   "cell_type": "code",
   "execution_count": 206,
   "id": "17ff19a5",
   "metadata": {},
   "outputs": [
    {
     "name": "stdout",
     "output_type": "stream",
     "text": [
      "False\n",
      "평년\n"
     ]
    }
   ],
   "source": [
    "### 2200년은 윤년일까요(True)? 평년일까요(False)? \n",
    "### 4년마다 윤년이지만 100년마다는 윤년이 아니다 그렇지만 400년마다는 윤년이다.\n",
    "year = 2200\n",
    "result = year % 4 == 0 and year % 100 != 0 or year % 400 == 0\n",
    "print(result)\n",
    "# year % 4 == 0 : 4년마다\n",
    "# year % 100 == 0 : 100년마다\n",
    "# year % 400 == 0 : 400년마다.\n",
    "if year % 4 == 0 and year % 100 != 0 or year % 400 == 0:\n",
    "    print(\"윤년\")\n",
    "else:\n",
    "    print(\"평년\")"
   ]
  },
  {
   "cell_type": "code",
   "execution_count": 217,
   "id": "605640bd",
   "metadata": {},
   "outputs": [
    {
     "name": "stdout",
     "output_type": "stream",
     "text": [
      "True\n",
      "False\n",
      "True\n",
      "False\n",
      "True\n",
      "False\n",
      "False\n",
      "True\n",
      "True\n",
      "False\n",
      "참입니다.\n"
     ]
    }
   ],
   "source": [
    "# 자료형에 따른 부울타입\n",
    "print(bool('이숭무'))\n",
    "print(bool('')) #False\n",
    "print(bool([1,2,3,4]))\n",
    "print(bool([])) #False\n",
    "print(bool((1,2,3,4)))\n",
    "print(bool(())) #False\n",
    "print(bool({})) # False\n",
    "print(bool(-1)) \n",
    "print(bool(1))\n",
    "print(bool(0)) # False\n",
    "\n",
    "a = 'ㅗ포ㅗ'\n",
    "if a:\n",
    "    print('참입니다.')"
   ]
  },
  {
   "cell_type": "code",
   "execution_count": 225,
   "id": "609607af",
   "metadata": {},
   "outputs": [
    {
     "name": "stdout",
     "output_type": "stream",
     "text": [
      "0 0 0\n",
      "python life\n",
      "python life\n",
      "python life\n",
      "python life\n",
      "python life\n",
      "python life\n",
      "python life [1, 2, 3]\n"
     ]
    }
   ],
   "source": [
    "### 파이썬 변수 선언법\n",
    "a = 'python'\n",
    "b = 'life'\n",
    "a = b = c = 0\n",
    "print(a,b,c)\n",
    "a , b = 'python', 'life'\n",
    "print(a,b)\n",
    "a , b = ('python', 'life')\n",
    "print(a, b)\n",
    "(a , b) = 'python', 'life'\n",
    "print(a,b)\n",
    "(a , b) = ('python', 'life')\n",
    "print(a,b)\n",
    "[a , b] = ('python', 'life')\n",
    "print(a,b)\n",
    "[a , b] = ['python', 'life']\n",
    "print(a,b)\n",
    "a , b, c = 'python', 'life', [1,2,3]\n",
    "print(a,b,c)"
   ]
  },
  {
   "cell_type": "code",
   "execution_count": 227,
   "id": "6f476aca",
   "metadata": {},
   "outputs": [
    {
     "name": "stdout",
     "output_type": "stream",
     "text": [
      "============================================================\n",
      "20 10\n",
      "============================================================\n",
      "10 20\n"
     ]
    }
   ],
   "source": [
    "# 변수에 있는 값을 서로 교환하기\n",
    "a = 10\n",
    "b = 20\n",
    "\n",
    "temp = 0\n",
    "print(\"==\" * 30)\n",
    "temp = a\n",
    "a = b\n",
    "b = temp\n",
    "print(a, b)\n",
    "\n",
    "print(\"==\" * 30)\n",
    "a , b = b , a\n",
    "print(a, b)"
   ]
  },
  {
   "cell_type": "code",
   "execution_count": 230,
   "id": "202bf0d3",
   "metadata": {},
   "outputs": [
    {
     "name": "stdout",
     "output_type": "stream",
     "text": [
      "x가 y보다 작다\n",
      "if문 끝\n"
     ]
    }
   ],
   "source": [
    "### 형식(문법)\n",
    "\n",
    "'''\n",
    "if 조건식:\n",
    "    명령문1\n",
    "    명령문2\n",
    "    ...\n",
    "    명령문n\n",
    "    \n",
    "명령문11\n",
    "'''\n",
    "# 들여쓰기 : 공백문자 , tab키를 이용가능 , 하지만 혼용해서 사용할 수 없다\n",
    "'''\n",
    "if 조건식:\n",
    "    명령문1\n",
    "    ...\n",
    "    명령문n\n",
    "esle:\n",
    "    명령문11\n",
    "    ...\n",
    "    명령문1n\n",
    "'''\n",
    "x = 10 ; y = 20\n",
    "if x > y:\n",
    "    print(\"x가 y보다 크다\")\n",
    "else:\n",
    "    print(\"x가 y보다 작다\")\n",
    "print(\"if문 끝\")"
   ]
  },
  {
   "cell_type": "code",
   "execution_count": 238,
   "id": "f939f60b",
   "metadata": {},
   "outputs": [
    {
     "name": "stdout",
     "output_type": "stream",
     "text": [
      "True\n",
      "4가 있다\n",
      "4가 있다\n",
      "True\n",
      "name 키가 있습니다.\n",
      "False\n",
      "True\n",
      "False\n",
      "True\n"
     ]
    }
   ],
   "source": [
    "# IN연산자 사용하기\n",
    "l = [1,2,3,4,5]\n",
    "print(4 in l)\n",
    "if 4 in l:\n",
    "    print(\"4가 있다\")\n",
    "else:\n",
    "    print(\"4가 없다\")\n",
    "\n",
    "if 4 in [1,2,3,4,5]:\n",
    "    print(\"4가 있다\")\n",
    "else:\n",
    "    print(\"4가 없다\")\n",
    "\n",
    "dic = {\"name\":'이숭무', 'phone':'01071461970'}\n",
    "print( 'name' in dic)\n",
    "if 'name' in dic:\n",
    "    print('name 키가 있습니다.')\n",
    "else:\n",
    "    print('키가 없습니다.')\n",
    "\n",
    "print(\"j\" in \"python\")\n",
    "print(\"j\" not in \"python\")\n",
    "print( 7 in {1,2,3,4,5,6})\n",
    "print( 7 not in {1,2,3,4,5,6})"
   ]
  },
  {
   "cell_type": "code",
   "execution_count": 239,
   "id": "153dc04a",
   "metadata": {},
   "outputs": [
    {
     "name": "stdout",
     "output_type": "stream",
     "text": [
      "True\n"
     ]
    }
   ],
   "source": [
    "pocket = ['paper', 'cellphone', 'money']\n",
    "print('money' in pocket)\n",
    "if 'money' in pocket:\n",
    "    print(\"차를 차고 가시오\")\n",
    "else:\n",
    "    print(\"걸어가시오\")"
   ]
  },
  {
   "cell_type": "code",
   "execution_count": 240,
   "id": "9dc61832",
   "metadata": {},
   "outputs": [
    {
     "name": "stdout",
     "output_type": "stream",
     "text": [
      "C\n"
     ]
    }
   ],
   "source": [
    "'''\n",
    "if 조건식:\n",
    "    명령문\n",
    "elif 조건식:\n",
    "    명령문\n",
    "elif 조건식:\n",
    "    명령문\n",
    "else:\n",
    "    명령문\n",
    "\n",
    "'''\n",
    "# score가 90이상이면 A, 80이상이면 B, 70이상이면 C, 60이상이면 D, \n",
    "# 그렇지 않으면 F\n",
    "score = 76\n",
    "if score >= 90:\n",
    "    print('A')\n",
    "elif score >= 80:\n",
    "    print('B')\n",
    "elif score >= 70:\n",
    "    print('C')\n",
    "elif score >= 60:\n",
    "    print('D')\n",
    "else:\n",
    "    print('F')"
   ]
  },
  {
   "cell_type": "code",
   "execution_count": 242,
   "id": "e132e923",
   "metadata": {},
   "outputs": [
    {
     "name": "stdout",
     "output_type": "stream",
     "text": [
      "success\n",
      "success\n"
     ]
    }
   ],
   "source": [
    "'''\n",
    "score가 60이상이면 message 변수에 success를 아니면 message 에 failure를 저장한 후 출력\n",
    "'''\n",
    "if score >= 60:\n",
    "    message = \"success\"\n",
    "else:\n",
    "    message = \"failure\"\n",
    "print(message)\n",
    "\n",
    "message = \"success\" if score >= 60 else \"failure\"\n",
    "print(message)"
   ]
  },
  {
   "cell_type": "code",
   "execution_count": 243,
   "id": "9c563ba5",
   "metadata": {},
   "outputs": [
    {
     "name": "stdout",
     "output_type": "stream",
     "text": [
      "30\n"
     ]
    }
   ],
   "source": [
    "a = 10; b = 20; opt='add'\n",
    "if opt==\"add\":\n",
    "    result = a + b\n",
    "elif opt == \"sub\":\n",
    "    result = a - b\n",
    "elif opt == \"mul\":\n",
    "    result = a * b\n",
    "else:\n",
    "    result = a / b\n",
    "print(result)"
   ]
  },
  {
   "cell_type": "code",
   "execution_count": 245,
   "id": "2adfdeb3",
   "metadata": {},
   "outputs": [
    {
     "name": "stdout",
     "output_type": "stream",
     "text": [
      "30\n"
     ]
    }
   ],
   "source": [
    "if opt==\"add\":\n",
    "    result = a + b\n",
    "else:\n",
    "    if opt == \"sub\":\n",
    "        result = a - b\n",
    "    else:\n",
    "        if opt == \"mul\":\n",
    "            result = a * b\n",
    "        else:\n",
    "            result = a / b\n",
    "print(result)"
   ]
  },
  {
   "cell_type": "code",
   "execution_count": 246,
   "id": "feac2715",
   "metadata": {},
   "outputs": [
    {
     "name": "stdout",
     "output_type": "stream",
     "text": [
      "30\n"
     ]
    }
   ],
   "source": [
    "result = a + b if opt == \"add\" else (\n",
    "         a - b if opt == \"sub\" else(\n",
    "         a * b if opt == \"mul\" else a / b\n",
    "         )\n",
    ")\n",
    "print(result)"
   ]
  },
  {
   "cell_type": "code",
   "execution_count": 252,
   "id": "f8efc594",
   "metadata": {},
   "outputs": [
    {
     "name": "stdout",
     "output_type": "stream",
     "text": [
      "<class 'int'>\n",
      "<class 'float'>\n",
      "<class 'str'>\n",
      "<class 'list'>\n",
      "<class 'tuple'>\n"
     ]
    }
   ],
   "source": [
    "a = 10\n",
    "print(type(a))\n",
    "a = 10.4\n",
    "print(type(a))\n",
    "a = \"이숭무\"\n",
    "print(type(a))\n",
    "print(type([1,2,3]))\n",
    "print(type((1,2,3)))"
   ]
  },
  {
   "cell_type": "code",
   "execution_count": null,
   "id": "f4435c6c",
   "metadata": {},
   "outputs": [],
   "source": []
  },
  {
   "cell_type": "code",
   "execution_count": null,
   "id": "37fd3246",
   "metadata": {},
   "outputs": [],
   "source": []
  },
  {
   "cell_type": "code",
   "execution_count": null,
   "id": "ed592e14",
   "metadata": {},
   "outputs": [],
   "source": []
  }
 ],
 "metadata": {
  "kernelspec": {
   "display_name": "Python 3 (ipykernel)",
   "language": "python",
   "name": "python3"
  },
  "language_info": {
   "codemirror_mode": {
    "name": "ipython",
    "version": 3
   },
   "file_extension": ".py",
   "mimetype": "text/x-python",
   "name": "python",
   "nbconvert_exporter": "python",
   "pygments_lexer": "ipython3",
   "version": "3.8.10"
  }
 },
 "nbformat": 4,
 "nbformat_minor": 5
}
