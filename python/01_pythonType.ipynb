{
 "cells": [
  {
   "cell_type": "code",
   "execution_count": 2,
   "id": "86777ec9",
   "metadata": {},
   "outputs": [
    {
     "name": "stderr",
     "output_type": "stream",
     "text": [
      "C:\\Users\\HKEDU\\AppData\\Local\\Temp\\ipykernel_12876\\1014303460.py:1: DeprecationWarning: Importing display from IPython.core.display is deprecated since IPython 7.14, please import from IPython display\n",
      "  from IPython.core.display import display, HTML\n"
     ]
    },
    {
     "data": {
      "text/html": [
       "<style>\n",
       "div.container { width:100% !important; }\n",
       "div.CodeMirror {font-family: Consolas; font-size: 30pt;}\n",
       "div.output { font-size: 20pt; font-weight: bold;}\n",
       "div.input { font-family: Consolas; font-size: 30pt;}\n",
       "div.prompt { min-width: 100px;}\n",
       "</style>\n"
      ],
      "text/plain": [
       "<IPython.core.display.HTML object>"
      ]
     },
     "metadata": {},
     "output_type": "display_data"
    }
   ],
   "source": [
    "from IPython.core.display import display, HTML\n",
    "display(HTML(\n",
    "\"\"\"<style>\n",
    "div.container { width:100% !important; }\n",
    "div.CodeMirror {font-family: Consolas; font-size: 30pt;}\n",
    "div.output { font-size: 20pt; font-weight: bold;}\n",
    "div.input { font-family: Consolas; font-size: 30pt;}\n",
    "div.prompt { min-width: 100px;}\n",
    "</style>\n",
    "\"\"\"))"
   ]
  },
  {
   "cell_type": "code",
   "execution_count": 14,
   "id": "34eae496",
   "metadata": {},
   "outputs": [
    {
     "name": "stdout",
     "output_type": "stream",
     "text": [
      "6\n"
     ]
    }
   ],
   "source": [
    "print(1 + 5)"
   ]
  },
  {
   "cell_type": "code",
   "execution_count": 16,
   "id": "5b26a76c",
   "metadata": {},
   "outputs": [
    {
     "name": "stdout",
     "output_type": "stream",
     "text": [
      "12\n",
      "8\n"
     ]
    }
   ],
   "source": [
    "print(2 * 6); print(3 + 5)"
   ]
  },
  {
   "cell_type": "code",
   "execution_count": 17,
   "id": "395a1301",
   "metadata": {},
   "outputs": [
    {
     "name": "stdout",
     "output_type": "stream",
     "text": [
      "9\n"
     ]
    }
   ],
   "source": [
    "print(5 + 4);"
   ]
  },
  {
   "cell_type": "code",
   "execution_count": 18,
   "id": "8a5a5a46",
   "metadata": {},
   "outputs": [
    {
     "name": "stdout",
     "output_type": "stream",
     "text": [
      "1\n",
      "2\n",
      "3\n",
      "4\n"
     ]
    }
   ],
   "source": [
    "for i in [1,2,3,4]:\n",
    "    print(i)"
   ]
  },
  {
   "cell_type": "code",
   "execution_count": 29,
   "id": "0801c6dc",
   "metadata": {},
   "outputs": [
    {
     "name": "stdout",
     "output_type": "stream",
     "text": [
      "10\n",
      "10.4\n",
      "10\n",
      "10.5\n",
      "이숭무\n",
      "010-7146-1970\n",
      "highland0@nate.com\n"
     ]
    }
   ],
   "source": [
    "# 자료형 : 리터널 : 자연어 (정수, 실수, 문자열)\n",
    "#              정수 리터널 : 1, 12\n",
    "#              실수 리터널 : 1.5, 4.5\n",
    "#              문자열 리터널\n",
    "print(10) # 숫자를 표현할 때는 아무런 표시를 하지 않는다.\n",
    "print(10.4) \n",
    "\n",
    "#변수 = 리터널\n",
    "a = 10 # 정수형 변수\n",
    "print(a) \n",
    "a = 10.5\n",
    "print(a)\n",
    "a =\"이숭무\"\n",
    "print(a)\n",
    "a = \"010-7146-1970\"\n",
    "print(a)\n",
    "a = \"highland0@nate.com\"\n",
    "print(a)"
   ]
  },
  {
   "cell_type": "code",
   "execution_count": 33,
   "id": "5816179f",
   "metadata": {},
   "outputs": [
    {
     "name": "stdout",
     "output_type": "stream",
     "text": [
      "20\n",
      "1\n",
      "3\n",
      "1000\n"
     ]
    }
   ],
   "source": [
    "# 숫자 연산자 : +, - , *, /\n",
    "a = 30\n",
    "b = 10\n",
    "print(a - b)\n",
    "# 나머지 연산자 : %\n",
    "print( 10 % 3)\n",
    "# 몫 연산자 \n",
    "print(10 // 3 )\n",
    "# 제곱승 \n",
    "print(10 ** 3)\n",
    "## + , - , * , / , % , // , **"
   ]
  },
  {
   "cell_type": "code",
   "execution_count": 42,
   "id": "9635dcf0",
   "metadata": {},
   "outputs": [
    {
     "name": "stdout",
     "output_type": "stream",
     "text": [
      "곽여송\n",
      "한경닷컴\n",
      "a\n",
      "a\n",
      "20\n",
      "1010\n"
     ]
    }
   ],
   "source": [
    "# 문자열 리터널 : 영어, 한국어, 중국어, ...\n",
    "#                \"a\",'a' , a:변수\n",
    "이숭무 = \"곽여송\" # 문자열 리터널\n",
    "print(이숭무)\n",
    "이숭무 = '한경닷컴'\n",
    "print(이숭무)\n",
    "이숭무 = 'a'\n",
    "print(이숭무)\n",
    "이숭무 = \"a\"\n",
    "print(이숭무)\n",
    "이숭무 = \"10\"\n",
    "print(10 + 10)\n",
    "# print(10 + \"10\")\n",
    "print(\"10\" + \"10\")"
   ]
  },
  {
   "cell_type": "code",
   "execution_count": 14,
   "id": "f76695a0",
   "metadata": {},
   "outputs": [
    {
     "name": "stdout",
     "output_type": "stream",
     "text": [
      "10\n",
      "10.54\n",
      "10\n",
      "10.4\n",
      "1010\n",
      "pythonisfun\n",
      "python is fun\n",
      "python is fun\n",
      "python \n",
      "is fun\n"
     ]
    }
   ],
   "source": [
    "print(10) # 정수\n",
    "print(10.54) # 실수\n",
    "print(\"10\") # 문자열\n",
    "print(\"10.4\") # 문자열\n",
    "# print(10 + \"10\") # TypeError: unsupported operand type(s) for +: 'int' and 'str'\n",
    "print(\"10\" + \"10\")\n",
    "print(\"python\" + \"is\" + \"fun\")\n",
    "print(\"python\"+ \" \" + \"is\"+ \" \" + \"fun\")\n",
    "print('python '+ 'is'+ ' fun')\n",
    "# 문자열에서는 +연산자는 붙이기 연산자이다.\n",
    "print('python \\n' + 'is'+ ' fun')"
   ]
  },
  {
   "cell_type": "code",
   "execution_count": 21,
   "id": "d82cdc62",
   "metadata": {},
   "outputs": [
    {
     "name": "stdout",
     "output_type": "stream",
     "text": [
      "python \n",
      "is \n",
      "fun\n",
      "python\n",
      "is\n",
      "fun\n",
      "Life is too short, You need python\n",
      "Life is too short, \n",
      "You need python\n",
      "Life is too short, \n",
      "You need python\n"
     ]
    }
   ],
   "source": [
    "# \"\" , '', \"\"\"\"\"\", ''''''\n",
    "a = '''python \n",
    "is \n",
    "fun'''\n",
    "print(a)\n",
    "a = \"\"\"python\n",
    "is\n",
    "fun\"\"\"\n",
    "print(a)\n",
    "print(\"Life is too short, You need python\")\n",
    "print(\"\"\"Life is too short, \n",
    "You need python\"\"\")\n",
    "print('''Life is too short, \n",
    "You need python''') # 행바꿈을 할 때 주로 사용"
   ]
  },
  {
   "cell_type": "code",
   "execution_count": 30,
   "id": "1a14f073",
   "metadata": {},
   "outputs": [
    {
     "name": "stdout",
     "output_type": "stream",
     "text": [
      "Life's too short, You need python\n",
      "Life is too short, \"You need python\"\n",
      "Life is too short, \"You need python\"\n",
      "Life's too short, You need python\n",
      "\tLife's too short, You need python\n"
     ]
    }
   ],
   "source": [
    "print(\"Life's too short, You need python\")\n",
    "print('Life is too short, \"You need python\"')\n",
    "print(\"Life is too short, \\\"You need python\\\"\")\n",
    "print('Life\\'s too short, You need python')\n",
    "print('\\tLife\\'s too short, You need python')"
   ]
  },
  {
   "cell_type": "code",
   "execution_count": 32,
   "id": "9e16e4a0",
   "metadata": {},
   "outputs": [
    {
     "name": "stdout",
     "output_type": "stream",
     "text": [
      "\tLife's too short\n",
      ", You need python\n"
     ]
    }
   ],
   "source": [
    "print('\\tLife\\'s too short\\n, You need python')"
   ]
  },
  {
   "cell_type": "code",
   "execution_count": 40,
   "id": "c04719f7",
   "metadata": {},
   "outputs": [
    {
     "name": "stdout",
     "output_type": "stream",
     "text": [
      "Pythonis fun\n",
      "Python is fun\n",
      "============================================================\n",
      "제목\n",
      "============================================================\n",
      "PythonPythonPythonPythonPythonPythonPythonPythonPythonPythonPythonPythonPythonPythonPythonPythonPythonPythonPythonPythonPythonPythonPythonPythonPythonPythonPythonPythonPythonPython\n"
     ]
    }
   ],
   "source": [
    "head = \"Python\"\n",
    "tail = \"is fun\"\n",
    "print(head + tail)\n",
    "print(head+\" \" + tail)\n",
    "print(\"==\" * 30) # *연산자 : 문자열 반복\n",
    "print(\"제목\")\n",
    "print(\"==\" * 30)\n",
    "print(head * 30)"
   ]
  },
  {
   "cell_type": "code",
   "execution_count": 48,
   "id": "5d51488a",
   "metadata": {},
   "outputs": [
    {
     "name": "stdout",
     "output_type": "stream",
     "text": [
      "1020\n",
      "1020\n"
     ]
    }
   ],
   "source": [
    "print(str(10) + \"20\")\n",
    "str = \"이숭무\"\n",
    "# print(str(10) + \"20\")\n",
    "# 같은 이름의 함수와 변수를 둘 수 없다. str(), str\n",
    "del str\n",
    "print(str(10) + \"20\")\n",
    "a = 10"
   ]
  },
  {
   "cell_type": "code",
   "execution_count": 53,
   "id": "fd72d04d",
   "metadata": {},
   "outputs": [
    {
     "name": "stdout",
     "output_type": "stream",
     "text": [
      "Life is too short\n",
      "17\n",
      "L\n",
      "i\n",
      "t\n",
      "t\n"
     ]
    }
   ],
   "source": [
    "# indexing : index를 이용해서 원하는 문자를 가지고 오는 것\n",
    "# index는 문자열에서 문자가 가지고 있는 고유의 번호\n",
    "str1 = \"Life is too short\"\n",
    "#       01234567890123456\n",
    "#                 1\n",
    "print(str1)\n",
    "print(len(str1))\n",
    "print(str1[0])\n",
    "print(str1[5])\n",
    "print(str1[16])\n",
    "print(str1[len(str1) - 1])"
   ]
  },
  {
   "cell_type": "code",
   "execution_count": 58,
   "id": "a6910d1d",
   "metadata": {},
   "outputs": [
    {
     "name": "stdout",
     "output_type": "stream",
     "text": [
      "L\n",
      "L\n",
      "L\n",
      "============================================================\n",
      "t\n",
      "t\n",
      "t\n",
      "============================================================\n",
      "r\n",
      "r\n",
      "Life\n"
     ]
    }
   ],
   "source": [
    "str1 = \"Life is too short\"\n",
    "#       01234567890123456\n",
    "#                 1\n",
    "#       76543210987654321 -\n",
    "#              1\n",
    "print(str1[0])\n",
    "print(str1[-17])\n",
    "print(str1[-len(str1)])\n",
    "print(\"==\" * 30)\n",
    "print(str1[16])\n",
    "print(str1[-1])\n",
    "print(str1[len(str1) -1 ])\n",
    "print(\"==\" *30)\n",
    "print(str1[15]); print(str1[-2])\n",
    "# Life\n",
    "print(str1[0]+str1[1]+str1[2]+str1[3])"
   ]
  },
  {
   "cell_type": "code",
   "execution_count": 61,
   "id": "2670f81e",
   "metadata": {},
   "outputs": [
    {
     "name": "stdout",
     "output_type": "stream",
     "text": [
      "Life\n",
      "Life\n",
      "too\n",
      "too\n",
      "too\n",
      "too\n"
     ]
    }
   ],
   "source": [
    "# slicing : 문자열 자르기\n",
    "print(str1[0:4])\n",
    "print(str1[0:0+4])\n",
    "# too\n",
    "print(str1[8 : 8 + 3])\n",
    "print(str1[-9: -6])\n",
    "print(str1[-9: -9 + 3])\n",
    "print(str1[8 : -6])"
   ]
  },
  {
   "cell_type": "code",
   "execution_count": 65,
   "id": "4513b678",
   "metadata": {},
   "outputs": [
    {
     "name": "stdout",
     "output_type": "stream",
     "text": [
      "Life\n",
      "Life\n",
      "Life\n",
      "short\n",
      "short\n",
      "short\n"
     ]
    }
   ],
   "source": [
    "str1 = \"Life is too short\"\n",
    "#       01234567890123456\n",
    "#                 1\n",
    "#       76543210987654321 -\n",
    "#              1\n",
    "# Life\n",
    "print(str1[0:4])\n",
    "print(str1[:4])\n",
    "print(str1[:-13])\n",
    "#short\n",
    "print(str1[12:17])\n",
    "print(str1[12:len(str1)])\n",
    "print(str1[12:])"
   ]
  },
  {
   "cell_type": "code",
   "execution_count": 69,
   "id": "f593083a",
   "metadata": {},
   "outputs": [
    {
     "name": "stdout",
     "output_type": "stream",
     "text": [
      "20010331\n",
      "Rainy\n",
      "i\n"
     ]
    }
   ],
   "source": [
    "# 날짜와 이름을 분리하여 출력\n",
    "a = \"20010331Rainy\"\n",
    "print(a[:8])\n",
    "print(a[8:])\n",
    "a = \"pithon\"\n",
    "print(a[1])\n",
    "#a[1] = \"y\" : 문자열은 index를 이용해서 값을 변경할 수 없다."
   ]
  },
  {
   "cell_type": "code",
   "execution_count": 70,
   "id": "17b225c0",
   "metadata": {},
   "outputs": [
    {
     "name": "stdout",
     "output_type": "stream",
     "text": [
      "현재 온도는 30도입니다.\n",
      "현재 온도는 40도입니다.\n"
     ]
    }
   ],
   "source": [
    "# \"\",'',\"\"\"\"\"\",''''''\n",
    "# +, *\n",
    "# indexing, slicing \n",
    "# 문자열 포매팅\n",
    "print(\"현재 온도는 30도입니다.\")\n",
    "print(\"현재 온도는 40도입니다.\")"
   ]
  },
  {
   "cell_type": "code",
   "execution_count": 81,
   "id": "ff57e6aa",
   "metadata": {},
   "outputs": [
    {
     "name": "stdout",
     "output_type": "stream",
     "text": [
      "이숭무의 계좌번호는 1111번이고 잔액은 100원입니다.\n",
      "이숭무의 계좌번호는 1111번이고 잔액은 100원입니다.\n",
      "이숭무의 계좌번호는 1111번이고 잔액은 1000원입니다.\n",
      "============================================================\n",
      "이숭무의 나이는 25살이고 키는 175.300000입니다\n",
      "이숭무의 나이는 25살이고 키는 175.3입니다\n",
      "이숭무의 나이는 25살이고 키는 175.3입니다\n",
      "이숭무의 나이는 25살이고 키는 175.3입니다\n",
      "이숭무의 나이는 25살이고 키는 175.30입니다\n",
      "이숭무의 나이는 25살이고 키는 175.3입니다\n"
     ]
    }
   ],
   "source": [
    "account = '1111'\n",
    "name = '이숭무'\n",
    "money = 100\n",
    "### 이숭무의 계좌번호는 1111번이고 잔액은 100원입니다.\n",
    "print(name+\"의 계좌번호는 \"+ account +\"번이고 잔액은 \"+str(money)+\"원입니다.\")\n",
    "print(\"%s의 계좌번호는 %s번이고 잔액은 %d원입니다.\" % (name,account,money))\n",
    "# %s:문자열, %d:숫자, %f : 실수, %c : 문자 =>\n",
    "print(\"%s의 계좌번호는 %s번이고 잔액은 %d원입니다.\" % (name,account,1000))\n",
    "print(\"==\" * 30)\n",
    "\"이숭무의 나이는 25살이고 키는 175.3입니다\"\n",
    "age =  25\n",
    "height = 175.3\n",
    "a  = \"%s의 나이는 %d살이고 키는 %f입니다\" % (name, age, height)\n",
    "print(a)\n",
    "a  = \"%s의 나이는 %d살이고 키는 %5.1f입니다\" % (name, age, height)\n",
    "print(a)\n",
    "a  = \"%s의 나이는 %d살이고 키는 %3.1f입니다\" % (name, age, height)\n",
    "print(a)\n",
    "a  = \"%s의 나이는 %d살이고 키는 %.1f입니다\" % (name, age, height)\n",
    "print(a)\n",
    "a  = \"%s의 나이는 %d살이고 키는 %.2f입니다\" % (name, age, height)\n",
    "print(a)\n",
    "a  = \"%s의 나이는 %s살이고 키는 %s입니다\" % (name, age, height)\n",
    "print(a)"
   ]
  },
  {
   "cell_type": "code",
   "execution_count": 84,
   "id": "d6bb1dae",
   "metadata": {},
   "outputs": [
    {
     "name": "stdout",
     "output_type": "stream",
     "text": [
      "이숭무의 나이는 25살이고 키는 175.30입니다\n",
      "이숭무의 나이는         25살이고 키는     175.30입니다\n",
      "이숭무의 나이는 25        살이고 키는 175.30    입니다\n"
     ]
    }
   ],
   "source": [
    "#-는 왼쪽정렬, +는 오른쪽 정렬\n",
    "a  = \"%s의 나이는 %d살이고 키는 %.2f입니다\" % (name, age, height)\n",
    "print(a)\n",
    "a  = \"%s의 나이는 %10d살이고 키는 %10.2f입니다\" % (name, age, height)\n",
    "print(a)\n",
    "a  = \"%s의 나이는 %-10d살이고 키는 %-10.2f입니다\" % (name, age, height)\n",
    "print(a)\n"
   ]
  },
  {
   "cell_type": "code",
   "execution_count": 90,
   "id": "17fe4bfd",
   "metadata": {},
   "outputs": [
    {
     "name": "stdout",
     "output_type": "stream",
     "text": [
      "이숭무의 나이는 25살이고 키는 175.3입니다\n",
      "이숭무의 나이는 25살이고 키는 175.3입니다\n",
      "이숭무님의 나이는 25살이고요 이숭무의 키는 175.3입니다\n"
     ]
    }
   ],
   "source": [
    "# format 함수를 사용한 포매팅\n",
    "# 문자열 : \"abc\",'abc'\n",
    "# 변수 : abc\n",
    "# 함수 : abc(), ### print() , str(), int(), format()\n",
    "a  = \"{0}의 나이는 {1}살이고 키는 {2}입니다\".format(name, age, height)\n",
    "#                                                 0     1     2\n",
    "print(a)\n",
    "a  = \"{1}의 나이는 {0}살이고 키는 {2}입니다\"\\\n",
    "                    .format(age, name, height)\n",
    "print(a)\n",
    "# 이숭무님의 나이는 25살이고요 이숭무의 키는 175.3입니다\n",
    "a  = \"{0}님의 나이는 {1}살이고요 {0}의 키는 {2}입니다\"\\\n",
    "                    .format(name,age,height)\n",
    "print(a)"
   ]
  },
  {
   "cell_type": "code",
   "execution_count": 95,
   "id": "2bf6502e",
   "metadata": {},
   "outputs": [
    {
     "name": "stdout",
     "output_type": "stream",
     "text": [
      "이숭무님의 나이는 25살이고요 이숭무의 키는 175.3입니다\n",
      "이숭무님의 나이는 25살이고요 이숭무의 키는 130입니다\n",
      "이숭무님의 나이는 25살이고요 이숭무의 키는 130입니다\n"
     ]
    }
   ],
   "source": [
    "a  = \"{0}님의 나이는 {1}살이고요 {0}의 키는 {bbb}입니다\"\\\n",
    "                    .format(name,age,bbb=height)\n",
    "print(a)\n",
    "a  = \"{0}님의 나이는 {1}살이고요 {0}의 키는 {bbb}입니다\"\\\n",
    "                    .format(name,age,bbb=130)\n",
    "print(a)\n",
    "'''\n",
    "a  = \"{0}님의 나이는 {1}살이고요 {0}의 키는 {2}입니다\"\\\n",
    "                    .format(name,age,bbb=130)\n",
    "print(a)\n",
    "a  = \"{0}님의 나이는 {2}살이고요 {0}의 키는 {bbb}입니다\"\\\n",
    "                    .format(name,bbb=130,age)\n",
    "print(a)\n",
    "'''\n",
    "# 이름을 사용하는 경우에는 이름을 맨뒤 부터 붙여주면 된다.\n",
    "a  = \"{0}님의 나이는 {age}살이고요 {0}의 키는 {bbb}입니다\"\\\n",
    "                    .format(name,bbb=130,age=25)\n",
    "print(a)"
   ]
  },
  {
   "cell_type": "code",
   "execution_count": 97,
   "id": "a367a787",
   "metadata": {},
   "outputs": [
    {
     "name": "stdout",
     "output_type": "stream",
     "text": [
      "이숭무님의 나이는 25살이고요 이숭무의 키는 175.3입니다\n"
     ]
    }
   ],
   "source": [
    "### f 문자열 포매팅\n",
    "name = '이숭무'\n",
    "age = 25\n",
    "height = 175.3\n",
    "\"이숭무님의 나이는 25살이고요 이숭무의 키는 175.3입니다\"\n",
    "print(f\"{name}님의 나이는 {age}살이고요 {name}의 키는 {height}입니다\")"
   ]
  },
  {
   "cell_type": "code",
   "execution_count": null,
   "id": "334eacb2",
   "metadata": {},
   "outputs": [],
   "source": [
    "# 포매팅\n",
    "# 1. 포맷문자를 이용한 포맷팅\n",
    "# 2. format함수를 이용한 포맷팅\n",
    "# 3. f문자를 이용한 포맷팅\n",
    "\n",
    "# indexing, slicing (자바:substring)\n",
    "# 문자열 연산자 : +, *"
   ]
  },
  {
   "cell_type": "code",
   "execution_count": 100,
   "id": "99cf7696",
   "metadata": {},
   "outputs": [
    {
     "name": "stdout",
     "output_type": "stream",
     "text": [
      "5\n",
      "5\n",
      "2\n",
      "2\n",
      "obb\n"
     ]
    }
   ],
   "source": [
    "### 문자열 가공하기 :  문자열 함수\n",
    "a = \"hobby\"\n",
    "#    01234\n",
    "# 문자열의 크기\n",
    "print(len(a))\n",
    "print(len(\"hobby\"))\n",
    "# 문자의 갯수\n",
    "print(a.count('b'))\n",
    "print(\"hobby\".count('b'))\n",
    "print(a[1:1+3])"
   ]
  },
  {
   "cell_type": "code",
   "execution_count": 112,
   "id": "3fd7f8c1",
   "metadata": {},
   "outputs": [
    {
     "name": "stdout",
     "output_type": "stream",
     "text": [
      "8\n",
      "too\n",
      "1\n",
      "if\n",
      "5\n",
      "is\n",
      "5\n",
      "5\n",
      "is\n"
     ]
    }
   ],
   "source": [
    "a = \"Life is too short\"\n",
    "#    012345678\n",
    "print(a.index(\"too\"))\n",
    "print(a[a.index(\"too\"):a.index(\"too\") + 3])\n",
    "print(a.index('i'))\n",
    "print(a[a.index('i') : a.index('i') + 2])\n",
    "print(a.rindex('i'))\n",
    "print(a[a.rindex('i') : a.rindex('i') + 2])\n",
    "print(a.index('i',2))\n",
    "print(a.index('i', a.index('i') + 1))\n",
    "i = a.index('i', a.index('i') + 1)\n",
    "print(a[i : i + 2 ])"
   ]
  },
  {
   "cell_type": "code",
   "execution_count": 120,
   "id": "35e65bdd",
   "metadata": {},
   "outputs": [
    {
     "name": "stdout",
     "output_type": "stream",
     "text": [
      "8\n",
      "8\n",
      "too\n",
      "too\n",
      "1\n",
      "if\n",
      "5\n",
      "5\n",
      "5\n"
     ]
    }
   ],
   "source": [
    "a = \"Life is too short\"\n",
    "#    012345678\n",
    "print(a.index(\"too\"))\n",
    "print(a.find(\"too\"))\n",
    "print(a[a.find(\"too\"):a.find(\"too\") + 3])\n",
    "print(a[a.find(\"t\"):a.find(\"t\") + 3])\n",
    "print(a.find('i'))\n",
    "print(a[a.find('i') : a.find('i') + 2])\n",
    "print(a.find('i',2))\n",
    "print(a.find('i',a.find('i') + 1))\n",
    "print(a.rfind('i'))"
   ]
  },
  {
   "cell_type": "code",
   "execution_count": 122,
   "id": "a0fb97f1",
   "metadata": {},
   "outputs": [
    {
     "name": "stdout",
     "output_type": "stream",
     "text": [
      "-1\n"
     ]
    }
   ],
   "source": [
    "# print(a.index('k')) # 없는 문지를 찾을 때 오류\n",
    "print(a.find('k'))"
   ]
  },
  {
   "cell_type": "code",
   "execution_count": 127,
   "id": "80b24f31",
   "metadata": {},
   "outputs": [
    {
     "name": "stdout",
     "output_type": "stream",
     "text": [
      "life is too short\n",
      "Life is too short\n",
      "life is too short\n",
      "LIFE IS TOO SHORT\n"
     ]
    }
   ],
   "source": [
    "a = \"Life is too short\"\n",
    "# 모두 소문자로 가져오기\n",
    "print(a.lower())\n",
    "print(a)\n",
    "result = a.lower()\n",
    "print(result)\n",
    "# 모두 대문자로 가져오기\n",
    "result = a.upper()\n",
    "print(result)"
   ]
  },
  {
   "cell_type": "code",
   "execution_count": 135,
   "id": "61cadb24",
   "metadata": {},
   "outputs": [
    {
     "name": "stdout",
     "output_type": "stream",
     "text": [
      " abcd \n",
      "abcd\n",
      " 이 숭무 \n",
      "이 숭무\n",
      " 이 숭무\n",
      "이 숭무 \n",
      "zbvabczj\n"
     ]
    }
   ],
   "source": [
    "c = ' abcd '\n",
    "print(c)\n",
    "print(c.strip())\n",
    "d = \" 이 숭무 \"\n",
    "print(d)\n",
    "print(d.strip())\n",
    "print(d.rstrip())\n",
    "print(d.lstrip())\n",
    "e = \"abzbvabczjab\"\n",
    "print(e.strip('ab'))"
   ]
  },
  {
   "cell_type": "code",
   "execution_count": 138,
   "id": "9c39210e",
   "metadata": {},
   "outputs": [
    {
     "name": "stdout",
     "output_type": "stream",
     "text": [
      "Your leg is too short\n",
      "Life is too short\n",
      "Your leg is too short\n"
     ]
    }
   ],
   "source": [
    "# 문자열 대체\n",
    "b = \"Life is too short\"\n",
    "# \"Life\"를 \"Your leg\"로 변경\n",
    "print(b.replace('Life','Your leg'))\n",
    "print(b)\n",
    "result = b.replace('Life','Your leg')\n",
    "print(result)"
   ]
  },
  {
   "cell_type": "code",
   "execution_count": 140,
   "id": "d40c0d10",
   "metadata": {},
   "outputs": [
    {
     "name": "stdout",
     "output_type": "stream",
     "text": [
      "['Life', 'is', 'too', 'short']\n",
      "['Life', 'is', 'too', 'short']\n"
     ]
    }
   ],
   "source": [
    "# 쪼개기\n",
    "b = \"Life is too short\"\n",
    "result = b.split() # 리스트\n",
    "print(result)\n",
    "b = \"Life:is:too:short\"\n",
    "result = b.split(':') # 리스트\n",
    "print(result)"
   ]
  },
  {
   "cell_type": "code",
   "execution_count": null,
   "id": "91f1f4e1",
   "metadata": {},
   "outputs": [],
   "source": []
  },
  {
   "cell_type": "code",
   "execution_count": null,
   "id": "ea237037",
   "metadata": {},
   "outputs": [],
   "source": []
  },
  {
   "cell_type": "code",
   "execution_count": null,
   "id": "3e3df4b4",
   "metadata": {},
   "outputs": [],
   "source": []
  },
  {
   "cell_type": "code",
   "execution_count": null,
   "id": "d572d8af",
   "metadata": {},
   "outputs": [],
   "source": []
  },
  {
   "cell_type": "code",
   "execution_count": null,
   "id": "00ec29b4",
   "metadata": {},
   "outputs": [],
   "source": []
  },
  {
   "cell_type": "code",
   "execution_count": null,
   "id": "9ac9544f",
   "metadata": {},
   "outputs": [],
   "source": []
  },
  {
   "cell_type": "code",
   "execution_count": null,
   "id": "76834e87",
   "metadata": {},
   "outputs": [],
   "source": []
  },
  {
   "cell_type": "code",
   "execution_count": null,
   "id": "89a1a14d",
   "metadata": {},
   "outputs": [],
   "source": []
  },
  {
   "cell_type": "code",
   "execution_count": null,
   "id": "6b79d39a",
   "metadata": {},
   "outputs": [],
   "source": []
  },
  {
   "cell_type": "code",
   "execution_count": null,
   "id": "e01577a5",
   "metadata": {},
   "outputs": [],
   "source": []
  }
 ],
 "metadata": {
  "kernelspec": {
   "display_name": "Python 3 (ipykernel)",
   "language": "python",
   "name": "python3"
  },
  "language_info": {
   "codemirror_mode": {
    "name": "ipython",
    "version": 3
   },
   "file_extension": ".py",
   "mimetype": "text/x-python",
   "name": "python",
   "nbconvert_exporter": "python",
   "pygments_lexer": "ipython3",
   "version": "3.8.10"
  }
 },
 "nbformat": 4,
 "nbformat_minor": 5
}
