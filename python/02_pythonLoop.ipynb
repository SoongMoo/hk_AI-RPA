{
 "cells": [
  {
   "cell_type": "code",
   "execution_count": 1,
   "id": "24d7cf9d",
   "metadata": {},
   "outputs": [
    {
     "name": "stderr",
     "output_type": "stream",
     "text": [
      "C:\\Users\\HKEDU\\AppData\\Local\\Temp\\ipykernel_19976\\1014303460.py:1: DeprecationWarning: Importing display from IPython.core.display is deprecated since IPython 7.14, please import from IPython display\n",
      "  from IPython.core.display import display, HTML\n"
     ]
    },
    {
     "data": {
      "text/html": [
       "<style>\n",
       "div.container { width:100% !important; }\n",
       "div.CodeMirror {font-family: Consolas; font-size: 30pt;}\n",
       "div.output { font-size: 20pt; font-weight: bold;}\n",
       "div.input { font-family: Consolas; font-size: 30pt;}\n",
       "div.prompt { min-width: 100px;}\n",
       "</style>\n"
      ],
      "text/plain": [
       "<IPython.core.display.HTML object>"
      ]
     },
     "metadata": {},
     "output_type": "display_data"
    }
   ],
   "source": [
    "from IPython.core.display import display, HTML\n",
    "display(HTML(\n",
    "\"\"\"<style>\n",
    "div.container { width:100% !important; }\n",
    "div.CodeMirror {font-family: Consolas; font-size: 30pt;}\n",
    "div.output { font-size: 20pt; font-weight: bold;}\n",
    "div.input { font-family: Consolas; font-size: 30pt;}\n",
    "div.prompt { min-width: 100px;}\n",
    "</style>\n",
    "\"\"\"))"
   ]
  },
  {
   "cell_type": "code",
   "execution_count": null,
   "id": "5de58a54",
   "metadata": {},
   "outputs": [],
   "source": [
    "# 자료형 / 조건식(if) / 반복문"
   ]
  },
  {
   "cell_type": "code",
   "execution_count": 3,
   "id": "4a888150",
   "metadata": {},
   "outputs": [
    {
     "name": "stdout",
     "output_type": "stream",
     "text": [
      "나무를 1번 찍었습니다.\n",
      "나무를 2번 찍었습니다.\n",
      "나무를 3번 찍었습니다.\n",
      "나무를 4번 찍었습니다.\n",
      "나무를 5번 찍었습니다.\n",
      "나무를 6번 찍었습니다.\n",
      "나무를 7번 찍었습니다.\n",
      "나무를 8번 찍었습니다.\n",
      "나무를 9번 찍었습니다.\n",
      "나무를 10번 찍었습니다.\n",
      "나무가 쓰러집니다.\n"
     ]
    }
   ],
   "source": [
    "print(\"나무를 1번 찍었습니다.\")\n",
    "print(\"나무를 2번 찍었습니다.\")\n",
    "print(\"나무를 3번 찍었습니다.\")\n",
    "print(\"나무를 4번 찍었습니다.\")\n",
    "print(\"나무를 5번 찍었습니다.\")\n",
    "print(\"나무를 6번 찍었습니다.\")\n",
    "print(\"나무를 7번 찍었습니다.\")\n",
    "print(\"나무를 8번 찍었습니다.\")\n",
    "print(\"나무를 9번 찍었습니다.\")\n",
    "print(\"나무를 10번 찍었습니다.\")\n",
    "print(\"나무가 쓰러집니다.\")"
   ]
  },
  {
   "cell_type": "code",
   "execution_count": 6,
   "id": "21ca22cd",
   "metadata": {},
   "outputs": [
    {
     "name": "stdout",
     "output_type": "stream",
     "text": [
      "나무를 1번 찍었습니다.\n",
      "나무를 2번 찍었습니다.\n",
      "나무를 3번 찍었습니다.\n",
      "나무를 4번 찍었습니다.\n",
      "나무를 5번 찍었습니다.\n",
      "나무를 6번 찍었습니다.\n",
      "나무를 7번 찍었습니다.\n",
      "나무를 8번 찍었습니다.\n",
      "나무를 9번 찍었습니다.\n",
      "나무를 10번 찍었습니다.\n",
      "나무가 넘어가유~~~\n"
     ]
    }
   ],
   "source": [
    "i = 1\n",
    "while i <= 10:\n",
    "    #print(\"나무를 %d번 찍었습니다.\" % i)\n",
    "    #print(\"나무를 {0}번 찍었습니다.\".format(i))\n",
    "    print(f\"나무를 {i}번 찍었습니다.\")\n",
    "    i+=1\n",
    "print(\"나무가 넘어가유~~~\")"
   ]
  },
  {
   "cell_type": "code",
   "execution_count": 9,
   "id": "73c0abab",
   "metadata": {},
   "outputs": [
    {
     "name": "stdout",
     "output_type": "stream",
     "text": [
      "8 * 1 =  8\n",
      "8 * 2 =  16\n",
      "8 * 3 =  24\n",
      "8 * 4 =  32\n",
      "8 * 5 =  40\n",
      "8 * 6 =  48\n",
      "8 * 7 =  56\n",
      "8 * 8 =  64\n",
      "8 * 9 =  72\n"
     ]
    }
   ],
   "source": [
    "'''\n",
    "8단 출력\n",
    "8  * 1 = 8 * 1\n",
    "8  * 2 = 8 * 2\n",
    "8  * 3 = 24\n",
    "8  * 4 = 32\n",
    "8  * 5 = 40\n",
    "8  * 6 = 48\n",
    "8  * 7 = 56\n",
    "8  * 8 = 64\n",
    "8  * 9 = 72\n",
    "'''\n",
    "i = 1\n",
    "while i <= 9:\n",
    "    print(f\"8 * {i} =  {8 * i}\")\n",
    "    i += 1"
   ]
  },
  {
   "cell_type": "code",
   "execution_count": 16,
   "id": "86862512",
   "metadata": {},
   "outputs": [
    {
     "name": "stdout",
     "output_type": "stream",
     "text": [
      "원하는 단을 입력해주세요.6\n",
      "6 * 1 =  6\n",
      "6 * 2 =  12\n",
      "6 * 3 =  18\n",
      "6 * 4 =  24\n",
      "6 * 5 =  30\n",
      "6 * 6 =  36\n",
      "6 * 7 =  42\n",
      "6 * 8 =  48\n",
      "6 * 9 =  54\n"
     ]
    }
   ],
   "source": [
    "dan = int(input(\"원하는 단을 입력해주세요.\"))\n",
    "i = 1\n",
    "while i <= 9:\n",
    "    #print(f\"{dan} * {i} =  {dan * i}\")\n",
    "    #print(\"%d * %d =  %d\" % (dan , i, dan*i))\n",
    "    print(\"{0} * {1} =  {2}\".format(dan, i , dan*i))\n",
    "    i += 1"
   ]
  },
  {
   "cell_type": "code",
   "execution_count": 22,
   "id": "1427ef95",
   "metadata": {},
   "outputs": [
    {
     "name": "stdout",
     "output_type": "stream",
     "text": [
      "단을 입력해주세요. : 5\n",
      "시작 곱을 입력해주세요. : 3\n",
      "끝 곱을 입력해주세요. : 6\n",
      "5 * 3 = 15\n",
      "5 * 4 = 20\n",
      "5 * 5 = 25\n",
      "5 * 6 = 30\n"
     ]
    }
   ],
   "source": [
    "# 8단\n",
    "dan = int(input(\"단을 입력해주세요. : \"))\n",
    "start = int(input(\"시작 곱을 입력해주세요. : \"))\n",
    "end = int(input(\"끝 곱을 입력해주세요. : \"))\n",
    "i = start\n",
    "while i <= end:\n",
    "    print(f\"{dan} * {i} = {dan * i}\")\n",
    "    i += 1"
   ]
  },
  {
   "cell_type": "code",
   "execution_count": null,
   "id": "be95d391",
   "metadata": {},
   "outputs": [],
   "source": [
    "# 3단\n",
    "i = 1\n",
    "while i <= 9 :\n",
    "    print(f\"3 * {i} = {3 * i}\")\n",
    "    i+=1\n",
    "# 4단\n",
    "i = 1\n",
    "while i <= 9 :\n",
    "    print(f\"4 * {i} = {4 * i}\")\n",
    "    i+=1\n",
    "# 5단\n",
    "i = 1\n",
    "while i <= 9 :\n",
    "    print(f\"5 * {i} = {5 * i}\")\n",
    "    i+=1\n",
    "# 6단\n",
    "i = 1\n",
    "while i <= 9 :\n",
    "    print(f\"6 * {i} = {6 * i}\")\n",
    "    i+=1"
   ]
  },
  {
   "cell_type": "code",
   "execution_count": 24,
   "id": "45c2613c",
   "metadata": {},
   "outputs": [
    {
     "name": "stdout",
     "output_type": "stream",
     "text": [
      "3 * 1 = 3\n",
      "3 * 2 = 6\n",
      "3 * 3 = 9\n",
      "3 * 4 = 12\n",
      "3 * 5 = 15\n",
      "3 * 6 = 18\n",
      "3 * 7 = 21\n",
      "3 * 8 = 24\n",
      "3 * 9 = 27\n",
      "4 * 1 = 4\n",
      "4 * 2 = 8\n",
      "4 * 3 = 12\n",
      "4 * 4 = 16\n",
      "4 * 5 = 20\n",
      "4 * 6 = 24\n",
      "4 * 7 = 28\n",
      "4 * 8 = 32\n",
      "4 * 9 = 36\n",
      "5 * 1 = 5\n",
      "5 * 2 = 10\n",
      "5 * 3 = 15\n",
      "5 * 4 = 20\n",
      "5 * 5 = 25\n",
      "5 * 6 = 30\n",
      "5 * 7 = 35\n",
      "5 * 8 = 40\n",
      "5 * 9 = 45\n",
      "6 * 1 = 6\n",
      "6 * 2 = 12\n",
      "6 * 3 = 18\n",
      "6 * 4 = 24\n",
      "6 * 5 = 30\n",
      "6 * 6 = 36\n",
      "6 * 7 = 42\n",
      "6 * 8 = 48\n",
      "6 * 9 = 54\n"
     ]
    }
   ],
   "source": [
    "dan = 3\n",
    "while dan <= 6:\n",
    "    i = 1\n",
    "    while i <= 9 :\n",
    "        print(f\"{dan} * {i} = {dan * i}\")\n",
    "        i+=1\n",
    "    dan += 1"
   ]
  },
  {
   "cell_type": "code",
   "execution_count": 27,
   "id": "2b601ae9",
   "metadata": {},
   "outputs": [
    {
     "name": "stdout",
     "output_type": "stream",
     "text": [
      "시작단을 입력해주세요. : 2\n",
      "마지막 단을 입력해주세요. : 4\n",
      "시작곱을 입력해주세요. : 4\n",
      " 마지막곱을 입력해주세요. : 6\n",
      "2 * 4 = 8\n",
      "2 * 5 = 10\n",
      "2 * 6 = 12\n",
      "3 * 4 = 12\n",
      "3 * 5 = 15\n",
      "3 * 6 = 18\n",
      "4 * 4 = 16\n",
      "4 * 5 = 20\n",
      "4 * 6 = 24\n"
     ]
    }
   ],
   "source": [
    "startDan = int(input(\"시작단을 입력해주세요. : \"))\n",
    "endDan = int(input(\"마지막 단을 입력해주세요. : \"))\n",
    "startGop = int(input(\"시작곱을 입력해주세요. : \"))\n",
    "endGop = int(input(\" 마지막곱을 입력해주세요. : \"))\n",
    "dan = startDan\n",
    "while dan <= endDan:\n",
    "    i = startGop\n",
    "    while i <= endGop :\n",
    "        print(f\"{dan} * {i} = {dan * i}\")\n",
    "        i+=1\n",
    "    dan += 1"
   ]
  },
  {
   "cell_type": "code",
   "execution_count": 40,
   "id": "5edec0cb",
   "metadata": {},
   "outputs": [
    {
     "name": "stdout",
     "output_type": "stream",
     "text": [
      "27, 5, 37, 43, 10, 12, "
     ]
    }
   ],
   "source": [
    "import random\n",
    "lotto = []\n",
    "i = 1\n",
    "while i <= 45:\n",
    "    lotto.append(i)\n",
    "    i += 1\n",
    "#print(lotto)\n",
    "#print(lotto.pop(4)) # 0 ~ 44\n",
    "#print(lotto.pop(4)) # 0 ~ 43\n",
    "lottosize = len(lotto) # 45\n",
    "cnt = 1\n",
    "while cnt <= 6:\n",
    "    lottosize -= 1\n",
    "    idx = random.randint(0, lottosize)\n",
    "    lottonum = lotto.pop(idx)\n",
    "    print(lottonum , end=\", \")\n",
    "    cnt += 1"
   ]
  },
  {
   "cell_type": "code",
   "execution_count": 63,
   "id": "d10324fa",
   "metadata": {},
   "outputs": [
    {
     "name": "stdout",
     "output_type": "stream",
     "text": [
      "로또 갯수를 입력해주세요.: 10\n",
      "9, 38, 12, 39, 13, 25, \n",
      "22, 39, 8, 7, 16, 20, \n",
      "23, 11, 6, 35, 12, 10, \n",
      "20, 19, 26, 36, 44, 1, \n",
      "9, 10, 36, 2, 7, 23, \n",
      "6, 29, 14, 3, 7, 17, \n",
      "6, 21, 18, 43, 7, 39, \n",
      "32, 14, 30, 7, 24, 25, \n",
      "23, 21, 9, 20, 11, 1, \n",
      "23, 22, 6, 43, 7, 18, \n"
     ]
    }
   ],
   "source": [
    "import random\n",
    "lotto = []\n",
    "qty = int(input(\"로또 갯수를 입력해주세요.: \"))\n",
    "lottoCnt  = 1\n",
    "while lottoCnt <= qty:\n",
    "    i = 1\n",
    "    while i <= 45:\n",
    "        lotto.append(i)\n",
    "        i += 1\n",
    "    lottosize = len(lotto) # 45\n",
    "    cnt = 1\n",
    "    while cnt <= 6:\n",
    "        lottosize -= 1 \n",
    "        idx = random.randint(0, lottosize) # 0 ~ 43 [1,2,...45]\n",
    "                                           #         0 1 2 3 4 \n",
    "        lottonum = lotto.pop(idx)\n",
    "        print(lottonum , end=\", \")\n",
    "        cnt += 1\n",
    "    print()\n",
    "    lotto.clear()\n",
    "    lottoCnt += 1"
   ]
  },
  {
   "cell_type": "code",
   "execution_count": 64,
   "id": "99191e22",
   "metadata": {},
   "outputs": [
    {
     "name": "stdout",
     "output_type": "stream",
     "text": [
      "5050\n"
     ]
    }
   ],
   "source": [
    "# 1 ~ 100까지의 합을 구하시오\n",
    "i = 1\n",
    "sum = 0\n",
    "while i <= 100:\n",
    "    sum += i\n",
    "    i += 1\n",
    "print(sum)"
   ]
  },
  {
   "cell_type": "code",
   "execution_count": 66,
   "id": "18e7d650",
   "metadata": {},
   "outputs": [
    {
     "name": "stdout",
     "output_type": "stream",
     "text": [
      "5050\n"
     ]
    }
   ],
   "source": [
    "i = 1\n",
    "sum = 0\n",
    "while True:\n",
    "    if i == 101:\n",
    "        break\n",
    "    sum += i\n",
    "    i += 1\n",
    "print(sum)"
   ]
  },
  {
   "cell_type": "code",
   "execution_count": 71,
   "id": "b5a5d2e4",
   "metadata": {},
   "outputs": [
    {
     "name": "stdout",
     "output_type": "stream",
     "text": [
      "2550\n"
     ]
    }
   ],
   "source": [
    "# 1 ~ 100중에 짝수의 합을 구하시오\n",
    "i = 0\n",
    "sum = 0\n",
    "while i <= 100:\n",
    "    i += 1\n",
    "    if i % 2 != 0:\n",
    "        continue\n",
    "    sum += i\n",
    "print(sum)"
   ]
  },
  {
   "cell_type": "code",
   "execution_count": 72,
   "id": "478e5c8d",
   "metadata": {},
   "outputs": [
    {
     "name": "stdout",
     "output_type": "stream",
     "text": [
      "2601\n"
     ]
    }
   ],
   "source": [
    "# 1 ~ 100까지의 수중 홀수만 합을 구하시오.\n",
    "i = 0\n",
    "sum = 0\n",
    "while i <= 100:\n",
    "    i += 1\n",
    "    if i % 2 == 0:\n",
    "        continue\n",
    "    sum += i \n",
    "print(sum)"
   ]
  },
  {
   "cell_type": "code",
   "execution_count": 75,
   "id": "52fbd56f",
   "metadata": {},
   "outputs": [
    {
     "name": "stdout",
     "output_type": "stream",
     "text": [
      "2550\n"
     ]
    }
   ],
   "source": [
    "# 1 ~ 100까지의 수중 짝수만 합을 구하시오.\n",
    "i = 0\n",
    "sum = 0\n",
    "while True:\n",
    "    i += 1\n",
    "    if i > 100:\n",
    "        break\n",
    "    if i % 2 != 0:\n",
    "        continue\n",
    "    sum += i\n",
    "print(sum)\n",
    "\n",
    "\n",
    "i = 0\n",
    "sum = 0\n",
    "while True:\n",
    "    i += 1\n",
    "    if i > 100:\n",
    "        break\n",
    "    if i % 2 == 0:\n",
    "        sum += i\n",
    "print(sum)"
   ]
  },
  {
   "cell_type": "code",
   "execution_count": 81,
   "id": "b986d5bb",
   "metadata": {},
   "outputs": [
    {
     "name": "stdout",
     "output_type": "stream",
     "text": [
      "15\n",
      "15\n",
      "15\n",
      "15\n"
     ]
    }
   ],
   "source": [
    "l = [1,2,3,4,5]\n",
    "sum = 0\n",
    "sum = sum + l[0]\n",
    "sum = sum + l[1]\n",
    "sum = sum + l[2]\n",
    "sum = sum + l[3]\n",
    "sum = sum + l[4]\n",
    "\n",
    "i = 0\n",
    "sum = 0\n",
    "while i <= 4:\n",
    "    num = l[i]\n",
    "    sum = sum + num\n",
    "    i+=1\n",
    "print(sum)\n",
    "\n",
    "sum = 0\n",
    "for num in l:\n",
    "    sum = sum + num\n",
    "print(sum)\n",
    "\n",
    "sum = 0\n",
    "for num in [1,2,3,4,5]:\n",
    "    sum = sum + num\n",
    "print(sum)\n",
    "\n",
    "sum = 0\n",
    "for num in (1,2,3,4,5):\n",
    "    sum = sum + num\n",
    "print(sum)"
   ]
  },
  {
   "cell_type": "code",
   "execution_count": 83,
   "id": "64541004",
   "metadata": {},
   "outputs": [
    {
     "name": "stdout",
     "output_type": "stream",
     "text": [
      "73.3\n",
      "73.3\n"
     ]
    }
   ],
   "source": [
    "# 리스트의 평균값을 출력하세요.\n",
    "l = [87,55,67,83,44,56,76,98,100,67]\n",
    "#     0  1  2  3  4  5  6  7   8  9  : index : idx\n",
    "# while\n",
    "idx = 0\n",
    "sum = 0\n",
    "while idx <= len(l)-1:\n",
    "    sum += l[idx]\n",
    "    idx += 1\n",
    "print(sum / len(l))\n",
    "\n",
    "# for : 리스트나 튜플과 같은 자료형인 경우에는 for가 유리\n",
    "sum = 0\n",
    "for num in l:\n",
    "    sum += num\n",
    "print(sum / len(l))"
   ]
  },
  {
   "cell_type": "code",
   "execution_count": 87,
   "id": "4c53d527",
   "metadata": {},
   "outputs": [
    {
     "name": "stdout",
     "output_type": "stream",
     "text": [
      "(1, 2)\n",
      "(3, 4)\n",
      "(5, 6)\n",
      "1 2\n",
      "1 2\n",
      "3\n",
      "3 4\n",
      "7\n",
      "5 6\n",
      "11\n"
     ]
    }
   ],
   "source": [
    "l1 = [(1,2),(3,4),(5,6)]\n",
    "for t in l1:\n",
    "    print(t)\n",
    "    print(t[0] + t[1])\n",
    "    \n",
    "a, b = (1, 2)\n",
    "print(a, b)\n",
    "\n",
    "for a, b in l1:\n",
    "    print(a, b)\n",
    "    print(a + b)"
   ]
  },
  {
   "cell_type": "code",
   "execution_count": 89,
   "id": "d6478cdd",
   "metadata": {},
   "outputs": [
    {
     "name": "stdout",
     "output_type": "stream",
     "text": [
      "6\n",
      "15\n",
      "24\n",
      "6\n",
      "15\n",
      "24\n"
     ]
    }
   ],
   "source": [
    "l2 = [(1,2,3),(4,5,6),(7,8,9)]\n",
    "for a,b,c in l2:\n",
    "    print(a + b + c)\n",
    "\n",
    "for num in l2:\n",
    "    print(num[0] + num[1] + num[2])"
   ]
  },
  {
   "cell_type": "code",
   "execution_count": 90,
   "id": "dbc1a744",
   "metadata": {},
   "outputs": [
    {
     "name": "stdout",
     "output_type": "stream",
     "text": [
      "1 2 3\n"
     ]
    },
    {
     "ename": "ValueError",
     "evalue": "not enough values to unpack (expected 3, got 2)",
     "output_type": "error",
     "traceback": [
      "\u001b[1;31m---------------------------------------------------------------------------\u001b[0m",
      "\u001b[1;31mValueError\u001b[0m                                Traceback (most recent call last)",
      "Cell \u001b[1;32mIn[90], line 2\u001b[0m\n\u001b[0;32m      1\u001b[0m l3 \u001b[38;5;241m=\u001b[39m [(\u001b[38;5;241m1\u001b[39m,\u001b[38;5;241m2\u001b[39m,\u001b[38;5;241m3\u001b[39m),(\u001b[38;5;241m4\u001b[39m,\u001b[38;5;241m5\u001b[39m),(\u001b[38;5;241m6\u001b[39m,\u001b[38;5;241m7\u001b[39m,\u001b[38;5;241m8\u001b[39m)]\n\u001b[1;32m----> 2\u001b[0m \u001b[38;5;28;01mfor\u001b[39;00m a,b,c \u001b[38;5;129;01min\u001b[39;00m l3:\n\u001b[0;32m      3\u001b[0m     \u001b[38;5;28mprint\u001b[39m(a,b,c)\n",
      "\u001b[1;31mValueError\u001b[0m: not enough values to unpack (expected 3, got 2)"
     ]
    }
   ],
   "source": [
    "l3 = [(1,2,3),(4,5),(6,7,8)]\n",
    "for a,b,c in l3:\n",
    "    print(a,b,c)"
   ]
  },
  {
   "cell_type": "code",
   "execution_count": 94,
   "id": "59638b81",
   "metadata": {},
   "outputs": [
    {
     "name": "stdout",
     "output_type": "stream",
     "text": [
      "5050\n",
      "<class 'range'>\n",
      "5050\n"
     ]
    }
   ],
   "source": [
    "# 1 ~ 100까지의 합을 구하시오\n",
    "i = 1\n",
    "sum = 0\n",
    "while i <= 100:\n",
    "    sum += i\n",
    "    i += 1\n",
    "print(sum)\n",
    "\n",
    "print(type(range(1, 1 + 100)))\n",
    "\n",
    "sum = 0\n",
    "for num in range(1, 1 + 100): # 1 ~ 100\n",
    "    sum += num\n",
    "print(sum)"
   ]
  },
  {
   "cell_type": "code",
   "execution_count": null,
   "id": "62cdbd26",
   "metadata": {},
   "outputs": [],
   "source": [
    "# 1 ~ 100까지의 수 중 짝수만 합을 구히시오.\n",
    "i = 0\n",
    "sum = 0\n",
    "while i <= 100:\n",
    "    i += 1\n",
    "    if i % 2 == 0:\n",
    "        sum += i\n",
    "print(sum)\n",
    "\n",
    "print(\"==\" * 30)\n",
    "sum = 0\n",
    "for num in range(1 , 1 + 100):\n",
    "    if num % 2 == 0:\n",
    "        sum += num\n",
    "print(sum)"
   ]
  },
  {
   "cell_type": "code",
   "execution_count": 96,
   "id": "56622482",
   "metadata": {},
   "outputs": [
    {
     "name": "stdout",
     "output_type": "stream",
     "text": [
      " 8 * 1 = 8\n",
      " 8 * 2 = 16\n",
      " 8 * 3 = 24\n",
      " 8 * 4 = 32\n",
      " 8 * 5 = 40\n",
      " 8 * 6 = 48\n",
      " 8 * 7 = 56\n",
      " 8 * 8 = 64\n",
      " 8 * 9 = 72\n",
      "============================================================\n",
      " 8 * 1 = 8\n",
      " 8 * 2 = 16\n",
      " 8 * 3 = 24\n",
      " 8 * 4 = 32\n",
      " 8 * 5 = 40\n",
      " 8 * 6 = 48\n",
      " 8 * 7 = 56\n",
      " 8 * 8 = 64\n",
      " 8 * 9 = 72\n"
     ]
    }
   ],
   "source": [
    "# 3단\n",
    "gop = 1\n",
    "while gop <= 9:\n",
    "    print(f\" 8 * {gop} = {8 * gop}\")\n",
    "    gop += 1\n",
    "\n",
    "print(\"==\" * 30)\n",
    "for gop in range(1 , 1 + 9):\n",
    "    print(f\" 8 * {gop} = {8 * gop}\")"
   ]
  },
  {
   "cell_type": "code",
   "execution_count": null,
   "id": "3be039d2",
   "metadata": {},
   "outputs": [],
   "source": [
    "# for 문\n",
    "# 3단\n",
    "for gop in range(1, 10):\n",
    "    print(f\" 3 * {gop} = {3 * gop}\")\n",
    "# 4단\n",
    "for gop in range(1, 10):\n",
    "    print(f\" 4 * {gop} = {4 * gop}\")\n",
    "# 5단\n",
    "for gop in range(1, 10):\n",
    "    print(f\" 5 * {gop} = {5 * gop}\")\n",
    "\n",
    "print(\"==\" * 30)\n",
    "for dan in range(3, 3+ 3):\n",
    "    for gop in range(1, 10):\n",
    "        print(f\" {dan} * {gop} = {dan * gop}\")"
   ]
  },
  {
   "cell_type": "code",
   "execution_count": 100,
   "id": "3f4025c3",
   "metadata": {},
   "outputs": [
    {
     "name": "stdout",
     "output_type": "stream",
     "text": [
      "시작단을 입력해주세요. : 3\n",
      "마지막단을 입력해주세요. : 5\n",
      "시작곱을 입력해주세요. : 2\n",
      "마지막곱을 입력해주세요. : 6\n",
      " 3 * 2 = 6\n",
      " 3 * 3 = 9\n",
      " 3 * 4 = 12\n",
      " 3 * 5 = 15\n",
      " 3 * 6 = 18\n",
      " 4 * 2 = 8\n",
      " 4 * 3 = 12\n",
      " 4 * 4 = 16\n",
      " 4 * 5 = 20\n",
      " 4 * 6 = 24\n",
      " 5 * 2 = 10\n",
      " 5 * 3 = 15\n",
      " 5 * 4 = 20\n",
      " 5 * 5 = 25\n",
      " 5 * 6 = 30\n"
     ]
    }
   ],
   "source": [
    "startDan = int(input(\"시작단을 입력해주세요. : \"))\n",
    "endDan = int(input(\"마지막단을 입력해주세요. : \"))\n",
    "startGop = int(input(\"시작곱을 입력해주세요. : \"))\n",
    "endGop = int(input(\"마지막곱을 입력해주세요. : \"))\n",
    "for dan in range(startDan, endDan + 1):\n",
    "    for gop in range(startGop, endGop + 1):\n",
    "        print(f\" {dan} * {gop} = {dan * gop}\")"
   ]
  },
  {
   "cell_type": "code",
   "execution_count": 102,
   "id": "697c50aa",
   "metadata": {},
   "outputs": [
    {
     "name": "stdout",
     "output_type": "stream",
     "text": [
      "[3, 6, 9, 12]\n",
      "[3, 6, 9, 12]\n"
     ]
    }
   ],
   "source": [
    "# a퓨플에 있는 값에 3을 곱한 값을 빈 리스트에 저장하시오.\n",
    "a = (1,2,3,4)\n",
    "result = []\n",
    "for num in a:\n",
    "    result.append(3 * num)\n",
    "print(result)\n",
    "\n",
    "result = [3 * num for num in a]\n",
    "print(result)"
   ]
  },
  {
   "cell_type": "code",
   "execution_count": 104,
   "id": "771e8e73",
   "metadata": {},
   "outputs": [
    {
     "name": "stdout",
     "output_type": "stream",
     "text": [
      "[6, 12]\n",
      "[6, 12]\n"
     ]
    }
   ],
   "source": [
    "# a퓨플에 있는 값중 짝수만 3을 곱한 값을 빈 리스트에 저장하시오.\n",
    "a = (1,2,3,4)\n",
    "result = []\n",
    "for num in a:\n",
    "    if num % 2 == 0:\n",
    "        result.append(3 * num)\n",
    "print(result)\n",
    "\n",
    "result = [3 * num for num in a if num % 2 == 0]\n",
    "print(result)"
   ]
  },
  {
   "cell_type": "code",
   "execution_count": 107,
   "id": "be7e6bcd",
   "metadata": {},
   "outputs": [
    {
     "name": "stdout",
     "output_type": "stream",
     "text": [
      "[2, 4, 6, 8, 10, 12, 14, 16, 18, 3, 6, 9, 12, 15, 18, 21, 24, 27, 4, 8, 12, 16, 20, 24, 28, 32, 36, 5, 10, 15, 20, 25, 30, 35, 40, 45, 6, 12, 18, 24, 30, 36, 42, 48, 54, 7, 14, 21, 28, 35, 42, 49, 56, 63, 8, 16, 24, 32, 40, 48, 56, 64, 72, 9, 18, 27, 36, 45, 54, 63, 72, 81]\n",
      "============================================================\n",
      "[2, 4, 6, 8, 10, 12, 14, 16, 18, 3, 6, 9, 12, 15, 18, 21, 24, 27, 4, 8, 12, 16, 20, 24, 28, 32, 36, 5, 10, 15, 20, 25, 30, 35, 40, 45, 6, 12, 18, 24, 30, 36, 42, 48, 54, 7, 14, 21, 28, 35, 42, 49, 56, 63, 8, 16, 24, 32, 40, 48, 56, 64, 72, 9, 18, 27, 36, 45, 54, 63, 72, 81]\n"
     ]
    }
   ],
   "source": [
    "result = []\n",
    "for dan in range(2, 10):\n",
    "    for gop in range(1, 10):\n",
    "         result.append(dan * gop)\n",
    "print(result)\n",
    "\n",
    "print(\"==\" * 30)\n",
    "\n",
    "result = [dan * gop for dan in range(2, 10) \n",
    "                    for gop in range(1, 10) ]\n",
    "print(result)"
   ]
  },
  {
   "cell_type": "code",
   "execution_count": 114,
   "id": "1e2947b2",
   "metadata": {},
   "outputs": [
    {
     "name": "stdout",
     "output_type": "stream",
     "text": [
      "90\n",
      "25\n",
      "67\n",
      "45\n",
      "80\n",
      "#####index를 이용######\n",
      "marks[0] : 90\n",
      "90\n",
      "25\n",
      "67\n",
      "45\n",
      "80\n",
      "============================================================\n",
      "90\n",
      "25\n",
      "67\n",
      "45\n",
      "80\n"
     ]
    }
   ],
   "source": [
    "marks = [90, 25, 67, 45, 80]\n",
    "###       0   1  2    3  4\n",
    "for num in marks:\n",
    "    print(num)\n",
    "\n",
    "print(\"#####index를 이용######\")\n",
    "print(\"marks[0] : %d\" % marks[0])\n",
    "\n",
    "for idx in range(0, len(marks)):\n",
    "    print(marks[idx])\n",
    "    \n",
    "print(\"==\" * 30)\n",
    "for idx in range(len(marks)):\n",
    "    print(marks[idx])"
   ]
  },
  {
   "cell_type": "code",
   "execution_count": 118,
   "id": "04c031a4",
   "metadata": {},
   "outputs": [
    {
     "name": "stdout",
     "output_type": "stream",
     "text": [
      "29\n"
     ]
    }
   ],
   "source": [
    "# 함수\n",
    "# f(x , y) = 3x + 4y이라고 할 때\n",
    "# z = f(3, 5)입니다. 이때 z은?\n",
    "# z : 29\n",
    "def f(x , y):   #### 피호출함수 , f:함수명 , x, y:매개변수 , parameter\n",
    "    return 3*x + 4*y\n",
    "\n",
    "z = f(3, 5)   ### 호출함수 :: 3, 5 : 인자 , argument \n",
    "print(z)\n",
    "\n",
    "'''\n",
    "def 함수명(parameter_1, parameter_2,...,parameter_n):\n",
    "    명령어1\n",
    "    명령어2\n",
    "    ...\n",
    "    명령어n\n",
    "    return 결과값\n",
    "\n",
    "변수 = 함수명(arg_1,arg_2,...,arg_n)\n",
    "\n",
    "주의점 : parameter의 갯수와 argument의 갯수는 같아야 한다.\n",
    "반복적사용하거나 복잡한 명령문이 있는 경우 정의해 놓고 사용하기 위해서 \n",
    "'''"
   ]
  },
  {
   "cell_type": "code",
   "execution_count": 119,
   "id": "8b07d182",
   "metadata": {},
   "outputs": [
    {
     "name": "stdout",
     "output_type": "stream",
     "text": [
      "27\n"
     ]
    }
   ],
   "source": [
    "# 함수의 정의는 위와 같을 때 \n",
    "# z = f(5, 3)이라면 z값은?\n",
    "z = f(5, 3)\n",
    "print(z)"
   ]
  },
  {
   "cell_type": "code",
   "execution_count": 121,
   "id": "0e7dc8af",
   "metadata": {},
   "outputs": [],
   "source": [
    "# 구구단 함수\n",
    "#8단을 가진 함수\n",
    "def gugu_8():\n",
    "    for gop in range(1, 10):\n",
    "        print(f\"8 * {gop} = {8 * gop}\")"
   ]
  },
  {
   "cell_type": "code",
   "execution_count": null,
   "id": "d988308a",
   "metadata": {},
   "outputs": [],
   "source": [
    "gugu_8()\n",
    "gugu_8()\n",
    "gugu_8()"
   ]
  },
  {
   "cell_type": "code",
   "execution_count": 124,
   "id": "2cd7959b",
   "metadata": {},
   "outputs": [],
   "source": [
    "def gugu(dan): # 피호출함수 , dan:매개변수, parameter\n",
    "    # 명령어\n",
    "    for gop in range(1, 10):\n",
    "        print(f\"{dan} * {gop} = {dan * gop}\")"
   ]
  },
  {
   "cell_type": "code",
   "execution_count": 126,
   "id": "6c2fef9a",
   "metadata": {},
   "outputs": [
    {
     "name": "stdout",
     "output_type": "stream",
     "text": [
      "8 * 1 = 8\n",
      "8 * 2 = 16\n",
      "8 * 3 = 24\n",
      "8 * 4 = 32\n",
      "8 * 5 = 40\n",
      "8 * 6 = 48\n",
      "8 * 7 = 56\n",
      "8 * 8 = 64\n",
      "8 * 9 = 72\n",
      "11 * 1 = 11\n",
      "11 * 2 = 22\n",
      "11 * 3 = 33\n",
      "11 * 4 = 44\n",
      "11 * 5 = 55\n",
      "11 * 6 = 66\n",
      "11 * 7 = 77\n",
      "11 * 8 = 88\n",
      "11 * 9 = 99\n"
     ]
    }
   ],
   "source": [
    "gugu(8)   #  호출함수 , 8 : 인자, 인수,  argument\n",
    "gugu(11)  #            11 : argument : argument는 parameter에게 값을 주는 역할을 한다."
   ]
  },
  {
   "cell_type": "code",
   "execution_count": 127,
   "id": "9c8e9fe8",
   "metadata": {},
   "outputs": [],
   "source": [
    "def gugu(dan, start, end): # 피호출함수 , dan:매개변수, parameter\n",
    "    # 명령어\n",
    "    for gop in range(start, end+1):\n",
    "        print(f\"{dan} * {gop} = {dan * gop}\")"
   ]
  },
  {
   "cell_type": "code",
   "execution_count": 132,
   "id": "59889918",
   "metadata": {},
   "outputs": [
    {
     "name": "stdout",
     "output_type": "stream",
     "text": [
      "5 * 2 = 10\n",
      "5 * 3 = 15\n",
      "5 * 4 = 20\n",
      "5 * 5 = 25\n",
      "5 * 6 = 30\n"
     ]
    }
   ],
   "source": [
    "gugu(5, 2, 6)"
   ]
  },
  {
   "cell_type": "code",
   "execution_count": 134,
   "id": "4796b95f",
   "metadata": {},
   "outputs": [],
   "source": [
    "### 함수를 만드는 4가지 형식\n",
    "# 1. 일반적인 형식 : 입력값(paramenter)과 결과값(return)이 있는 경우\n",
    "def f(x): # 입력값\n",
    "    return 3 + x * 5 # 결과값 , return뒤에 있는 값은 호출함수에 전달된다."
   ]
  },
  {
   "cell_type": "code",
   "execution_count": 135,
   "id": "23a6c275",
   "metadata": {},
   "outputs": [
    {
     "name": "stdout",
     "output_type": "stream",
     "text": [
      "18\n"
     ]
    }
   ],
   "source": [
    "result = f(3) # argument\n",
    "print(result)"
   ]
  },
  {
   "cell_type": "code",
   "execution_count": 137,
   "id": "6938f52e",
   "metadata": {},
   "outputs": [],
   "source": [
    "def add(num1, num2):\n",
    "    return num1 + num2"
   ]
  },
  {
   "cell_type": "code",
   "execution_count": 139,
   "id": "0e09fd64",
   "metadata": {},
   "outputs": [
    {
     "name": "stdout",
     "output_type": "stream",
     "text": [
      "30\n"
     ]
    }
   ],
   "source": [
    "result = add(10, 20)\n",
    "print(result)"
   ]
  },
  {
   "cell_type": "code",
   "execution_count": 141,
   "id": "d1c04780",
   "metadata": {},
   "outputs": [],
   "source": [
    "# 2. 입력값이 없고 결과값만 있는 경우\n",
    "def add():\n",
    "    num1 = int(input(\"숫자를 입력해주세요 : \"))\n",
    "    num2 = int(input(\"숫자를 입력해주세요 : \"))\n",
    "    return num1 + num2"
   ]
  },
  {
   "cell_type": "code",
   "execution_count": 143,
   "id": "05ee3807",
   "metadata": {},
   "outputs": [
    {
     "name": "stdout",
     "output_type": "stream",
     "text": [
      "숫자를 입력해주세요 : 10\n",
      "숫자를 입력해주세요 : 29\n",
      "39\n"
     ]
    }
   ],
   "source": [
    "result = add()\n",
    "print(result)"
   ]
  },
  {
   "cell_type": "code",
   "execution_count": 144,
   "id": "e09f64a2",
   "metadata": {},
   "outputs": [],
   "source": [
    "# 3. 입력값이 있고 결과값이 없는 경우\n",
    "def add(num1 , num2):\n",
    "    print(num1 + num2)"
   ]
  },
  {
   "cell_type": "code",
   "execution_count": 145,
   "id": "d57afe79",
   "metadata": {},
   "outputs": [
    {
     "name": "stdout",
     "output_type": "stream",
     "text": [
      "8\n"
     ]
    }
   ],
   "source": [
    "add(3, 5)"
   ]
  },
  {
   "cell_type": "code",
   "execution_count": 146,
   "id": "3536d11d",
   "metadata": {},
   "outputs": [],
   "source": [
    "# 4. 입력값이 없고 결과값이 없는 경우 \n",
    "def add():\n",
    "    num1 = int(input(\"숫자를 입력해주세요. : \"))\n",
    "    num2 = int(input(\"숫자를 입력해주세요. : \"))\n",
    "    print(num1 + num2)"
   ]
  },
  {
   "cell_type": "code",
   "execution_count": 147,
   "id": "3c0f9ff0",
   "metadata": {},
   "outputs": [
    {
     "name": "stdout",
     "output_type": "stream",
     "text": [
      "숫자를 입력해주세요. : 10\n",
      "숫자를 입력해주세요. : 20\n",
      "30\n"
     ]
    }
   ],
   "source": [
    "add()"
   ]
  },
  {
   "cell_type": "code",
   "execution_count": 154,
   "id": "c83897ae",
   "metadata": {},
   "outputs": [
    {
     "name": "stdout",
     "output_type": "stream",
     "text": [
      "[1, 2, 3, 4, 5, 6, 7, 8, 9, 10, 11, 12, 13, 14, 15, 16, 17, 18, 19, 20, 21, 22, 23, 24, 25, 26, 27, 28, 29, 30, 31, 32, 33, 34, 35, 36, 37, 38, 39, 40, 41, 42, 43, 44, 45]\n",
      "24, 30, 17, 18, 20, 9, "
     ]
    }
   ],
   "source": [
    "import random\n",
    "lotto = [num for num in range(1, 46)]\n",
    "print(lotto)\n",
    "lottoSize = len(lotto) \n",
    "j = 1\n",
    "while j <= 6:\n",
    "    lottoSize -= 1\n",
    "    idx = random.randint(0, lottoSize)\n",
    "    num = lotto.pop(idx)\n",
    "    print(num , end=\", \")\n",
    "    j += 1"
   ]
  },
  {
   "cell_type": "code",
   "execution_count": 166,
   "id": "418a0974",
   "metadata": {},
   "outputs": [],
   "source": [
    "def lottoFnc(): # 재사용\n",
    "    lotto = [num for num in range(1, 46)]\n",
    "    lottoSize = len(lotto) \n",
    "    j = 1\n",
    "    while j <= 6:\n",
    "        lottoSize -= 1\n",
    "        idx = random.randint(0, lottoSize)\n",
    "        num = lotto.pop(idx)\n",
    "        print(num , end=\", \")\n",
    "        j += 1"
   ]
  },
  {
   "cell_type": "code",
   "execution_count": 167,
   "id": "6bf9d164",
   "metadata": {},
   "outputs": [
    {
     "name": "stdout",
     "output_type": "stream",
     "text": [
      "2, 15, 32, 4, 8, 29, "
     ]
    }
   ],
   "source": [
    "lottoFnc()"
   ]
  },
  {
   "cell_type": "code",
   "execution_count": 171,
   "id": "e1f4a12b",
   "metadata": {},
   "outputs": [
    {
     "name": "stdout",
     "output_type": "stream",
     "text": [
      "26, 6, 43, 5, 40, 31, 40, 25, 15, 7, 12, 16, "
     ]
    }
   ],
   "source": [
    "lottoFnc()\n",
    "lottoFnc()"
   ]
  },
  {
   "cell_type": "code",
   "execution_count": 176,
   "id": "251fbcb5",
   "metadata": {},
   "outputs": [],
   "source": [
    "def lottoCnt(num):\n",
    "    for i in range(num):\n",
    "        lottoFnc()\n",
    "        print()"
   ]
  },
  {
   "cell_type": "code",
   "execution_count": 178,
   "id": "75739b75",
   "metadata": {},
   "outputs": [
    {
     "name": "stdout",
     "output_type": "stream",
     "text": [
      "15, 31, 42, 12, 25, 27, \n",
      "37, 44, 36, 7, 30, 8, \n",
      "24, 25, 38, 1, 4, 16, \n",
      "15, 22, 33, 6, 18, 24, \n",
      "32, 36, 15, 3, 20, 42, \n",
      "42, 33, 7, 2, 10, 18, \n",
      "3, 27, 11, 13, 34, 45, \n",
      "23, 29, 4, 14, 38, 5, \n",
      "23, 8, 43, 36, 10, 24, \n",
      "16, 18, 45, 32, 26, 30, \n"
     ]
    }
   ],
   "source": [
    "lottoCnt(10)"
   ]
  },
  {
   "cell_type": "code",
   "execution_count": null,
   "id": "87c614fe",
   "metadata": {},
   "outputs": [],
   "source": [
    "# 1~100, 1~1000, 600 ~ 10000\n",
    "sum = 0\n",
    "for i in range(1, 101):\n",
    "    sum += i\n",
    "print(sum)"
   ]
  },
  {
   "cell_type": "code",
   "execution_count": 179,
   "id": "6b72adf0",
   "metadata": {},
   "outputs": [],
   "source": [
    "def add(start, end):\n",
    "    sum = 0\n",
    "    for i in range(start, end + 1):\n",
    "        sum += i\n",
    "    print(sum)    "
   ]
  },
  {
   "cell_type": "code",
   "execution_count": 182,
   "id": "8e557e29",
   "metadata": {},
   "outputs": [
    {
     "name": "stdout",
     "output_type": "stream",
     "text": [
      "5050\n",
      "500500\n",
      "49825300\n"
     ]
    }
   ],
   "source": [
    "add(1, 100)\n",
    "add(1, 1000)\n",
    "add(600, 10000)"
   ]
  },
  {
   "cell_type": "code",
   "execution_count": 184,
   "id": "1d04c036",
   "metadata": {},
   "outputs": [],
   "source": [
    "def add(start, end):\n",
    "    sum = 0\n",
    "    for i in range(start, end + 1):\n",
    "        sum += i\n",
    "    return sum"
   ]
  },
  {
   "cell_type": "code",
   "execution_count": 188,
   "id": "0d935d99",
   "metadata": {},
   "outputs": [
    {
     "name": "stdout",
     "output_type": "stream",
     "text": [
      "5050\n",
      "500500\n",
      "49825300\n"
     ]
    }
   ],
   "source": [
    "result = add(1, 100)\n",
    "print(result)\n",
    "result =add( end=1000, start=1 )\n",
    "print(result)\n",
    "result =add( start=600, end=10000 ) # parameter를 지정해서 값을 주는 경우 순서와 무관\n",
    "print(result)"
   ]
  },
  {
   "cell_type": "code",
   "execution_count": 189,
   "id": "85152845",
   "metadata": {},
   "outputs": [],
   "source": [
    "def sum11( *para):\n",
    "    print(\"para : \" , para)\n",
    "    sum = 0\n",
    "    for i in para:\n",
    "        sum += i\n",
    "    print(sum)"
   ]
  },
  {
   "cell_type": "code",
   "execution_count": 190,
   "id": "438b7338",
   "metadata": {},
   "outputs": [
    {
     "name": "stdout",
     "output_type": "stream",
     "text": [
      "para :  (1, 2)\n",
      "3\n",
      "para :  (1, 2, 3, 4)\n",
      "10\n",
      "para :  (1, 2, 3, 5, 4, 6, 7, 8)\n",
      "36\n",
      "para :  (3, 4, 5, 6, 7, 8)\n",
      "33\n"
     ]
    }
   ],
   "source": [
    "sum11(1,2)\n",
    "sum11(1,2,3,4)\n",
    "sum11(1,2,3,5,4,6,7,8)\n",
    "sum11(3,4,5,6,7,8)"
   ]
  },
  {
   "cell_type": "code",
   "execution_count": 192,
   "id": "29be3c8d",
   "metadata": {},
   "outputs": [],
   "source": [
    "def sum12(opt,*para):\n",
    "    result = 1\n",
    "    if opt == \"add\":\n",
    "        for num in para:\n",
    "            result += num\n",
    "    elif opt == \"mul\":\n",
    "        for num in para:\n",
    "            result *= num\n",
    "    print(result)"
   ]
  },
  {
   "cell_type": "code",
   "execution_count": 193,
   "id": "0656a122",
   "metadata": {},
   "outputs": [
    {
     "name": "stdout",
     "output_type": "stream",
     "text": [
      "22\n",
      "810\n"
     ]
    }
   ],
   "source": [
    "sum12(\"add\",1,2,3,4,5,6)\n",
    "sum12(\"mul\",3,45,6)"
   ]
  },
  {
   "cell_type": "code",
   "execution_count": 202,
   "id": "e21c1a75",
   "metadata": {},
   "outputs": [],
   "source": [
    "def sum13(opt, *para):\n",
    "    result = (1,2,3)\n",
    "    if opt == \"add\":\n",
    "        result += para\n",
    "    elif opt == \"mul\":\n",
    "        result *= para[1]\n",
    "    print(result)"
   ]
  },
  {
   "cell_type": "code",
   "execution_count": 203,
   "id": "96060a6d",
   "metadata": {},
   "outputs": [
    {
     "name": "stdout",
     "output_type": "stream",
     "text": [
      "(1, 2, 3, 3, 4, 5)\n",
      "(1, 2, 3, 1, 2, 3, 1, 2, 3)\n"
     ]
    }
   ],
   "source": [
    "sum13(\"add\",3,4,5)\n",
    "sum13(\"mul\",2,3,4)"
   ]
  },
  {
   "cell_type": "code",
   "execution_count": 204,
   "id": "5c070b53",
   "metadata": {},
   "outputs": [
    {
     "name": "stdout",
     "output_type": "stream",
     "text": [
      "10 20\n"
     ]
    }
   ],
   "source": [
    "a, b = (10, 20)\n",
    "print(a, b)"
   ]
  },
  {
   "cell_type": "code",
   "execution_count": 205,
   "id": "98a1b4ba",
   "metadata": {},
   "outputs": [],
   "source": [
    "def add_mul(x, y):\n",
    "    i = x  + y\n",
    "    j = x * y\n",
    "    return i, j"
   ]
  },
  {
   "cell_type": "code",
   "execution_count": 208,
   "id": "9105f46a",
   "metadata": {},
   "outputs": [
    {
     "name": "stdout",
     "output_type": "stream",
     "text": [
      "(8, 15)\n",
      "8 15\n",
      "23 60\n"
     ]
    }
   ],
   "source": [
    "result = add_mul(3, 5)\n",
    "print(result)\n",
    "print(result[0], result[1])\n",
    "a , f = add_mul(3, 20)\n",
    "print(a, b)"
   ]
  },
  {
   "cell_type": "code",
   "execution_count": 209,
   "id": "a625379f",
   "metadata": {},
   "outputs": [],
   "source": [
    "#### 매개변수에 초깃값 미리 설정하기 \n",
    "def say_myself(name, old, man=True):\n",
    "    print(\"나의 이름은 %s입니다. \" % name)\n",
    "    print(\"나의 나이는 %d살입니다. \" % old)\n",
    "    if man:\n",
    "        print(\"나는 남자입니다. \")\n",
    "    else:\n",
    "        print(\"나는 여자입니다.\")"
   ]
  },
  {
   "cell_type": "code",
   "execution_count": 211,
   "id": "545a8a9f",
   "metadata": {},
   "outputs": [
    {
     "name": "stdout",
     "output_type": "stream",
     "text": [
      "나의 이름은 이숭무입니다. \n",
      "나의 나이는 25살입니다. \n",
      "나는 남자입니다. \n",
      "나의 이름은 박준현입니다. \n",
      "나의 나이는 23살입니다. \n",
      "나는 여자입니다.\n"
     ]
    }
   ],
   "source": [
    "say_myself(\"이숭무\", 25)\n",
    "say_myself(\"박준현\", 23, False)"
   ]
  },
  {
   "cell_type": "code",
   "execution_count": 214,
   "id": "c3150386",
   "metadata": {},
   "outputs": [
    {
     "ename": "SyntaxError",
     "evalue": "non-default argument follows default argument (326053689.py, line 1)",
     "output_type": "error",
     "traceback": [
      "\u001b[1;36m  Cell \u001b[1;32mIn[214], line 1\u001b[1;36m\u001b[0m\n\u001b[1;33m    def say_myself(name, old=24, man):\u001b[0m\n\u001b[1;37m                   ^\u001b[0m\n\u001b[1;31mSyntaxError\u001b[0m\u001b[1;31m:\u001b[0m non-default argument follows default argument\n"
     ]
    }
   ],
   "source": [
    "def say_myself(name, old=24, man):\n",
    "    print(\"나의 이름은 %s입니다. \" % name)\n",
    "    print(\"나의 나이는 %d살입니다. \" % old)\n",
    "    if man:\n",
    "        print(\"나는 남자입니다. \")\n",
    "    else:\n",
    "        print(\"나는 여자입니다.\")"
   ]
  },
  {
   "cell_type": "code",
   "execution_count": 216,
   "id": "9b4a0d2e",
   "metadata": {},
   "outputs": [
    {
     "name": "stdout",
     "output_type": "stream",
     "text": [
      "8\n"
     ]
    }
   ],
   "source": [
    "### lambda함수\n",
    "def add(a, b):\n",
    "    return a +b\n",
    "result = add(3, 5)\n",
    "print(result)"
   ]
  },
  {
   "cell_type": "code",
   "execution_count": 217,
   "id": "52b2bc66",
   "metadata": {},
   "outputs": [
    {
     "name": "stdout",
     "output_type": "stream",
     "text": [
      "8\n"
     ]
    }
   ],
   "source": [
    "add = lambda a, b : a + b\n",
    "result = add(3, 5)\n",
    "print(result)"
   ]
  },
  {
   "cell_type": "code",
   "execution_count": 220,
   "id": "6e1c2069",
   "metadata": {},
   "outputs": [
    {
     "name": "stdout",
     "output_type": "stream",
     "text": [
      "7\n",
      "10\n"
     ]
    }
   ],
   "source": [
    "def add(a , b=4):\n",
    "    return a + b\n",
    "result = add(3)\n",
    "print(result)\n",
    "result = add(4, 6)\n",
    "print(result)"
   ]
  },
  {
   "cell_type": "code",
   "execution_count": 221,
   "id": "2547827e",
   "metadata": {},
   "outputs": [
    {
     "name": "stdout",
     "output_type": "stream",
     "text": [
      "7\n",
      "10\n"
     ]
    }
   ],
   "source": [
    "add = lambda a , b=4 :  a + b\n",
    "result = add(3)\n",
    "print(result)\n",
    "result = add(4, 6)\n",
    "print(result)"
   ]
  },
  {
   "cell_type": "code",
   "execution_count": 223,
   "id": "c7beaf83",
   "metadata": {},
   "outputs": [
    {
     "name": "stdout",
     "output_type": "stream",
     "text": [
      "41\n"
     ]
    }
   ],
   "source": [
    "def add_sub(opt, a, b):\n",
    "    if opt == \"add\":\n",
    "        return a + b\n",
    "    else:\n",
    "        return a - b\n",
    "result = add_sub(\"add\",20,21)\n",
    "print(result)"
   ]
  },
  {
   "cell_type": "code",
   "execution_count": 224,
   "id": "270b3813",
   "metadata": {},
   "outputs": [
    {
     "name": "stdout",
     "output_type": "stream",
     "text": [
      "10\n"
     ]
    }
   ],
   "source": [
    "add_sub = lambda opt, a, b : a + b if opt == \"add\" else a - b\n",
    "result = add_sub(\"sub\" , 20 , 10)\n",
    "print(result)"
   ]
  },
  {
   "cell_type": "code",
   "execution_count": 226,
   "id": "8a1bf5f6",
   "metadata": {},
   "outputs": [
    {
     "name": "stdout",
     "output_type": "stream",
     "text": [
      "10\n"
     ]
    }
   ],
   "source": [
    "def calu(opt , a, b):\n",
    "    if opt == \"add\":\n",
    "        return a + b\n",
    "    else:\n",
    "        if opt == \"sub\":\n",
    "            return a - b\n",
    "        else:\n",
    "            if opt == \"mul\":\n",
    "                return a * b\n",
    "            else:\n",
    "                return a / b\n",
    "result = calu(\"sub\", 20, 10)\n",
    "print(result)"
   ]
  },
  {
   "cell_type": "code",
   "execution_count": 227,
   "id": "5ae10401",
   "metadata": {},
   "outputs": [
    {
     "name": "stdout",
     "output_type": "stream",
     "text": [
      "10\n"
     ]
    }
   ],
   "source": [
    "calu = lambda opt , a, b : a + b if opt == \"add\" else (\n",
    "                           a - b if opt == \"sub\" else (\n",
    "                           a * b if opt == \"mul\" else a / b\n",
    "                           )\n",
    ")\n",
    "result = calu(\"sub\", 20, 10)\n",
    "print(result)"
   ]
  },
  {
   "cell_type": "code",
   "execution_count": null,
   "id": "81cbaaa8",
   "metadata": {},
   "outputs": [],
   "source": []
  },
  {
   "cell_type": "code",
   "execution_count": null,
   "id": "ef5ab8c5",
   "metadata": {},
   "outputs": [],
   "source": []
  }
 ],
 "metadata": {
  "kernelspec": {
   "display_name": "Python 3 (ipykernel)",
   "language": "python",
   "name": "python3"
  },
  "language_info": {
   "codemirror_mode": {
    "name": "ipython",
    "version": 3
   },
   "file_extension": ".py",
   "mimetype": "text/x-python",
   "name": "python",
   "nbconvert_exporter": "python",
   "pygments_lexer": "ipython3",
   "version": "3.8.10"
  }
 },
 "nbformat": 4,
 "nbformat_minor": 5
}
