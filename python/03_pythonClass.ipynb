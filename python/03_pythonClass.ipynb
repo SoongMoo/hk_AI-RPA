{
 "cells": [
  {
   "cell_type": "code",
   "execution_count": 1,
   "id": "eccea40e",
   "metadata": {},
   "outputs": [
    {
     "name": "stderr",
     "output_type": "stream",
     "text": [
      "C:\\Users\\HKEDU\\AppData\\Local\\Temp\\ipykernel_9776\\1014303460.py:1: DeprecationWarning: Importing display from IPython.core.display is deprecated since IPython 7.14, please import from IPython display\n",
      "  from IPython.core.display import display, HTML\n"
     ]
    },
    {
     "data": {
      "text/html": [
       "<style>\n",
       "div.container { width:100% !important; }\n",
       "div.CodeMirror {font-family: Consolas; font-size: 30pt;}\n",
       "div.output { font-size: 20pt; font-weight: bold;}\n",
       "div.input { font-family: Consolas; font-size: 30pt;}\n",
       "div.prompt { min-width: 100px;}\n",
       "</style>\n"
      ],
      "text/plain": [
       "<IPython.core.display.HTML object>"
      ]
     },
     "metadata": {},
     "output_type": "display_data"
    }
   ],
   "source": [
    "from IPython.core.display import display, HTML\n",
    "display(HTML(\n",
    "\"\"\"<style>\n",
    "div.container { width:100% !important; }\n",
    "div.CodeMirror {font-family: Consolas; font-size: 30pt;}\n",
    "div.output { font-size: 20pt; font-weight: bold;}\n",
    "div.input { font-family: Consolas; font-size: 30pt;}\n",
    "div.prompt { min-width: 100px;}\n",
    "</style>\n",
    "\"\"\"))"
   ]
  },
  {
   "cell_type": "code",
   "execution_count": 7,
   "id": "458e671b",
   "metadata": {},
   "outputs": [],
   "source": [
    "### 변수, 상수, 함수을 묶어 놓은 것을 class\n",
    "a = 1\n",
    "def f(x): # 함수\n",
    "    return 3 * x + 4\n",
    "\n",
    "class Calculator:\n",
    "    result = 10\n",
    "    def add(self,num): # 메서드\n",
    "        self.result += num\n",
    "    "
   ]
  },
  {
   "cell_type": "code",
   "execution_count": 8,
   "id": "e0d2486f",
   "metadata": {},
   "outputs": [
    {
     "name": "stdout",
     "output_type": "stream",
     "text": [
      "10\n",
      "20\n"
     ]
    }
   ],
   "source": [
    "cal = Calculator() # result, add()\n",
    "print(cal.result)\n",
    "cal.add(10)\n",
    "print(cal.result)"
   ]
  },
  {
   "cell_type": "code",
   "execution_count": 9,
   "id": "1c38af71",
   "metadata": {},
   "outputs": [
    {
     "name": "stdout",
     "output_type": "stream",
     "text": [
      "110\n",
      "20\n"
     ]
    }
   ],
   "source": [
    "cal1 = Calculator() # result , add()\n",
    "cal1.add(100)\n",
    "print(cal1.result)\n",
    "print(cal.result)"
   ]
  },
  {
   "cell_type": "code",
   "execution_count": null,
   "id": "819b0adc",
   "metadata": {},
   "outputs": [],
   "source": [
    "cal2 = Calculator()"
   ]
  },
  {
   "cell_type": "code",
   "execution_count": null,
   "id": "08fe2f90",
   "metadata": {},
   "outputs": [],
   "source": [
    "result = 10\n",
    "result += 11\n",
    "result += 12\n",
    "result += 13\n",
    "result += 14\n"
   ]
  },
  {
   "cell_type": "code",
   "execution_count": 14,
   "id": "dc4c2123",
   "metadata": {},
   "outputs": [],
   "source": [
    "result = 10\n",
    "def add(num):\n",
    "    global result\n",
    "    result += num"
   ]
  },
  {
   "cell_type": "code",
   "execution_count": 15,
   "id": "b172a02a",
   "metadata": {},
   "outputs": [
    {
     "name": "stdout",
     "output_type": "stream",
     "text": [
      "60\n"
     ]
    }
   ],
   "source": [
    "add(11)\n",
    "add(12)\n",
    "add(13)\n",
    "add(14)\n",
    "print(result)"
   ]
  },
  {
   "cell_type": "code",
   "execution_count": null,
   "id": "747d7dd3",
   "metadata": {},
   "outputs": [],
   "source": [
    "result1 = 100\n",
    "result1 += 101\n",
    "result1 += 102\n",
    "result1 += 103\n",
    "result1 += 104\n"
   ]
  },
  {
   "cell_type": "code",
   "execution_count": 16,
   "id": "778d34ab",
   "metadata": {},
   "outputs": [],
   "source": [
    "result1 = 100\n",
    "def add1(num):\n",
    "    global result1\n",
    "    result1 += num"
   ]
  },
  {
   "cell_type": "code",
   "execution_count": 17,
   "id": "2087c9a4",
   "metadata": {},
   "outputs": [
    {
     "name": "stdout",
     "output_type": "stream",
     "text": [
      "510\n"
     ]
    }
   ],
   "source": [
    "add1(101)\n",
    "add1(102)\n",
    "add1(103)\n",
    "add1(104)\n",
    "print(result1)"
   ]
  },
  {
   "cell_type": "code",
   "execution_count": 22,
   "id": "e14d96ed",
   "metadata": {},
   "outputs": [],
   "source": [
    "# class내에 있는 함수의 매개변수 self\n",
    "class ClassTest:\n",
    "    result = 10 # 멤버필드, 멤버변수\n",
    "    def add(self,num): # 객체변수 누구의  멤버인지를 알려주기 위해 self\n",
    "        self.result += num # self는 자바의 this와 같다."
   ]
  },
  {
   "cell_type": "code",
   "execution_count": 23,
   "id": "1cc1d237",
   "metadata": {},
   "outputs": [],
   "source": [
    "cal3 = ClassTest() # result, add()\n",
    "cal4 = ClassTest() # result, add()"
   ]
  },
  {
   "cell_type": "code",
   "execution_count": 25,
   "id": "9e26655a",
   "metadata": {},
   "outputs": [
    {
     "name": "stdout",
     "output_type": "stream",
     "text": [
      "30\n",
      "40\n"
     ]
    }
   ],
   "source": [
    "cal3.add(10) # ClassTest.add(cal3, 10)\n",
    "print(cal3.result)\n",
    "ClassTest.add(cal3, 10)\n",
    "print(cal3.result)"
   ]
  },
  {
   "cell_type": "code",
   "execution_count": 27,
   "id": "eaeb34e4",
   "metadata": {},
   "outputs": [
    {
     "name": "stdout",
     "output_type": "stream",
     "text": [
      "210\n"
     ]
    }
   ],
   "source": [
    "cal4.add(100) # ClassTest.add(cal4, 100)\n",
    "print(cal4.result)"
   ]
  },
  {
   "cell_type": "code",
   "execution_count": 42,
   "id": "8e994afe",
   "metadata": {},
   "outputs": [],
   "source": [
    "# 멤버 필드 초기화\n",
    "class FourCal: # 자바에서는 멤버필드를 명시해야 하지만 파이썬은 암시적으로 존재한다.\n",
    "    #first\n",
    "    #second\n",
    "    #result\n",
    "    def setData(self,num1, num2):\n",
    "        self.first = num1\n",
    "        self.second= num2\n",
    "    def add(self):\n",
    "        self.result = self.first + self.second\n",
    "    def sub(self):\n",
    "        self.result = self.first - self.second"
   ]
  },
  {
   "cell_type": "code",
   "execution_count": 43,
   "id": "e6082e66",
   "metadata": {},
   "outputs": [
    {
     "name": "stdout",
     "output_type": "stream",
     "text": [
      "10\n",
      "20\n",
      "30\n",
      "-10\n"
     ]
    }
   ],
   "source": [
    "cal5 = FourCal()\n",
    "cal5.setData(10, 20)\n",
    "print(cal5.first)\n",
    "print(cal5.second)\n",
    "cal5.add()\n",
    "print(cal5.result)\n",
    "cal5.sub()\n",
    "print(cal5.result)"
   ]
  },
  {
   "cell_type": "code",
   "execution_count": 45,
   "id": "24563bc5",
   "metadata": {},
   "outputs": [],
   "source": [
    "cal6 = FourCal()\n",
    "cal6.setData(10, 20)\n",
    "cal6.add()"
   ]
  },
  {
   "cell_type": "code",
   "execution_count": 52,
   "id": "71c1cd9e",
   "metadata": {},
   "outputs": [],
   "source": [
    "class FourCal:\n",
    "    def __init__(self,num1, num2): # 생성자\n",
    "        self.first = num1\n",
    "        self.second= num2\n",
    "    def add(self):\n",
    "        self.result = self.first + self.second\n",
    "    def div(self):\n",
    "        self.result = self.first / self.second  "
   ]
  },
  {
   "cell_type": "code",
   "execution_count": 51,
   "id": "ce3d08c7",
   "metadata": {},
   "outputs": [
    {
     "name": "stdout",
     "output_type": "stream",
     "text": [
      "30\n"
     ]
    }
   ],
   "source": [
    "cal7 = FourCal(10, 20)\n",
    "cal7.add()\n",
    "print(cal7.result)\n",
    "## __init__함수 : 생성자 : 객체가 생성이 될때 자동으로 실행되는 메서드\n",
    "###                       객체내에 있는 멤버필드를 초기화 시켜준다."
   ]
  },
  {
   "cell_type": "code",
   "execution_count": 74,
   "id": "115e17d0",
   "metadata": {},
   "outputs": [],
   "source": [
    "# 상속\n",
    "class MoreFourCal(FourCal):\n",
    "    '''\n",
    "    def __init__(self,num1, num2): # 생성자\n",
    "        self.first = num1\n",
    "        self.second= num2\n",
    "    def add(self):\n",
    "        self.result = self.first + self.second\n",
    "    def div(self):\n",
    "        self.result = self.first / self.second  \n",
    "    '''\n",
    "    def sub(self):\n",
    "        self.result = self.first - self.second\n",
    "    def mul(self):\n",
    "        self.result = self.first * self.second\n",
    "    def div(self): # 오버라이딩 : 재정의\n",
    "        if self.second == 0:\n",
    "            self.result = 0\n",
    "        else:\n",
    "            self.result = self.first / self.second"
   ]
  },
  {
   "cell_type": "code",
   "execution_count": 56,
   "id": "3af5014e",
   "metadata": {},
   "outputs": [
    {
     "name": "stdout",
     "output_type": "stream",
     "text": [
      "30\n",
      "200\n",
      "2.0\n"
     ]
    }
   ],
   "source": [
    "cal8 = MoreFourCal(20,10)\n",
    "cal8.add()\n",
    "print(cal8.result)\n",
    "cal8.mul()\n",
    "print(cal8.result)\n",
    "cal8.div()\n",
    "print(cal8.result)"
   ]
  },
  {
   "cell_type": "code",
   "execution_count": 57,
   "id": "79d5c45c",
   "metadata": {},
   "outputs": [
    {
     "name": "stdout",
     "output_type": "stream",
     "text": [
      "0.0\n"
     ]
    }
   ],
   "source": [
    "cal9 = MoreFourCal(0,10) # first = 0, second = 10\n",
    "cal9.div() # 0 / 10 = 0 부정\n",
    "print(cal9.result)"
   ]
  },
  {
   "cell_type": "code",
   "execution_count": 76,
   "id": "1b70bbaa",
   "metadata": {},
   "outputs": [
    {
     "name": "stdout",
     "output_type": "stream",
     "text": [
      "0\n"
     ]
    }
   ],
   "source": [
    "cal10 = MoreFourCal(10, 0) # first = 10, second = 0\n",
    "cal10.div() # 10 / 0 : 불능\n",
    "print(cal10.result)"
   ]
  },
  {
   "cell_type": "code",
   "execution_count": 80,
   "id": "568b3266",
   "metadata": {},
   "outputs": [
    {
     "name": "stdout",
     "output_type": "stream",
     "text": [
      "30\n",
      "30\n",
      "3.141592\n"
     ]
    }
   ],
   "source": [
    "# 모듈 : 변수, 상수, 함수 , class를 하나로 모아둔 파일 mod1.py\n",
    "import mod1\n",
    "aaa = mod1.sum11(10, 20)\n",
    "print(aaa)\n",
    "cal13 = mod1.MoreFourCal(10, 20)\n",
    "cal13.add()\n",
    "print(cal13.result)\n",
    "print(mod1.PI)"
   ]
  },
  {
   "cell_type": "code",
   "execution_count": 78,
   "id": "1c60f33a",
   "metadata": {},
   "outputs": [
    {
     "name": "stdout",
     "output_type": "stream",
     "text": [
      "3\n"
     ]
    }
   ],
   "source": [
    "import random\n",
    "num = random.randint(1, 10)\n",
    "print(num)"
   ]
  },
  {
   "cell_type": "code",
   "execution_count": 82,
   "id": "12836674",
   "metadata": {},
   "outputs": [
    {
     "name": "stdout",
     "output_type": "stream",
     "text": [
      "3.141592\n",
      "40\n"
     ]
    }
   ],
   "source": [
    "from mod1 import PI, sum11\n",
    "print(PI)\n",
    "result = sum11(20,20)\n",
    "print(result)"
   ]
  },
  {
   "cell_type": "code",
   "execution_count": 83,
   "id": "51d4bcb9",
   "metadata": {},
   "outputs": [
    {
     "name": "stdout",
     "output_type": "stream",
     "text": [
      "110\n"
     ]
    }
   ],
   "source": [
    "from mod1 import *\n",
    "dddd.add()\n",
    "print(dddd.result)"
   ]
  },
  {
   "cell_type": "code",
   "execution_count": 91,
   "id": "9957f1a6",
   "metadata": {},
   "outputs": [
    {
     "name": "stdout",
     "output_type": "stream",
     "text": [
      "8\n"
     ]
    }
   ],
   "source": []
  },
  {
   "cell_type": "code",
   "execution_count": 92,
   "id": "88b62429",
   "metadata": {},
   "outputs": [
    {
     "name": "stdout",
     "output_type": "stream",
     "text": [
      "9\n"
     ]
    }
   ],
   "source": []
  },
  {
   "cell_type": "code",
   "execution_count": 94,
   "id": "beb1d256",
   "metadata": {},
   "outputs": [
    {
     "name": "stdout",
     "output_type": "stream",
     "text": [
      "[0 0 0 5 9 2]\n"
     ]
    }
   ],
   "source": []
  },
  {
   "cell_type": "code",
   "execution_count": 101,
   "id": "c222e656",
   "metadata": {},
   "outputs": [
    {
     "name": "stdout",
     "output_type": "stream",
     "text": [
      "[0, 0, 0, 5, 9, 2]\n",
      "[0 0 0 5 9 2]\n",
      "0\n",
      "0\n",
      "[0, 0]\n",
      "[0 0]\n"
     ]
    }
   ],
   "source": []
  },
  {
   "cell_type": "code",
   "execution_count": 107,
   "id": "fa332cfa",
   "metadata": {
    "scrolled": true
   },
   "outputs": [
    {
     "name": "stdout",
     "output_type": "stream",
     "text": [
      "[[4 3 4 5]\n",
      " [3 1 9 9]\n",
      " [2 0 5 6]]\n",
      "[[9, 7, 4, 2], [9, 2, 2, 3], [9, 4, 0, 8]]\n",
      "0\n",
      "5\n",
      "4\n",
      "0\n"
     ]
    }
   ],
   "source": []
  },
  {
   "cell_type": "code",
   "execution_count": 118,
   "id": "41998370",
   "metadata": {},
   "outputs": [
    {
     "name": "stdout",
     "output_type": "stream",
     "text": [
      "[0 0 0 5 9 2]\n",
      "[0, 0, 0, 5, 9, 2]\n",
      "5\n",
      "5\n",
      "5\n",
      "5\n",
      "[0, 0, 5, 9]\n",
      "[0 0 5 9]\n",
      "[0, 0, 0, 5, 9, 2]\n",
      "[0 0 0 5 9 2]\n",
      "[0, 0, 9]\n",
      "[0 0 9]\n",
      "[0, 0, 9]\n",
      "[0 0 9]\n",
      "[2, 9, 5, 0, 0, 0]\n",
      "[2 9 5 0 0 0]\n",
      "[0, 0, 0, 10, 9, 2]\n",
      "[ 0  0  0 10  9  2]\n"
     ]
    }
   ],
   "source": []
  },
  {
   "cell_type": "code",
   "execution_count": 127,
   "id": "136289db",
   "metadata": {},
   "outputs": [
    {
     "name": "stdout",
     "output_type": "stream",
     "text": [
      "[[9, 7, 4, 2], [9, 2, 2, 3], [9, 4, 0, 8]]\n",
      "[[4 3 4 5]\n",
      " [3 1 9 9]\n",
      " [2 0 5 6]]\n",
      "2\n",
      "9\n",
      "9\n",
      "2\n",
      "9\n",
      "9\n"
     ]
    }
   ],
   "source": []
  },
  {
   "cell_type": "code",
   "execution_count": 131,
   "id": "81c5e437",
   "metadata": {},
   "outputs": [
    {
     "name": "stdout",
     "output_type": "stream",
     "text": [
      "[2 0 3 0]\n",
      "[[2 4 1 3]]\n",
      "[[[7 9 8 7]]]\n",
      "0\n",
      "4\n",
      "9\n"
     ]
    }
   ],
   "source": []
  },
  {
   "cell_type": "code",
   "execution_count": 136,
   "id": "fd731953",
   "metadata": {},
   "outputs": [
    {
     "name": "stdout",
     "output_type": "stream",
     "text": [
      "[[9, 7, 4, 2], [9, 2, 2, 3], [9, 4, 0, 8]]\n",
      "[[4 3 4 5]\n",
      " [3 1 9 9]\n",
      " [2 0 5 6]]\n",
      "[9, 2, 2, 3]\n",
      "[3 1 9 9]\n",
      "[2, 2]\n",
      "[1 9]\n",
      "[1 9]\n",
      "[[9, 7, 4, 2], [9, 2, 2, 3]]\n",
      "[[4 3 4 5]\n",
      " [3 1 9 9]]\n"
     ]
    }
   ],
   "source": []
  },
  {
   "cell_type": "code",
   "execution_count": 160,
   "id": "8917f5b5",
   "metadata": {},
   "outputs": [
    {
     "name": "stdout",
     "output_type": "stream",
     "text": [
      "[9, 2]\n",
      "[3 1]\n",
      "[[9, 10, 4, 2], [9, 2, 2, 3]]\n",
      "[[ 4 10  4  5]\n",
      " [ 3  1  9  9]]\n",
      "[[10  4]\n",
      " [ 1  9]]\n",
      "[[3 1 9 9]]\n",
      "[[9, 2, 2, 3]]\n",
      "[9, 4]\n",
      "[4 4]\n",
      "[4 4]\n",
      "[[9, 10, 4, 2]]\n",
      "[[ 4 10  4  5]]\n",
      "[[4 4]\n",
      " [2 5]]\n",
      "[[4 4]\n",
      " [3 9]\n",
      " [2 5]]\n",
      "[[ 4 10  4  5]\n",
      " [ 2  0  5  6]]\n",
      "[[9, 4, 0, 8], [9, 2, 2, 3], [9, 10, 4, 2]]\n",
      "[[ 2  0  5  6]\n",
      " [ 3  1  9  9]\n",
      " [ 4 10  4  5]]\n",
      "[[9, 10, 4, 2], [9, 2, 2, 3], [9, 4, 0, 8]]\n",
      "[[9, 4, 0, 8], [9, 2, 2, 3], [9, 10, 4, 2]]\n",
      "[[ 2  0  5  6]\n",
      " [ 3  1  9  9]\n",
      " [ 4 10  4  5]]\n",
      "[[ 5  4 10  4]\n",
      " [ 9  9  1  3]\n",
      " [ 6  5  0  2]]\n",
      "[[ 4 10  4  5]\n",
      " [ 3  1  9  9]\n",
      " [ 2  0  5  6]]\n",
      "[[ 6  5  0  2]\n",
      " [ 9  9  1  3]\n",
      " [ 5  4 10  4]]\n",
      "[9, 10, 4, 2]\n",
      "[ 4 10  4  5]\n",
      "[4 3 2]\n",
      "[4 9 5]\n"
     ]
    }
   ],
   "source": []
  },
  {
   "cell_type": "code",
   "execution_count": 174,
   "id": "108b7ea5",
   "metadata": {},
   "outputs": [
    {
     "name": "stdout",
     "output_type": "stream",
     "text": [
      "[[0 1 2]\n",
      " [3 4 5]\n",
      " [6 7 8]]\n",
      "[[ 0  1  2  3]\n",
      " [ 4  5  6  7]\n",
      " [ 8  9 10 11]]\n",
      "[[ 0  1  2]\n",
      " [ 3  4  5]\n",
      " [ 6  7  8]\n",
      " [ 9 10 11]]\n",
      "[[11 12 13]\n",
      " [14 15 16]\n",
      " [17 18 19]]\n",
      "[[1 2 3]]\n",
      "[[1]\n",
      " [2]\n",
      " [3]]\n"
     ]
    }
   ],
   "source": []
  },
  {
   "cell_type": "code",
   "execution_count": 178,
   "id": "e62a82dd",
   "metadata": {},
   "outputs": [
    {
     "name": "stdout",
     "output_type": "stream",
     "text": [
      "[2 4 5]\n",
      "[2 4 5]\n",
      "[[1 2 3]\n",
      " [4 5 6]\n",
      " [7 8 9]]\n",
      "[[[1 2 3]\n",
      "  [4 5 6]\n",
      "  [7 8 9]]\n",
      "\n",
      " [[1 2 3]\n",
      "  [4 5 6]\n",
      "  [7 8 9]]\n",
      "\n",
      " [[1 2 3]\n",
      "  [4 5 6]\n",
      "  [7 8 9]]]\n"
     ]
    }
   ],
   "source": [
    "#3. array함수를 이용하는 방법\n",
    "i6 = np.array([2,4,5])\n",
    "print(i6)\n",
    "i6 = np.array((2,4,5))\n",
    "print(i6)\n",
    "i7 = np.array([[1,2,3],[4,5,6],[7,8,9]])\n",
    "print(i7)\n",
    "i8 = np.array(\n",
    "    [[[1,2,3],[4,5,6],[7,8,9]],\n",
    "     [[1,2,3],[4,5,6],[7,8,9]],\n",
    "     [[1,2,3],[4,5,6],[7,8,9]]   \n",
    "    ])\n",
    "print(i8)\n",
    "print(i6[2]) # [열]\n",
    "print(i7[1,2]) # [행, 열]\n",
    "print(i8[0,1,2]) # [면, 행, 열]"
   ]
  },
  {
   "cell_type": "code",
   "execution_count": 179,
   "id": "b814aadf",
   "metadata": {},
   "outputs": [
    {
     "name": "stdout",
     "output_type": "stream",
     "text": [
      "[1, 2, 3, 4, 5, 6]\n"
     ]
    }
   ],
   "source": [
    "ll1 = [1,2,3]\n",
    "ll2 = [4,5,6]\n",
    "ll3 = ll1 + ll2\n",
    "print(ll3)"
   ]
  },
  {
   "cell_type": "code",
   "execution_count": 188,
   "id": "353c4968",
   "metadata": {},
   "outputs": [
    {
     "name": "stdout",
     "output_type": "stream",
     "text": [
      "[5 7 9]\n",
      "[1 2 3 4 5 6]\n",
      "[1 2 3]\n",
      "[4 5 6]\n",
      "[1 2 3 4 5 6 7 8 9]\n",
      "[1 2 3 4 5 6 7 8 9]\n",
      "[1 2 3 4 8 9]\n"
     ]
    }
   ],
   "source": [
    "array1 = np.array([1,2,3])\n",
    "array2 = np.array([4,5,6])\n",
    "array3 = array1 + array2\n",
    "print(array3) # 배열에서는 열끼리 덧셈 연산\n",
    "array3 = np.concatenate((array1 , array2))\n",
    "print(array3)\n",
    "print(array1)\n",
    "print(array2)\n",
    "z = [7,8,9]\n",
    "array3 = np.concatenate((array1 , array2, z))\n",
    "print(array3)\n",
    "array3 = np.concatenate(([1,2,3] , [4,5,6], [7,8,9]))\n",
    "print(array3)\n",
    "array3 = np.concatenate(([1,2,3] , [4], [8,9]))\n",
    "print(array3)"
   ]
  },
  {
   "cell_type": "code",
   "execution_count": 196,
   "id": "15363e87",
   "metadata": {},
   "outputs": [
    {
     "name": "stdout",
     "output_type": "stream",
     "text": [
      "[[9 8 7]\n",
      " [6 5 4]\n",
      " [9 8 7]\n",
      " [6 5 4]]\n",
      "[[9 8 7]\n",
      " [6 5 4]\n",
      " [9 8 7]\n",
      " [6 5 4]]\n",
      "[[9 8 7 9 8 7]\n",
      " [6 5 4 6 5 4]]\n",
      "[[9 8 7]\n",
      " [6 5 4]\n",
      " [1 2 3]]\n",
      "[[ 9  8  7 10]\n",
      " [ 6  5  4 20]]\n"
     ]
    }
   ],
   "source": [
    "x2 = np.array([1, 2, 3])\n",
    "grid = np.array([[9, 8, 7], \n",
    "                 [6, 5, 4]])\n",
    "grid1 = np.array([[9, 8, 7], \n",
    "                 [6, 5, 4]])\n",
    "\n",
    "# z = np.concatenate((x2,grid1), axis=0)\n",
    "# 차원의 크기가 같아야 한다.]\n",
    "z = np.concatenate((grid,grid1)) # axis=0은 기본값\n",
    "print(z)\n",
    "z = np.concatenate((grid,grid1), axis=0)\n",
    "print(z)\n",
    "z = np.concatenate((grid,grid1), axis=1)\n",
    "print(z)\n",
    "# 차원이 서로 다른 경우\n",
    "z = np.vstack([grid,x2])\n",
    "print(z)\n",
    "x3 = [[10],[20]]\n",
    "z = np.hstack([grid,x3])\n",
    "print(z)"
   ]
  },
  {
   "cell_type": "code",
   "execution_count": null,
   "id": "e8de6e7f",
   "metadata": {},
   "outputs": [],
   "source": []
  },
  {
   "cell_type": "code",
   "execution_count": null,
   "id": "8230f357",
   "metadata": {},
   "outputs": [],
   "source": []
  }
 ],
 "metadata": {
  "kernelspec": {
   "display_name": "Python 3 (ipykernel)",
   "language": "python",
   "name": "python3"
  },
  "language_info": {
   "codemirror_mode": {
    "name": "ipython",
    "version": 3
   },
   "file_extension": ".py",
   "mimetype": "text/x-python",
   "name": "python",
   "nbconvert_exporter": "python",
   "pygments_lexer": "ipython3",
   "version": "3.8.10"
  }
 },
 "nbformat": 4,
 "nbformat_minor": 5
}
