{
 "cells": [
  {
   "cell_type": "code",
   "execution_count": 1,
   "id": "0b87a467",
   "metadata": {},
   "outputs": [
    {
     "name": "stderr",
     "output_type": "stream",
     "text": [
      "C:\\Users\\HKEDU\\AppData\\Local\\Temp\\ipykernel_12360\\2103804404.py:1: DeprecationWarning: Importing display from IPython.core.display is deprecated since IPython 7.14, please import from IPython display\n",
      "  from IPython.core.display import display, HTML\n"
     ]
    },
    {
     "data": {
      "text/html": [
       "<style>\n",
       "div.container { width:100% !important; }\n",
       "div.CodeMirror {font-family: Consolas; font-size: 25pt;}\n",
       "div.output { font-size: 16pt; font-weight: bold;}\n",
       "div.input { font-family: Consolas; font-size: 25pt;}\n",
       "div.prompt { min-width: 100px;}\n",
       "</style>\n"
      ],
      "text/plain": [
       "<IPython.core.display.HTML object>"
      ]
     },
     "metadata": {},
     "output_type": "display_data"
    }
   ],
   "source": [
    "from IPython.core.display import display, HTML\n",
    "display(HTML(\n",
    "\"\"\"<style>\n",
    "div.container { width:100% !important; }\n",
    "div.CodeMirror {font-family: Consolas; font-size: 25pt;}\n",
    "div.output { font-size: 16pt; font-weight: bold;}\n",
    "div.input { font-family: Consolas; font-size: 25pt;}\n",
    "div.prompt { min-width: 100px;}\n",
    "</style>\n",
    "\"\"\"))"
   ]
  },
  {
   "cell_type": "code",
   "execution_count": 57,
   "id": "db11b95b",
   "metadata": {},
   "outputs": [
    {
     "name": "stdout",
     "output_type": "stream",
     "text": [
      "1.계좌번호생성 | 2.계좌목록 | 3.예금 | 4.출금 | 5.종료 \n",
      "번호를 입력해주세요 : 1\n",
      "1. 계좌번호생성\n",
      "계좌번호를 입력해주세요. : 1111\n",
      "계좌주를 입력해주세요 : 1111\n",
      "금액을 입력해주세요 :100\n",
      "번호를 입력해주세요 : 1\n",
      "1. 계좌번호생성\n",
      "계좌번호를 입력해주세요. : 2222\n",
      "계좌주를 입력해주세요 : 2222\n",
      "금액을 입력해주세요 :100\n",
      "번호를 입력해주세요 : 2\n",
      "2.계좌목록\n",
      "계좌번호\t계좌주\t\t잔액\n",
      "1111\t\t1111\t\t100\n",
      "2222\t\t2222\t\t100\n",
      "\n",
      "번호를 입력해주세요 : 3\n",
      "3.예금\n",
      "계좌번호를 입력해주세요. : 1111\n",
      "금액을 입력해주세요 :100\n",
      "번호를 입력해주세요 : 2\n",
      "2.계좌목록\n",
      "계좌번호\t계좌주\t\t잔액\n",
      "1111\t\t1111\t\t200\n",
      "2222\t\t2222\t\t100\n",
      "\n",
      "번호를 입력해주세요 : 5\n",
      "5.종료\n"
     ]
    }
   ],
   "source": [
    "print(\"1.계좌번호생성 | 2.계좌목록 | 3.예금 | 4.출금 | 5.종료 \")\n",
    "while True:\n",
    "    a = Account()\n",
    "    num = input(\"번호를 입력해주세요 : \")\n",
    "    if num == \"1\":\n",
    "        print(\"1. 계좌번호생성\")\n",
    "        accounNo = input(\"계좌번호를 입력해주세요. : \")\n",
    "        owner = input(\"계좌주를 입력해주세요 : \")\n",
    "        money = input(\"금액을 입력해주세요 :\")\n",
    "        a.setData(accounNo,owner,money)\n",
    "        a.createAccount()\n",
    "    elif num == \"2\" :\n",
    "        print(\"2.계좌목록\")\n",
    "        a.accountPrint()\n",
    "    elif num == \"3\" :\n",
    "        print(\"3.예금\")\n",
    "        accounNo = input(\"계좌번호를 입력해주세요. : \")\n",
    "        money = input(\"금액을 입력해주세요 :\")\n",
    "        a.deposit(accounNo, money)\n",
    "    elif num == \"4\" :\n",
    "        accounNo = input(\"계좌번호를 입력해주세요. : \")\n",
    "        money = input(\"금액을 입력해주세요 :\")\n",
    "        print(\"4.출금\")\n",
    "        a.withDraw(accounNo, money)\n",
    "    else:\n",
    "        print(\"5.종료\")\n",
    "        break"
   ]
  },
  {
   "cell_type": "code",
   "execution_count": 58,
   "id": "a4173bb9",
   "metadata": {},
   "outputs": [],
   "source": [
    "class Account:\n",
    "    #accounNo = 0\n",
    "    #owner = 0 \n",
    "    #money = 0\n",
    "    def setData(self,accounNo,owner,money ):\n",
    "        self.accounNo = accounNo\n",
    "        self.owner = owner\n",
    "        self.money = money\n",
    "        \n",
    "    def createAccount(self):\n",
    "        with open(\"account.csv\", \"a\") as f:\n",
    "            f.write(f\"{self.accounNo}\\t\\t{self.owner}\\t\\t{self.money}\\n\")\n",
    "\n",
    "    def accountPrint(self):\n",
    "        print(\"계좌번호\\t계좌주\\t\\t잔액\")\n",
    "        with open(\"account.csv\", \"r\") as f:\n",
    "            data = f.read()\n",
    "        print(data)\n",
    "    def deposit(self, accounNo, money):\n",
    "        dataList = []\n",
    "        with open(\"account.csv\" ,\"r\") as f:\n",
    "            while True:\n",
    "                line = f.readline()\n",
    "                if not line:\n",
    "                    break\n",
    "                else:                                           #   0    1    2\n",
    "                    data = line.replace(\"\\n\",\"\").split(\"\\t\\t\") # [1111,1111,100\\n]\n",
    "                    if data[0] == accounNo:\n",
    "                        data[2] = str(int(data[2]) + int(money))\n",
    "                    dataList.append(data)\n",
    "        with open(\"account.csv\" ,\"w\") as f:\n",
    "            for l in dataList:\n",
    "                f.write(f\"{l[0]}\\t\\t{l[1]}\\t\\t{l[2]}\\n\")\n",
    "    \n",
    "    def withDraw(self, accounNo, money):\n",
    "        dataList = []\n",
    "        with open(\"account.csv\" ,\"r\") as f:\n",
    "            while True:\n",
    "                line = f.readline()\n",
    "                if not line:\n",
    "                    break\n",
    "                else:                                           #   0    1    2\n",
    "                    data = line.replace(\"\\n\",\"\").split(\"\\t\\t\") # [1111,1111,100\\n]\n",
    "                    if data[0] == accounNo:\n",
    "                        data[2] = str(int(data[2]) - int(money))\n",
    "                    dataList.append(data)\n",
    "        with open(\"account.csv\" ,\"w\") as f:\n",
    "            for l in dataList:\n",
    "                f.write(f\"{l[0]}\\t\\t{l[1]}\\t\\t{l[2]}\\n\")"
   ]
  },
  {
   "cell_type": "code",
   "execution_count": null,
   "id": "e9cffa8d",
   "metadata": {},
   "outputs": [],
   "source": [
    "'''\n",
    "Comma Separated Values : csv\n",
    "Tab Separated Values : tsv\n",
    "'''"
   ]
  },
  {
   "cell_type": "code",
   "execution_count": null,
   "id": "f7c614c4",
   "metadata": {},
   "outputs": [],
   "source": []
  },
  {
   "cell_type": "code",
   "execution_count": null,
   "id": "487c9b6e",
   "metadata": {},
   "outputs": [],
   "source": []
  },
  {
   "cell_type": "code",
   "execution_count": null,
   "id": "fa217daf",
   "metadata": {},
   "outputs": [],
   "source": []
  },
  {
   "cell_type": "code",
   "execution_count": null,
   "id": "fa531cf6",
   "metadata": {},
   "outputs": [],
   "source": []
  },
  {
   "cell_type": "code",
   "execution_count": null,
   "id": "b0155cdf",
   "metadata": {},
   "outputs": [],
   "source": []
  },
  {
   "cell_type": "code",
   "execution_count": null,
   "id": "65e44ef8",
   "metadata": {},
   "outputs": [],
   "source": []
  },
  {
   "cell_type": "code",
   "execution_count": null,
   "id": "1f942bc3",
   "metadata": {},
   "outputs": [],
   "source": []
  },
  {
   "cell_type": "code",
   "execution_count": null,
   "id": "c31abaf1",
   "metadata": {},
   "outputs": [],
   "source": []
  },
  {
   "cell_type": "code",
   "execution_count": null,
   "id": "077ec23d",
   "metadata": {},
   "outputs": [],
   "source": []
  },
  {
   "cell_type": "code",
   "execution_count": null,
   "id": "d2645137",
   "metadata": {},
   "outputs": [],
   "source": []
  }
 ],
 "metadata": {
  "kernelspec": {
   "display_name": "Python 3 (ipykernel)",
   "language": "python",
   "name": "python3"
  },
  "language_info": {
   "codemirror_mode": {
    "name": "ipython",
    "version": 3
   },
   "file_extension": ".py",
   "mimetype": "text/x-python",
   "name": "python",
   "nbconvert_exporter": "python",
   "pygments_lexer": "ipython3",
   "version": "3.8.10"
  }
 },
 "nbformat": 4,
 "nbformat_minor": 5
}
