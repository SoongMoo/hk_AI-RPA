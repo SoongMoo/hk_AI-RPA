{
 "cells": [
  {
   "cell_type": "code",
   "execution_count": 1,
   "id": "4bc0c7b1",
   "metadata": {},
   "outputs": [
    {
     "name": "stderr",
     "output_type": "stream",
     "text": [
      "C:\\Users\\HKEDU\\AppData\\Local\\Temp\\ipykernel_3124\\1014303460.py:1: DeprecationWarning: Importing display from IPython.core.display is deprecated since IPython 7.14, please import from IPython display\n",
      "  from IPython.core.display import display, HTML\n"
     ]
    },
    {
     "data": {
      "text/html": [
       "<style>\n",
       "div.container { width:100% !important; }\n",
       "div.CodeMirror {font-family: Consolas; font-size: 30pt;}\n",
       "div.output { font-size: 20pt; font-weight: bold;}\n",
       "div.input { font-family: Consolas; font-size: 30pt;}\n",
       "div.prompt { min-width: 100px;}\n",
       "</style>\n"
      ],
      "text/plain": [
       "<IPython.core.display.HTML object>"
      ]
     },
     "metadata": {},
     "output_type": "display_data"
    }
   ],
   "source": [
    "from IPython.core.display import display, HTML\n",
    "display(HTML(\n",
    "\"\"\"<style>\n",
    "div.container { width:100% !important; }\n",
    "div.CodeMirror {font-family: Consolas; font-size: 30pt;}\n",
    "div.output { font-size: 20pt; font-weight: bold;}\n",
    "div.input { font-family: Consolas; font-size: 30pt;}\n",
    "div.prompt { min-width: 100px;}\n",
    "</style>\n",
    "\"\"\"))"
   ]
  },
  {
   "cell_type": "code",
   "execution_count": 6,
   "id": "3ac0a573",
   "metadata": {},
   "outputs": [
    {
     "name": "stdout",
     "output_type": "stream",
     "text": [
      "입력값 : (0, 0) ,출력값 : 0\n",
      "입력값 : (1, 0) ,출력값 : 1\n",
      "입력값 : (0, 1) ,출력값 : 1\n",
      "입력값 : (1, 1) ,출력값 : 0\n"
     ]
    }
   ],
   "source": [
    "import numpy as np\n",
    "w11 = np.array([-2, -2])  ### NAND\n",
    "w12 = np.array([2, 2])    ## OR\n",
    "w2 = np.array([1, 1])     ## AND\n",
    "b1 = 3      ### NAND\n",
    "b2 = -1     ## OR\n",
    "b3 = -1     ## AND\n",
    "x = [(0, 0), (1, 0), (0, 1), (1, 1)]\n",
    "#       0       1       1      0\n",
    "def MLP(x, w , b):\n",
    "    y = np.sum(w * x) + b;\n",
    "    if y <= 0:\n",
    "        return 0\n",
    "    else:\n",
    "        return 1\n",
    "# NAND 게이트\n",
    "def NAND(x1 , x2):\n",
    "    return MLP(np.array([x1, x2] ),w11,b1)\n",
    "\n",
    "# OR 게이트\n",
    "def OR(x1 , x2):\n",
    "    return MLP(np.array([x1, x2]),w12,b2 )\n",
    "\n",
    "# AND 게이트\n",
    "def AND(x1 , x2):\n",
    "    return MLP(np.array([x1, x2] ),w2,b3 )\n",
    "\n",
    "# XOR게이트\n",
    "def XOR(x1 ,x2):\n",
    "    return AND(NAND(x1 , x2), OR(x1 , x2))\n",
    "for i in x:\n",
    "    y = XOR(i[0],i[1])\n",
    "    print(f\"입력값 : {i} ,출력값 : {y}\")"
   ]
  },
  {
   "cell_type": "code",
   "execution_count": null,
   "id": "a7832852",
   "metadata": {},
   "outputs": [],
   "source": []
  },
  {
   "cell_type": "code",
   "execution_count": null,
   "id": "b2375090",
   "metadata": {},
   "outputs": [],
   "source": []
  },
  {
   "cell_type": "code",
   "execution_count": null,
   "id": "77b62080",
   "metadata": {},
   "outputs": [],
   "source": []
  },
  {
   "cell_type": "code",
   "execution_count": null,
   "id": "f38108c2",
   "metadata": {},
   "outputs": [],
   "source": []
  },
  {
   "cell_type": "code",
   "execution_count": null,
   "id": "3d6b79d6",
   "metadata": {},
   "outputs": [],
   "source": []
  },
  {
   "cell_type": "code",
   "execution_count": null,
   "id": "989bebaa",
   "metadata": {},
   "outputs": [],
   "source": []
  }
 ],
 "metadata": {
  "kernelspec": {
   "display_name": "Python 3 (ipykernel)",
   "language": "python",
   "name": "python3"
  },
  "language_info": {
   "codemirror_mode": {
    "name": "ipython",
    "version": 3
   },
   "file_extension": ".py",
   "mimetype": "text/x-python",
   "name": "python",
   "nbconvert_exporter": "python",
   "pygments_lexer": "ipython3",
   "version": "3.8.10"
  }
 },
 "nbformat": 4,
 "nbformat_minor": 5
}
